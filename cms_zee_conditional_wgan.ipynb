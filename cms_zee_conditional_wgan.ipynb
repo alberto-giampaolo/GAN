{
 "cells": [
  {
   "cell_type": "code",
   "execution_count": 1,
   "metadata": {},
   "outputs": [
    {
     "name": "stderr",
     "output_type": "stream",
     "text": [
      "Using TensorFlow backend.\n"
     ]
    }
   ],
   "source": [
    "import GAN.models as models\n",
    "import GAN.cms_datasets as cms\n",
    "import GAN.plotting as plotting\n",
    "import GAN.preprocessing as preprocessing\n",
    "import GAN.base as base"
   ]
  },
  {
   "cell_type": "code",
   "execution_count": 2,
   "metadata": {
    "collapsed": true
   },
   "outputs": [],
   "source": [
    "# import os\n",
    "# os.environ"
   ]
  },
  {
   "cell_type": "code",
   "execution_count": 3,
   "metadata": {},
   "outputs": [
    {
     "data": {
      "text/plain": [
       "{'AM_OPTS': {'loss': 'wgan_loss',\n",
       "  'opt_kwargs': {'lr': 2e-05},\n",
       "  'optimizer': 'RMSprop'},\n",
       " 'BATCH_SIZE': 4096,\n",
       " 'C_NAMES': ['Phi', 'ScEta'],\n",
       " 'DM_OPTS': {'loss': 'wgan_loss',\n",
       "  'opt_kwargs': {'lr': 2e-05},\n",
       "  'optimizer': 'RMSprop'},\n",
       " 'D_OPTS': {'activation': None,\n",
       "  'clip_weights': 0.02,\n",
       "  'do_bn': False,\n",
       "  'kernel_sizes': [256, 256, 256, 256, 256],\n",
       "  'name': 'D_256x5'},\n",
       " 'EPOCHS': 200,\n",
       " 'FEAT_TRANSFORM': 'minmax',\n",
       " 'FRAC_DATA': 10,\n",
       " 'GAN_TARGETS': 'gan_targets_hinge',\n",
       " 'G_OPTS': {'do_bn': False,\n",
       "  'do_dropout': False,\n",
       "  'do_nl_activ': ['relu', 'tanh', 'relu', 'tanh', 'relu', 'tanh', 'relu'],\n",
       "  'kernel_sizes': [32, 64, 64, 128, 128],\n",
       "  'name': 'G_128x7'},\n",
       " 'LOAD_DATASETS': ['moriond_v9', 'abs(ScEta) < 1.5'],\n",
       " 'LOSS': 'wgan_loss',\n",
       " 'MCWEIGHT': 'weight',\n",
       " 'MONITOR_DIR': 'log',\n",
       " 'PLOT_EVERY': 10,\n",
       " 'PRETRAIN_G': False,\n",
       " 'REWEIGHT': 'rewei_zee_barrel.npy',\n",
       " 'SCHEDULE': [0, 0, 0, 0, 0, 1],\n",
       " 'X_NAMES': ['EtaWidth', 'R9']}"
      ]
     },
     "execution_count": 3,
     "metadata": {},
     "output_type": "execute_result"
    }
   ],
   "source": [
    "import GAN.utils as utils\n",
    "\n",
    "reload(utils)\n",
    "\n",
    "class Parameters(utils.Parameters):\n",
    "    \n",
    "    load_datasets=utils.param([\"moriond_v9\",\"abs(ScEta) < 1.5\"])\n",
    "\n",
    "#     c_names = utils.param(['Pt','ScEta','Phi','rho'])\n",
    "#     x_names = utils.param(['R9','SigmaIeIe','S4','EtaWidth','PhiWidth','CovarianceIetaIphi',\n",
    "#                'CovarianceIphiIphi', ])\n",
    "    c_names = utils.param(['Phi','ScEta'])\n",
    "    x_names = utils.param(['EtaWidth','R9'])\n",
    "    reweight = utils.param('rewei_zee_barrel.npy')\n",
    "    mcweight = utils.param('weight')\n",
    "    \n",
    "    feat_transform = utils.param('minmax')\n",
    "    \n",
    "    g_opts=utils.param(dict(name=\"G_128to32x7\",kernel_sizes=[32]+[64]*2+[128]*2, # kernel_sizes=[128]*7,\n",
    "                            # do_nl_activ=\"tanh\",\n",
    "                            do_nl_activ=[\"relu\",\"tanh\"]*3+[\"relu\"],\n",
    "                            do_bn=False,do_dropout=False))\n",
    "    pretrain_g = utils.param(False)\n",
    "    d_opts=utils.param(dict(name=\"D_256x5\",kernel_sizes=[256]*5,do_bn=True,\n",
    "                        clip_weights=2.e-2,activation=None)) # weights clipping and no actication\n",
    "    #dm_opts=utils.param(dict(optimizer=\"RMSprop\",opt_kwargs=dict(lr=0.00002, decay=6e-6)))\n",
    "    #am_opts=utils.param(dict(optimizer=\"RMSprop\",opt_kwargs=dict(lr=0.00002, decay=6e-6)))\n",
    "    dm_opts=utils.param(dict(optimizer=\"RMSprop\",opt_kwargs=dict(lr=0.00002)))#, decay=6e-6)))\n",
    "    am_opts=utils.param(dict(optimizer=\"RMSprop\",opt_kwargs=dict(lr=0.00002)))#, decay=6e-6)))\n",
    "    \n",
    "    \n",
    "    epochs=utils.param(200)\n",
    "    batch_size=utils.param(4096)\n",
    "    plot_every=utils.param(10)\n",
    "    \n",
    "    frac_data=utils.param(10)\n",
    "    \n",
    "    loss = utils.param(\"wgan_loss\") # use WGAN loss \n",
    "    gan_targets = utils.param('gan_targets_hinge') # hinge targets are 1, -1 instead of 0, 1\n",
    "    schedule = utils.param([0]*5+[1]*1) # number of critic iterations per generator iterations\n",
    "    \n",
    "    monitor_dir = utils.param('log')\n",
    "    \n",
    "class MyApp(utils.MyApp):\n",
    "    classes = utils.List([Parameters])\n",
    "\n",
    "# Read all parameters above from command line. \n",
    "# Note: names are all converted to be all capital\n",
    "notebook_parameters = Parameters(MyApp()).get_params()\n",
    "\n",
    "# copy parameters to global scope\n",
    "globals().update(notebook_parameters)\n",
    "DM_OPTS.update( {\"loss\":LOSS} )\n",
    "AM_OPTS.update( {\"loss\":LOSS} )\n",
    "notebook_parameters\n"
   ]
  },
  {
   "cell_type": "code",
   "execution_count": 4,
   "metadata": {
    "collapsed": true
   },
   "outputs": [],
   "source": [
    "reload(cms)\n",
    "\n",
    "data,mc = cms.load_zee(*LOAD_DATASETS)\n"
   ]
  },
  {
   "cell_type": "code",
   "execution_count": 5,
   "metadata": {
    "scrolled": true
   },
   "outputs": [
    {
     "data": {
      "text/plain": [
       "Index(['index', 'run', 'rho', 'nvtx', 'mass', 'weight', 'SigMoM', 'Pt',\n",
       "       'ScEta', 'Phi', 'R9', 'S4', 'SigmaIeIe', 'EtaWidth', 'PhiWidth',\n",
       "       'CovarianceIphiIphi', 'SigmaRR', 'ScEnergy', 'CovarianceIetaIphi',\n",
       "       'PhoIso03', 'ChIso03', 'ChIso03worst', 'ScPreshowerEnergy', 'PhoIDMVA',\n",
       "       'SigEOverE', 'run_quantile'],\n",
       "      dtype='object')"
      ]
     },
     "execution_count": 5,
     "metadata": {},
     "output_type": "execute_result"
    }
   ],
   "source": [
    "data.columns"
   ]
  },
  {
   "cell_type": "code",
   "execution_count": 6,
   "metadata": {},
   "outputs": [
    {
     "data": {
      "text/plain": [
       "Index(['index', 'run', 'rho', 'nvtx', 'mass', 'weight', 'SigMoM', 'Pt',\n",
       "       'ScEta', 'Phi', 'R9', 'S4', 'SigmaIeIe', 'EtaWidth', 'PhiWidth',\n",
       "       'CovarianceIphiIphi', 'SigmaRR', 'ScEnergy', 'CovarianceIetaIphi',\n",
       "       'PhoIso03', 'ChIso03', 'ChIso03worst', 'ScPreshowerEnergy', 'PhoIDMVA',\n",
       "       'SigEOverE'],\n",
       "      dtype='object')"
      ]
     },
     "execution_count": 6,
     "metadata": {},
     "output_type": "execute_result"
    }
   ],
   "source": [
    "mc.columns"
   ]
  },
  {
   "cell_type": "code",
   "execution_count": 7,
   "metadata": {
    "collapsed": true
   },
   "outputs": [],
   "source": [
    "c_names = C_NAMES\n",
    "x_names = X_NAMES\n",
    "\n",
    "data_c = data[c_names]\n",
    "data_x = data[x_names]\n",
    "\n",
    "mc_c = mc[c_names]\n",
    "mc_x = mc[x_names]\n"
   ]
  },
  {
   "cell_type": "code",
   "execution_count": 8,
   "metadata": {},
   "outputs": [
    {
     "data": {
      "text/plain": [
       "(Index(['EtaWidth', 'R9'], dtype='object'),\n",
       " (17520217, 2),\n",
       " Index(['Phi', 'ScEta'], dtype='object'),\n",
       " (17520217, 2))"
      ]
     },
     "execution_count": 8,
     "metadata": {},
     "output_type": "execute_result"
    }
   ],
   "source": [
    "data_x.columns, data_x.shape, data_c.columns, data_c.shape"
   ]
  },
  {
   "cell_type": "code",
   "execution_count": 9,
   "metadata": {},
   "outputs": [
    {
     "data": {
      "text/plain": [
       "(Index(['EtaWidth', 'R9'], dtype='object'),\n",
       " Index(['Phi', 'ScEta'], dtype='object'))"
      ]
     },
     "execution_count": 9,
     "metadata": {},
     "output_type": "execute_result"
    }
   ],
   "source": [
    "data_x.columns, data_c.columns"
   ]
  },
  {
   "cell_type": "code",
   "execution_count": 10,
   "metadata": {},
   "outputs": [
    {
     "data": {
      "text/plain": [
       "(Index(['EtaWidth', 'R9'], dtype='object'),\n",
       " Index(['Phi', 'ScEta'], dtype='object'))"
      ]
     },
     "execution_count": 10,
     "metadata": {},
     "output_type": "execute_result"
    }
   ],
   "source": [
    "mc_x.columns, mc_c.columns"
   ]
  },
  {
   "cell_type": "code",
   "execution_count": 11,
   "metadata": {},
   "outputs": [
    {
     "name": "stdout",
     "output_type": "stream",
     "text": [
      "[ -3.13999963e+00  -3.01439953e+00  -2.88879967e+00  -2.76319957e+00\n",
      "  -2.63759971e+00  -2.51199961e+00  -2.38639975e+00  -2.26079965e+00\n",
      "  -2.13519979e+00  -2.00959969e+00  -1.88399971e+00  -1.75839972e+00\n",
      "  -1.63279974e+00  -1.50719976e+00  -1.38159978e+00  -1.25599980e+00\n",
      "  -1.13039982e+00  -1.00479984e+00  -8.79199803e-01  -7.53599823e-01\n",
      "  -6.27999842e-01  -5.02399862e-01  -3.76799852e-01  -2.51199871e-01\n",
      "  -1.25599876e-01   1.19209290e-07   1.25600114e-01   2.51200110e-01\n",
      "   3.76800090e-01   5.02400100e-01   6.28000081e-01   7.53600061e-01\n",
      "   8.79200041e-01   1.00480008e+00   1.13040006e+00   1.25600004e+00\n",
      "   1.38160002e+00   1.50720000e+00   1.63279998e+00   1.75839996e+00\n",
      "   1.88399994e+00   2.00959992e+00   2.13520002e+00   2.26079988e+00\n",
      "   2.38639998e+00   2.51199985e+00   2.63759995e+00   2.76319981e+00\n",
      "   2.88879991e+00   3.01439977e+00   3.13999987e+00]\n"
     ]
    }
   ],
   "source": [
    "reload(preprocessing)\n",
    "if not REWEIGHT is None:\n",
    "    info = np.load(REWEIGHT)\n",
    "    inputs = info[0]\n",
    "    weights = info[1]\n",
    "    bins = info[2:]\n",
    "    print(bins[1])\n",
    "    mc_w = preprocessing.reweight(mc,inputs,bins,weights,MCWEIGHT)\n",
    "elif MCWEIGHT is None:\n",
    "    mc_w = np.ones(mc_x.shape[0])\n",
    "else:\n",
    "    mc_w = mc[MCWEIGHT]\n",
    "    \n",
    "data_w = np.ones(data_x.shape[0])"
   ]
  },
  {
   "cell_type": "code",
   "execution_count": null,
   "metadata": {
    "collapsed": true
   },
   "outputs": [],
   "source": []
  },
  {
   "cell_type": "code",
   "execution_count": 12,
   "metadata": {
    "collapsed": true
   },
   "outputs": [],
   "source": [
    "reload(models)\n",
    "\n",
    "xz_shape = (1,len(x_names))\n",
    "c_shape = (1,len(c_names))\n",
    "gan = models.MyFFGAN( xz_shape, xz_shape, c_shape=c_shape,\n",
    "                     g_opts=G_OPTS,\n",
    "                     d_opts=D_OPTS,\n",
    "                     dm_opts=DM_OPTS,\n",
    "                     am_opts=AM_OPTS,\n",
    "                     gan_targets=GAN_TARGETS\n",
    "                    )"
   ]
  },
  {
   "cell_type": "code",
   "execution_count": null,
   "metadata": {
    "collapsed": true
   },
   "outputs": [],
   "source": []
  },
  {
   "cell_type": "code",
   "execution_count": 13,
   "metadata": {},
   "outputs": [
    {
     "name": "stdout",
     "output_type": "stream",
     "text": [
      "(1, 2)\n"
     ]
    },
    {
     "data": {
      "text/plain": [
       "<keras.engine.training.Model at 0x2ae05ad6e588>"
      ]
     },
     "execution_count": 13,
     "metadata": {},
     "output_type": "execute_result"
    }
   ],
   "source": [
    "gan.get_generator()"
   ]
  },
  {
   "cell_type": "code",
   "execution_count": 14,
   "metadata": {},
   "outputs": [
    {
     "name": "stdout",
     "output_type": "stream",
     "text": [
      "WeightClip 0.02\n",
      "WeightClip 0.02\n",
      "WeightClip 0.02\n",
      "WeightClip 0.02\n",
      "WeightClip 0.02\n",
      "WeightClip 0.02\n"
     ]
    },
    {
     "data": {
      "text/plain": [
       "(<keras.engine.training.Model at 0x2ae05afd5828>,\n",
       " <keras.engine.training.Model at 0x2ae05afd5ef0>)"
      ]
     },
     "execution_count": 14,
     "metadata": {},
     "output_type": "execute_result"
    }
   ],
   "source": [
    "gan.get_discriminator()"
   ]
  },
  {
   "cell_type": "code",
   "execution_count": 15,
   "metadata": {},
   "outputs": [
    {
     "name": "stdout",
     "output_type": "stream",
     "text": [
      "wgan_loss\n"
     ]
    }
   ],
   "source": [
    "gan.adversarial_compile(loss=LOSS,schedule=SCHEDULE)"
   ]
  },
  {
   "cell_type": "code",
   "execution_count": 16,
   "metadata": {
    "scrolled": false
   },
   "outputs": [
    {
     "name": "stdout",
     "output_type": "stream",
     "text": [
      "____________________________________________________________________________________________________\n",
      "Layer (type)                     Output Shape          Param #     Connected to                     \n",
      "====================================================================================================\n",
      "G_128x7_c_input (InputLayer)     (None, 1, 2)          0                                            \n",
      "____________________________________________________________________________________________________\n",
      "G_128x7_input (InputLayer)       (None, 1, 2)          0                                            \n",
      "____________________________________________________________________________________________________\n",
      "G_128x7_all_inputs (Concatenate) (None, 1, 4)          0           G_128x7_c_input[0][0]            \n",
      "                                                                   G_128x7_input[0][0]              \n",
      "____________________________________________________________________________________________________\n",
      "G_128x7_up1_dense (Dense)        (None, 1, 128)        640         G_128x7_all_inputs[0][0]         \n",
      "____________________________________________________________________________________________________\n",
      "G_128x7_up1_activ (Activation)   (None, 1, 128)        0           G_128x7_up1_dense[0][0]          \n",
      "____________________________________________________________________________________________________\n",
      "G_128x7_up2_dense (Dense)        (None, 1, 128)        16512       G_128x7_up1_activ[0][0]          \n",
      "____________________________________________________________________________________________________\n",
      "G_128x7_up2_activ (Activation)   (None, 1, 128)        0           G_128x7_up2_dense[0][0]          \n",
      "____________________________________________________________________________________________________\n",
      "G_128x7_up3_dense (Dense)        (None, 1, 64)         8256        G_128x7_up2_activ[0][0]          \n",
      "____________________________________________________________________________________________________\n",
      "G_128x7_up3_activ (Activation)   (None, 1, 64)         0           G_128x7_up3_dense[0][0]          \n",
      "____________________________________________________________________________________________________\n",
      "G_128x7_up4_dense (Dense)        (None, 1, 64)         4160        G_128x7_up3_activ[0][0]          \n",
      "____________________________________________________________________________________________________\n",
      "G_128x7_up4_activ (Activation)   (None, 1, 64)         0           G_128x7_up4_dense[0][0]          \n",
      "____________________________________________________________________________________________________\n",
      "G_128x7_up5_dense (Dense)        (None, 1, 32)         2080        G_128x7_up4_activ[0][0]          \n",
      "____________________________________________________________________________________________________\n",
      "G_128x7_up5_activ (Activation)   (None, 1, 32)         0           G_128x7_up5_dense[0][0]          \n",
      "____________________________________________________________________________________________________\n",
      "G_128x7_output (Dense)           (None, 1, 2)          66          G_128x7_up5_activ[0][0]          \n",
      "____________________________________________________________________________________________________\n",
      "G_128x7_add (Add)                (None, 1, 2)          0           G_128x7_input[0][0]              \n",
      "                                                                   G_128x7_output[0][0]             \n",
      "====================================================================================================\n",
      "Total params: 31,714\n",
      "Trainable params: 31,714\n",
      "Non-trainable params: 0\n",
      "____________________________________________________________________________________________________\n"
     ]
    }
   ],
   "source": [
    "gan.get_generator().summary()"
   ]
  },
  {
   "cell_type": "code",
   "execution_count": 17,
   "metadata": {
    "scrolled": false
   },
   "outputs": [
    {
     "name": "stdout",
     "output_type": "stream",
     "text": [
      "____________________________________________________________________________________________________\n",
      "Layer (type)                     Output Shape          Param #     Connected to                     \n",
      "====================================================================================================\n",
      "D_256x5_c_input (InputLayer)     (None, 1, 2)          0                                            \n",
      "____________________________________________________________________________________________________\n",
      "D_256x5_input (InputLayer)       (None, 1, 2)          0                                            \n",
      "____________________________________________________________________________________________________\n",
      "D_256x5_all_inputs (Concatenate) (None, 1, 4)          0           D_256x5_c_input[0][0]            \n",
      "                                                                   D_256x5_input[0][0]              \n",
      "____________________________________________________________________________________________________\n",
      "D_256x5_down1_dense (Dense)      (None, 1, 256)        1280        D_256x5_all_inputs[0][0]         \n",
      "____________________________________________________________________________________________________\n",
      "D_256x5_down1_activ (Activation) (None, 1, 256)        0           D_256x5_down1_dense[0][0]        \n",
      "____________________________________________________________________________________________________\n",
      "D_256x5_down2_dense (Dense)      (None, 1, 256)        65792       D_256x5_down1_activ[0][0]        \n",
      "____________________________________________________________________________________________________\n",
      "D_256x5_down2_activ (Activation) (None, 1, 256)        0           D_256x5_down2_dense[0][0]        \n",
      "____________________________________________________________________________________________________\n",
      "D_256x5_down3_dense (Dense)      (None, 1, 256)        65792       D_256x5_down2_activ[0][0]        \n",
      "____________________________________________________________________________________________________\n",
      "D_256x5_down3_activ (Activation) (None, 1, 256)        0           D_256x5_down3_dense[0][0]        \n",
      "____________________________________________________________________________________________________\n",
      "D_256x5_down4_dense (Dense)      (None, 1, 256)        65792       D_256x5_down3_activ[0][0]        \n",
      "____________________________________________________________________________________________________\n",
      "D_256x5_down4_activ (Activation) (None, 1, 256)        0           D_256x5_down4_dense[0][0]        \n",
      "____________________________________________________________________________________________________\n",
      "D_256x5_down5_dense (Dense)      (None, 1, 256)        65792       D_256x5_down4_activ[0][0]        \n",
      "____________________________________________________________________________________________________\n",
      "D_256x5_down5_activ (Activation) (None, 1, 256)        0           D_256x5_down5_dense[0][0]        \n",
      "____________________________________________________________________________________________________\n",
      "D_256x5_flat (Flatten)           (None, 256)           0           D_256x5_down5_activ[0][0]        \n",
      "____________________________________________________________________________________________________\n",
      "D_256x5_output (Dense)           (None, 1)             257         D_256x5_flat[0][0]               \n",
      "====================================================================================================\n",
      "Total params: 264,705\n",
      "Trainable params: 264,705\n",
      "Non-trainable params: 0\n",
      "____________________________________________________________________________________________________\n"
     ]
    }
   ],
   "source": [
    "gan.get_discriminator()[0].summary()"
   ]
  },
  {
   "cell_type": "code",
   "execution_count": 18,
   "metadata": {},
   "outputs": [
    {
     "name": "stdout",
     "output_type": "stream",
     "text": [
      "____________________________________________________________________________________________________\n",
      "Layer (type)                     Output Shape          Param #     Connected to                     \n",
      "====================================================================================================\n",
      "D_256x5_c_input (InputLayer)     (None, 1, 2)          0                                            \n",
      "____________________________________________________________________________________________________\n",
      "D_256x5_input (InputLayer)       (None, 1, 2)          0                                            \n",
      "____________________________________________________________________________________________________\n",
      "D_256x5_all_inputs (Concatenate) (None, 1, 4)          0           D_256x5_c_input[0][0]            \n",
      "                                                                   D_256x5_input[0][0]              \n",
      "____________________________________________________________________________________________________\n",
      "D_256x5_down1_dense (Dense)      (None, 1, 256)        1280        D_256x5_all_inputs[0][0]         \n",
      "____________________________________________________________________________________________________\n",
      "D_256x5_down1_activ (Activation) (None, 1, 256)        0           D_256x5_down1_dense[1][0]        \n",
      "____________________________________________________________________________________________________\n",
      "D_256x5_down2_dense (Dense)      (None, 1, 256)        65792       D_256x5_down1_activ[1][0]        \n",
      "____________________________________________________________________________________________________\n",
      "D_256x5_down2_activ (Activation) (None, 1, 256)        0           D_256x5_down2_dense[1][0]        \n",
      "____________________________________________________________________________________________________\n",
      "D_256x5_down3_dense (Dense)      (None, 1, 256)        65792       D_256x5_down2_activ[1][0]        \n",
      "____________________________________________________________________________________________________\n",
      "D_256x5_down3_activ (Activation) (None, 1, 256)        0           D_256x5_down3_dense[1][0]        \n",
      "____________________________________________________________________________________________________\n",
      "D_256x5_down4_dense (Dense)      (None, 1, 256)        65792       D_256x5_down3_activ[1][0]        \n",
      "____________________________________________________________________________________________________\n",
      "D_256x5_down4_activ (Activation) (None, 1, 256)        0           D_256x5_down4_dense[1][0]        \n",
      "____________________________________________________________________________________________________\n",
      "D_256x5_down5_dense (Dense)      (None, 1, 256)        65792       D_256x5_down4_activ[1][0]        \n",
      "____________________________________________________________________________________________________\n",
      "D_256x5_down5_activ (Activation) (None, 1, 256)        0           D_256x5_down5_dense[1][0]        \n",
      "____________________________________________________________________________________________________\n",
      "D_256x5_flat (Flatten)           (None, 256)           0           D_256x5_down5_activ[1][0]        \n",
      "____________________________________________________________________________________________________\n",
      "D_256x5_output (Dense)           (None, 1)             257         D_256x5_flat[1][0]               \n",
      "====================================================================================================\n",
      "Total params: 264,705\n",
      "Trainable params: 264,705\n",
      "Non-trainable params: 0\n",
      "____________________________________________________________________________________________________\n"
     ]
    }
   ],
   "source": [
    "gan.get_discriminator()[1].summary()"
   ]
  },
  {
   "cell_type": "code",
   "execution_count": 19,
   "metadata": {
    "scrolled": false
   },
   "outputs": [
    {
     "data": {
      "text/plain": [
       "set()"
      ]
     },
     "execution_count": 19,
     "metadata": {},
     "output_type": "execute_result"
    }
   ],
   "source": [
    "set(gan.am[0].trainable_weights)-set(gan.am[1].trainable_weights)"
   ]
  },
  {
   "cell_type": "code",
   "execution_count": 20,
   "metadata": {
    "collapsed": true
   },
   "outputs": [],
   "source": [
    "# gan.dm.summary()"
   ]
  },
  {
   "cell_type": "code",
   "execution_count": 21,
   "metadata": {
    "collapsed": true,
    "scrolled": false
   },
   "outputs": [],
   "source": [
    "# gan.gan.summary()"
   ]
  },
  {
   "cell_type": "code",
   "execution_count": 22,
   "metadata": {
    "collapsed": true
   },
   "outputs": [],
   "source": [
    "# gan.gan.outputs, gan.gan.inputs"
   ]
  },
  {
   "cell_type": "code",
   "execution_count": 23,
   "metadata": {
    "collapsed": true
   },
   "outputs": [],
   "source": [
    "# plotting.plot_hists(data_x.values[:,0],mc_x.values[:,0],bins=100,range=[0,1.2])\n",
    "# plt.show()\n",
    "# plotting.plot_hists(data_x.values[:,1],mc_x.values[:,1],bins=100,range=[0,5e-2])"
   ]
  },
  {
   "cell_type": "code",
   "execution_count": 24,
   "metadata": {
    "collapsed": true,
    "scrolled": false
   },
   "outputs": [],
   "source": [
    "reload(preprocessing)\n",
    "\n",
    "data_x,data_c,mc_x,mc_c,scaler_x,scaler_c = preprocessing.transform(data_x,data_c,mc_x,mc_c,FEAT_TRANSFORM)\n"
   ]
  },
  {
   "cell_type": "code",
   "execution_count": 25,
   "metadata": {
    "collapsed": true
   },
   "outputs": [
    {
     "data": {
      "text/plain": [
       "((17520217, 1, 2), (9616192, 1, 2))"
      ]
     },
     "execution_count": 25,
     "metadata": {},
     "output_type": "execute_result"
    }
   ],
   "source": [
    "data_x.shape,mc_x.shape"
   ]
  },
  {
   "cell_type": "code",
   "execution_count": 26,
   "metadata": {
    "collapsed": true,
    "scrolled": false
   },
   "outputs": [
    {
     "data": {
      "image/png": "[encoded data removed]",
      "text/plain": [
       "<matplotlib.figure.Figure at 0x2aab294b06d8>"
      ]
     },
     "metadata": {},
     "output_type": "display_data"
    },
    {
     "data": {
      "image/png": "[encoded data removed]",
      "text/plain": [
       "<matplotlib.figure.Figure at 0x2aab294b0eb8>"
      ]
     },
     "metadata": {},
     "output_type": "display_data"
    },
    {
     "data": {
      "image/png": "[encoded data removed]",
      "text/plain": [
       "<matplotlib.figure.Figure at 0x2aab29771e80>"
      ]
     },
     "metadata": {},
     "output_type": "display_data"
    },
    {
     "data": {
      "image/png": "[encoded data removed]",
      "text/plain": [
       "<matplotlib.figure.Figure at 0x2aab29771048>"
      ]
     },
     "metadata": {},
     "output_type": "display_data"
    }
   ],
   "source": [
    "for ix in range(len(x_names)):\n",
    "    plotting.plot_hists(data_x[:,0,ix],mc_x[:,0,ix],generated_w=mc_w,bins=100,range=[-3,3])\n",
    "    plt.xlabel(x_names[ix])\n",
    "    plt.show()\n",
    "\n",
    "for ic in range(len(c_names)):\n",
    "    plotting.plot_hists(data_c[:,0,ic],mc_c[:,0,ic],generated_w=mc_w,bins=100,range=[-3,3])\n",
    "    plt.xlabel(c_names[ic])\n",
    "    plt.show()\n"
   ]
  },
  {
   "cell_type": "code",
   "execution_count": 27,
   "metadata": {
    "collapsed": true
   },
   "outputs": [],
   "source": [
    "nmax = min(data_x.shape[0]//FRAC_DATA,mc_x.shape[0])\n",
    "\n",
    "data_x_train,data_x_test,data_c_train,data_c_test,data_w_train,data_w_test = cms.train_test_split(data_x[:nmax],data_c[:nmax],data_w[:nmax])\n",
    "mc_x_train,mc_x_test,mc_c_train,mc_c_test,mc_w_train,mc_w_test = cms.train_test_split(mc_x[:nmax],mc_c[:nmax],mc_w[:nmax])\n",
    "\n",
    "wscl = data_w[:nmax].sum() / mc_w[:nmax].sum()\n",
    "mc_w_train *= wscl\n",
    "mc_w_test *= wscl"
   ]
  },
  {
   "cell_type": "code",
   "execution_count": 28,
   "metadata": {
    "collapsed": true
   },
   "outputs": [
    {
     "name": "stdout",
     "output_type": "stream",
     "text": [
      "1752021 0.999388825769\n"
     ]
    }
   ],
   "source": [
    "print(nmax,mc_w_train.sum()/data_w_train.sum())"
   ]
  },
  {
   "cell_type": "code",
   "execution_count": 29,
   "metadata": {
    "collapsed": true
   },
   "outputs": [],
   "source": [
    "from keras.optimizers import RMSprop\n",
    "\n",
    "if PRETRAIN_G:\n",
    "    generator = gan.get_generator()\n",
    "    generator.compile(loss=\"mse\",optimizer=RMSprop(lr=1.e-3))\n",
    "    generator.fit( [mc_c_train,mc_x_train], [mc_c_train,mc_x_train], sample_weight=[mc_w_train,mc_w_train], epochs=1, batch_size=BATCH_SIZE  )"
   ]
  },
  {
   "cell_type": "code",
   "execution_count": 30,
   "metadata": {
    "collapsed": true,
    "scrolled": false
   },
   "outputs": [
    {
     "name": "stderr",
     "output_type": "stream",
     "text": [
      "/users/musella/jupyter/GAN/GAN/base.py:177: UserWarning: The `nb_epoch` argument in `fit` has been renamed `epochs`.\n",
      "  callbacks = [checkpoint,csv,tensorboard,plotter], **kwargs\n"
     ]
    },
    {
     "name": "stdout",
     "output_type": "stream",
     "text": [
      "calling WeightClip 0.02\n",
      "calling WeightClip 0.02\n",
      "calling WeightClip 0.02\n",
      "calling WeightClip 0.02\n",
      "calling WeightClip 0.02\n",
      "calling WeightClip 0.02\n",
      "calling WeightClip 0.02\n",
      "calling WeightClip 0.02\n",
      "calling WeightClip 0.02\n",
      "calling WeightClip 0.02\n",
      "calling WeightClip 0.02\n",
      "calling WeightClip 0.02\n",
      "Epoch 1/999\n",
      "1298432/1314015 [============================>.] - ETA: 0s - loss: -1.3485e-12 - discriminator_loss: -2.6722e-04 - discriminator_model_2_loss: -2.9122e-04 - discriminator_D_256x5_output_loss: 2.3998e-05 - generator_loss: 2.6722e-04 - generator_model_3_loss: 2.9122e-04 - generator_D_256x5_output_loss: -2.3998e-05[-0.32245293834791949, 1.6400606636213644]\n",
      "[-0.33361825984386478, 1.6417539596442903]\n",
      "[-0.33376912717368157, 1.6386768390442132]\n",
      "[-0.3319889896736235, 1.6667674403738504]\n",
      "[-0.32660005872739467, 1.6946130810692928]\n",
      "[-0.32264211743069937, 1.6330932252956183]\n",
      "[-0.32727109522711573, 1.7271134926076663]\n",
      "[-0.22638731740902718, 2.5493012148288048]\n",
      "[-0.29018316423906754, 1.9036746440976835]\n",
      "[-0.37073241244676092, 1.0253357641127432]\n",
      "[-0.36090512638547678, 1.0640107625687694]\n",
      "[-0.35048938217454384, 1.0116373443975539]\n",
      "[-0.27470174238288586, 2.0333063455586124]\n",
      "[-0.23121404001574053, 2.4848225909824611]\n"
     ]
    },
    {
     "data": {
      "image/png": "[encoded data removed]",
      "text/plain": [
       "<matplotlib.figure.Figure at 0x2aab2c08b668>"
      ]
     },
     "metadata": {},
     "output_type": "display_data"
    },
    {
     "name": "stdout",
     "output_type": "stream",
     "text": [
      "[-0.64635913372039799, 0.20829927386644861]\n",
      "[-0.65095376297790075, 0.20964556154581376]\n",
      "[-0.66324942345396853, 0.20933550175918242]\n",
      "[-0.64177507068174444, 0.2104689321683314]\n",
      "[-0.66520308256149296, 0.20931680763853511]\n",
      "[-0.6431137735931205, 0.20997410812458223]\n",
      "[-0.63781998753547642, 0.20985565443589704]\n",
      "[-1.0862634420394897, 0.17889141791276791]\n",
      "[-0.77406203746795654, 0.19116336519051072]\n",
      "[-0.45465702162920096, 0.21253224822198521]\n",
      "[-0.33549439038161533, 0.22102031197411978]\n",
      "[-0.48552648310721858, 0.21055367769677377]\n",
      "[-0.79791923379675866, 0.19127286919851622]\n",
      "[-1.0520546600883636, 0.17849120477906028]\n"
     ]
    },
    {
     "data": {
      "image/png": "[encoded data removed]",
      "text/plain": [
       "<matplotlib.figure.Figure at 0x2aab2962e5f8>"
      ]
     },
     "metadata": {},
     "output_type": "display_data"
    },
    {
     "name": "stdout",
     "output_type": "stream",
     "text": [
      "[-0.0052863797172904015, 0.0057352948933839798]\n"
     ]
    },
    {
     "data": {
      "image/png": "[encoded data removed]",
      "text/plain": [
       "<matplotlib.figure.Figure at 0x2aab30b1cc50>"
      ]
     },
     "metadata": {},
     "output_type": "display_data"
    },
    {
     "name": "stdout",
     "output_type": "stream",
     "text": [
      "1314015/1314015 [==============================] - 59s - loss: -1.6954e-12 - discriminator_loss: -2.7611e-04 - discriminator_model_2_loss: -3.0003e-04 - discriminator_D_256x5_output_loss: 2.3917e-05 - generator_loss: 2.7611e-04 - generator_model_3_loss: 3.0003e-04 - generator_D_256x5_output_loss: -2.3917e-05    \n",
      "Epoch 2/999\n",
      "1314015/1314015 [==============================] - 4s - loss: -2.7658e-11 - discriminator_loss: -0.0028 - discriminator_model_2_loss: -1.1304e-04 - discriminator_D_256x5_output_loss: -0.0027 - generator_loss: 0.0028 - generator_model_3_loss: 1.1304e-04 - generator_D_256x5_output_loss: 0.0027     \n",
      "Epoch 3/999\n",
      "1314015/1314015 [==============================] - 4s - loss: 1.1296e-11 - discriminator_loss: -0.0063 - discriminator_model_2_loss: 0.0029 - discriminator_D_256x5_output_loss: -0.0092 - generator_loss: 0.0063 - generator_model_3_loss: -0.0029 - generator_D_256x5_output_loss: 0.0092     \n",
      "Epoch 4/999\n",
      "1314015/1314015 [==============================] - 4s - loss: -8.3101e-11 - discriminator_loss: -0.0070 - discriminator_model_2_loss: -0.0151 - discriminator_D_256x5_output_loss: 0.0081 - generator_loss: 0.0070 - generator_model_3_loss: 0.0151 - generator_D_256x5_output_loss: -0.0081     \n",
      "Epoch 5/999\n",
      "1314015/1314015 [==============================] - 4s - loss: -2.9031e-11 - discriminator_loss: -0.0045 - discriminator_model_2_loss: -0.0584 - discriminator_D_256x5_output_loss: 0.0540 - generator_loss: 0.0045 - generator_model_3_loss: 0.0584 - generator_D_256x5_output_loss: -0.0540    \n",
      "Epoch 6/999\n",
      "1314015/1314015 [==============================] - 4s - loss: -3.7841e-10 - discriminator_loss: -0.0033 - discriminator_model_2_loss: -0.0518 - discriminator_D_256x5_output_loss: 0.0486 - generator_loss: 0.0033 - generator_model_3_loss: 0.0518 - generator_D_256x5_output_loss: -0.0486     \n",
      "Epoch 7/999\n",
      "1314015/1314015 [==============================] - 4s - loss: 2.2972e-10 - discriminator_loss: -0.0033 - discriminator_model_2_loss: -0.0535 - discriminator_D_256x5_output_loss: 0.0502 - generator_loss: 0.0033 - generator_model_3_loss: 0.0535 - generator_D_256x5_output_loss: -0.0502     \n",
      "Epoch 8/999\n",
      "1314015/1314015 [==============================] - 4s - loss: -1.6257e-10 - discriminator_loss: -0.0077 - discriminator_model_2_loss: -0.0922 - discriminator_D_256x5_output_loss: 0.0845 - generator_loss: 0.0077 - generator_model_3_loss: 0.0922 - generator_D_256x5_output_loss: -0.0845     \n",
      "Epoch 9/999\n",
      "1314015/1314015 [==============================] - 4s - loss: 3.5745e-10 - discriminator_loss: -0.0085 - discriminator_model_2_loss: -0.1248 - discriminator_D_256x5_output_loss: 0.1162 - generator_loss: 0.0085 - generator_model_3_loss: 0.1248 - generator_D_256x5_output_loss: -0.1162     \n",
      "Epoch 10/999\n",
      "1314015/1314015 [==============================] - 4s - loss: 7.9016e-11 - discriminator_loss: -0.0059 - discriminator_model_2_loss: -0.0913 - discriminator_D_256x5_output_loss: 0.0854 - generator_loss: 0.0059 - generator_model_3_loss: 0.0913 - generator_D_256x5_output_loss: -0.0854     \n",
      "Epoch 11/999\n",
      "1314015/1314015 [==============================] - 4s - loss: -1.9741e-10 - discriminator_loss: -0.0015 - discriminator_model_2_loss: -0.0565 - discriminator_D_256x5_output_loss: 0.0549 - generator_loss: 0.0015 - generator_model_3_loss: 0.0565 - generator_D_256x5_output_loss: -0.0549     \n",
      "Epoch 12/999\n",
      "1314015/1314015 [==============================] - 4s - loss: 2.4386e-10 - discriminator_loss: 0.0018 - discriminator_model_2_loss: -0.0658 - discriminator_D_256x5_output_loss: 0.0676 - generator_loss: -0.0018 - generator_model_3_loss: 0.0658 - generator_D_256x5_output_loss: -0.0676     \n",
      "Epoch 13/999\n",
      "1314015/1314015 [==============================] - 4s - loss: -6.8766e-10 - discriminator_loss: 8.1406e-04 - discriminator_model_2_loss: -0.0887 - discriminator_D_256x5_output_loss: 0.0895 - generator_loss: -8.1406e-04 - generator_model_3_loss: 0.0887 - generator_D_256x5_output_loss: -0.0895     \n",
      "Epoch 14/999\n",
      "1314015/1314015 [==============================] - 4s - loss: 4.7461e-10 - discriminator_loss: -0.0013 - discriminator_model_2_loss: -0.2251 - discriminator_D_256x5_output_loss: 0.2239 - generator_loss: 0.0013 - generator_model_3_loss: 0.2251 - generator_D_256x5_output_loss: -0.2239     \n",
      "Epoch 15/999\n",
      "1314015/1314015 [==============================] - 4s - loss: -1.3935e-09 - discriminator_loss: -0.0012 - discriminator_model_2_loss: -0.3210 - discriminator_D_256x5_output_loss: 0.3198 - generator_loss: 0.0012 - generator_model_3_loss: 0.3210 - generator_D_256x5_output_loss: -0.3198     \n",
      "Epoch 16/999\n",
      "1314015/1314015 [==============================] - 4s - loss: -4.8266e-10 - discriminator_loss: -8.8962e-04 - discriminator_model_2_loss: -0.3044 - discriminator_D_256x5_output_loss: 0.3035 - generator_loss: 8.8962e-04 - generator_model_3_loss: 0.3044 - generator_D_256x5_output_loss: -0.3035     \n",
      "Epoch 17/999\n",
      "1314015/1314015 [==============================] - 4s - loss: 1.4026e-09 - discriminator_loss: -0.0013 - discriminator_model_2_loss: -0.2176 - discriminator_D_256x5_output_loss: 0.2163 - generator_loss: 0.0013 - generator_model_3_loss: 0.2176 - generator_D_256x5_output_loss: -0.2163     \n",
      "Epoch 18/999\n",
      "1314015/1314015 [==============================] - 4s - loss: -8.7345e-10 - discriminator_loss: -3.3784e-04 - discriminator_model_2_loss: -0.1847 - discriminator_D_256x5_output_loss: 0.1844 - generator_loss: 3.3784e-04 - generator_model_3_loss: 0.1847 - generator_D_256x5_output_loss: -0.1844     \n",
      "Epoch 19/999\n",
      "1314015/1314015 [==============================] - 4s - loss: 1.1986e-09 - discriminator_loss: 3.4272e-04 - discriminator_model_2_loss: -0.2182 - discriminator_D_256x5_output_loss: 0.2185 - generator_loss: -3.4272e-04 - generator_model_3_loss: 0.2182 - generator_D_256x5_output_loss: -0.2185     \n",
      "Epoch 20/999\n",
      "1314015/1314015 [==============================] - 4s - loss: 0.0000e+00 - discriminator_loss: 6.6955e-04 - discriminator_model_2_loss: -0.1621 - discriminator_D_256x5_output_loss: 0.1628 - generator_loss: -6.6955e-04 - generator_model_3_loss: 0.1621 - generator_D_256x5_output_loss: -0.1628      \n",
      "Epoch 21/999\n",
      "1314015/1314015 [==============================] - 4s - loss: 4.6449e-10 - discriminator_loss: 4.3452e-04 - discriminator_model_2_loss: -0.1062 - discriminator_D_256x5_output_loss: 0.1066 - generator_loss: -4.3452e-04 - generator_model_3_loss: 0.1062 - generator_D_256x5_output_loss: -0.1066     \n",
      "Epoch 22/999\n",
      "1314015/1314015 [==============================] - 4s - loss: -6.0591e-11 - discriminator_loss: 1.0184e-04 - discriminator_model_2_loss: -0.0967 - discriminator_D_256x5_output_loss: 0.0968 - generator_loss: -1.0184e-04 - generator_model_3_loss: 0.0967 - generator_D_256x5_output_loss: -0.0968    \n",
      "Epoch 23/999\n",
      "1314015/1314015 [==============================] - 4s - loss: -3.1100e-10 - discriminator_loss: -3.3436e-04 - discriminator_model_2_loss: -0.1017 - discriminator_D_256x5_output_loss: 0.1014 - generator_loss: 3.3436e-04 - generator_model_3_loss: 0.1017 - generator_D_256x5_output_loss: -0.1014     \n",
      "Epoch 24/999\n",
      "1314015/1314015 [==============================] - 4s - loss: 1.8126e-10 - discriminator_loss: -5.6678e-04 - discriminator_model_2_loss: -0.0838 - discriminator_D_256x5_output_loss: 0.0833 - generator_loss: 5.6678e-04 - generator_model_3_loss: 0.0838 - generator_D_256x5_output_loss: -0.0833     \n",
      "Epoch 25/999\n",
      "1314015/1314015 [==============================] - 4s - loss: 1.3935e-10 - discriminator_loss: -5.3382e-04 - discriminator_model_2_loss: -0.0805 - discriminator_D_256x5_output_loss: 0.0799 - generator_loss: 5.3382e-04 - generator_model_3_loss: 0.0805 - generator_D_256x5_output_loss: -0.0799     \n",
      "Epoch 26/999\n",
      "1314015/1314015 [==============================] - 4s - loss: -8.0832e-10 - discriminator_loss: -6.7583e-04 - discriminator_model_2_loss: -0.0845 - discriminator_D_256x5_output_loss: 0.0838 - generator_loss: 6.7583e-04 - generator_model_3_loss: 0.0845 - generator_D_256x5_output_loss: -0.0838     \n",
      "Epoch 27/999\n",
      "1314015/1314015 [==============================] - 4s - loss: -9.2899e-11 - discriminator_loss: -8.9532e-04 - discriminator_model_2_loss: -0.0822 - discriminator_D_256x5_output_loss: 0.0813 - generator_loss: 8.9532e-04 - generator_model_3_loss: 0.0822 - generator_D_256x5_output_loss: -0.0813     \n",
      "Epoch 28/999\n",
      "1314015/1314015 [==============================] - 4s - loss: 6.6443e-10 - discriminator_loss: -9.9410e-04 - discriminator_model_2_loss: -0.0713 - discriminator_D_256x5_output_loss: 0.0703 - generator_loss: 9.9410e-04 - generator_model_3_loss: 0.0713 - generator_D_256x5_output_loss: -0.0703     \n",
      "Epoch 29/999\n",
      " 954368/1314015 [====================>.........] - ETA: 1s - loss: 3.1977e-10 - discriminator_loss: -9.7737e-04 - discriminator_model_2_loss: -0.0759 - discriminator_D_256x5_output_loss: 0.0749 - generator_loss: 9.7737e-04 - generator_model_3_loss: 0.0759 - generator_D_256x5_output_loss: -0.0749"
     ]
    }
   ],
   "source": [
    "reload(base)\n",
    "\n",
    "initial_epoch = 0\n",
    "# if hasattr(gan.model,\"history\"):\n",
    "#     initial_epoch = gan.model.history.epoch[-1] + 1\n",
    "\n",
    "do = dict(\n",
    "    x_train=data_x_train,\n",
    "    z_train=mc_x_train,\n",
    "    c_x_train=data_c_train,\n",
    "    c_z_train=mc_c_train,\n",
    "    w_x_train = data_w_train,\n",
    "    w_z_train = mc_w_train,\n",
    "          \n",
    "    x_test=data_x_test,\n",
    "    z_test=mc_x_test,\n",
    "    c_x_test=data_c_test,\n",
    "    c_z_test=mc_c_test,\n",
    "    w_x_test = data_w_test,\n",
    "    w_z_test = mc_w_test,\n",
    "    \n",
    "    n_epochs=EPOCHS + initial_epoch - 1,\n",
    "    initial_epoch=initial_epoch,\n",
    "    batch_size=BATCH_SIZE,\n",
    "    plot_every=PLOT_EVERY,\n",
    "    \n",
    "    monitor_dir=MONITOR_DIR\n",
    ")\n",
    "\n",
    "base.MyGAN.adversarial_fit(gan,**do)\n"
   ]
  },
  {
   "cell_type": "code",
   "execution_count": 31,
   "metadata": {
    "collapsed": true
   },
   "outputs": [],
   "source": [
    "# mc_x_morphed = gan.get_generator().predict([mc_c_test,mc_x_test])[1]\n",
    "\n",
    "# data_p = gan.get_discriminator().predict([data_c_test,data_x_test])\n",
    "# mc_p   = gan.get_discriminator().predict([mc_c_test,mc_x_morphed])"
   ]
  },
  {
   "cell_type": "code",
   "execution_count": 32,
   "metadata": {
    "collapsed": true,
    "scrolled": false
   },
   "outputs": [],
   "source": [
    "# reload(plotting)\n",
    "\n",
    "# data_quantiles = np.percentile(data_c_test,[0,5,20,40,60,80,95,100])\n",
    "\n",
    "# # plotting.plot_summary_cond(data_x_test,data_c_test,mc_x_test,mc_c_test,mc_x_test,data_p,mc_p)\n",
    "# # plotting.plot_summary_cond(data_x_test,data_c_test,mc_x_morphed,mc_c_test,mc_x_test,data_p,mc_p)\n",
    "# plotting.plot_summary_cond(data_x_test,data_c_test,mc_x_morphed,mc_c_test,mc_x_test,data_p,mc_p,\n",
    "#                            do_slices=True,c_bounds=data_quantiles,saveas='wgan_test4.png')\n"
   ]
  },
  {
   "cell_type": "code",
   "execution_count": 33,
   "metadata": {
    "collapsed": true
   },
   "outputs": [],
   "source": [
    "# plt.savefig('wgan_test1.png')"
   ]
  },
  {
   "cell_type": "code",
   "execution_count": 34,
   "metadata": {
    "collapsed": true
   },
   "outputs": [],
   "source": []
  }
 ],
 "metadata": {
  "kernelspec": {
   "display_name": "Python 3",
   "language": "python",
   "name": "python3"
  },
  "language_info": {
   "codemirror_mode": {
    "name": "ipython",
    "version": 3
   },
   "file_extension": ".py",
   "mimetype": "text/x-python",
   "name": "python",
   "nbconvert_exporter": "python",
   "pygments_lexer": "ipython3",
   "version": "3.5.2"
  }
 },
 "nbformat": 4,
 "nbformat_minor": 2
}
