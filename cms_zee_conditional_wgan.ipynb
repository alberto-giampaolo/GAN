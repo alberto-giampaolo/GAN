{
 "cells": [
  {
   "cell_type": "code",
   "execution_count": 2,
   "metadata": {},
   "outputs": [],
   "source": [
    "import GAN.models as models\n",
    "import GAN.cms_datasets as cms\n",
    "import GAN.plotting as plotting\n",
    "import GAN.preprocessing as preprocessing\n",
    "import GAN.base as base"
   ]
  },
  {
   "cell_type": "code",
   "execution_count": 3,
   "metadata": {},
   "outputs": [
    {
     "data": {
      "text/plain": [
       "{'AM_OPTS': {'loss': 'wgan_loss',\n",
       "  'opt_kwargs': {'decay': 1e-06, 'lr': 1e-05},\n",
       "  'optimizer': 'RMSprop'},\n",
       " 'BATCH': False,\n",
       " 'BATCH_SIZE': 4096,\n",
       " 'CLEANING': 'cleaning_zee_barrel.hd5',\n",
       " 'C_NAMES': ['Phi', 'ScEta', 'Pt', 'rho', 'run'],\n",
       " 'DM_OPTS': {'loss': 'wgan_loss',\n",
       "  'opt_kwargs': {'decay': 1e-06, 'lr': 1e-05},\n",
       "  'optimizer': 'RMSprop'},\n",
       " 'D_OPTS': {'activation': None,\n",
       "  'clip_weights': 0.02,\n",
       "  'do_bn': False,\n",
       "  'kernel_sizes': [1024, 512, 128, 64, 32],\n",
       "  'name': 'D_1024to32x6'},\n",
       " 'EPOCHS': 200,\n",
       " 'FEAT_TRANSFORM': 'minmax',\n",
       " 'FRAC_DATA': 10,\n",
       " 'GAN_TARGETS': 'gan_targets_hinge',\n",
       " 'G_OPTS': {'do_last_l1reg': 1e-05,\n",
       "  'do_weight_reg': 1e-05,\n",
       "  'kernel_sizes': [64, 64, 128, 128, 256, 256, 512, 512],\n",
       "  'name': 'G_512to64x8'},\n",
       " 'LOAD_DATASETS': ['moriond_v9', 'abs(ScEta) < 1.5'],\n",
       " 'LOSS': 'wgan_loss',\n",
       " 'MCWEIGHT': '',\n",
       " 'MONITOR_DIR': 'log',\n",
       " 'PLOT_EVERY': 10,\n",
       " 'PRETRAIN_G': False,\n",
       " 'REWEIGHT': ['rewei_zee_5d_barrel'],\n",
       " 'SAMPLE_FROM_DATA': ['run'],\n",
       " 'SCHEDULE': [0, 0, 0, 0, 0, 1],\n",
       " 'USE_ABS_WEIGHT': True,\n",
       " 'X_NAMES': ['EtaWidth',\n",
       "  'R9',\n",
       "  'SigmaIeIe',\n",
       "  'S4',\n",
       "  'PhiWidth',\n",
       "  'CovarianceIetaIphi',\n",
       "  'CovarianceIphiIphi']}"
      ]
     },
     "execution_count": 3,
     "metadata": {},
     "output_type": "execute_result"
    }
   ],
   "source": [
    "import GAN.utils as utils\n",
    "\n",
    "# reload(utils)\n",
    "\n",
    "class Parameters(utils.Parameters):\n",
    "    \n",
    "    load_datasets=utils.param([\"moriond_v9\",\"abs(ScEta) < 1.5\"])\n",
    "\n",
    "#     c_names = utils.param(['Pt','ScEta','Phi','rho'])\n",
    "#     x_names = utils.param(['R9','SigmaIeIe','S4','EtaWidth','PhiWidth','CovarianceIetaIphi',\n",
    "#                'CovarianceIphiIphi', ])\n",
    "    c_names = utils.param(['Phi','ScEta','Pt','rho','run'])\n",
    "    x_names = utils.param(['EtaWidth','R9','SigmaIeIe','S4','PhiWidth','CovarianceIetaIphi',\n",
    "                           'CovarianceIphiIphi'])\n",
    "#     c_names = utils.param(['ScEta'])\n",
    "#     x_names = utils.param(['R9'])\n",
    "    sample_from_data = ['run']\n",
    "    \n",
    "    use_abs_weight = utils.param(True)\n",
    "\n",
    "    reweight = ['rewei_zee_5d_barrel']\n",
    "    mcweight = utils.param('')\n",
    "\n",
    "    # reweight = utils.param(['rewei_zee_barrel.npy','rewei_zee_pt_abs_barrel.npy','rewei_zee_pu_barrel.npy'])\n",
    "    # mcweight = utils.param('weight')\n",
    "\n",
    "    #    cleaning = utils.param('cleaning_zee_m_pt_barrel.hd5')\n",
    "    cleaning = utils.param('cleaning_zee_barrel.hd5')\n",
    "    \n",
    "    feat_transform = utils.param('minmax')\n",
    "#    feat_transform = utils.param('gaus')\n",
    "\n",
    "    g_opts=utils.param(dict(#name=\"G_512x8\",kernel_sizes=[512]*8,\n",
    "                            name=\"G_512to64x8\",#kernel_sizes=[128,128,256,256,512,512,1024,1024],#\n",
    "                                                 kernel_sizes=[64,64,128,128,256,256,512,512],\n",
    "                            do_weight_reg=1e-5,do_last_l1reg=1e-5))\n",
    "\n",
    "#     g_opts=utils.param(dict(name=\"G_512x8\",kernel_sizes=[512]*8,\n",
    "#                             #name=\"G_512to64x8\",kernel_sizes=[64,64,128,128,256,256,512,512],\n",
    "#                             do_weight_reg=1e-4,do_last_l1reg=1e-3,\n",
    "#                             do_nl_activ=[\"tanh\",\"relu\"]*4\n",
    "#                            ))\n",
    "\n",
    "#     g_opts=utils.param(dict(name=\"G_128to32x7\",kernel_sizes=[32]+[64]*2+[128]*2, # krnel_sizes=[128]*7,\n",
    "#                             # do_nl_activ=\"tanh\",\n",
    "#                             do_nl_activ=[\"relu\",\"tanh\"]*3+[\"relu\"],\n",
    "#                             do_bn=False,do_dropout=False))\n",
    "    pretrain_g = utils.param(False)\n",
    "    d_opts=utils.param(dict(name=\"D_1024to32x6\",kernel_sizes=[1024,512,128,64,32],do_bn=False,\n",
    "                        clip_weights=2.e-2,activation=None)) # weights clipping and no actication\n",
    "\n",
    "    dm_opts=utils.param(dict(optimizer=\"RMSprop\",opt_kwargs=dict(lr=1e-5,decay=1e-6)))#, decay=6e-6)))\n",
    "    am_opts=utils.param(dict(optimizer=\"RMSprop\",opt_kwargs=dict(lr=1e-5,decay=1e-6)))#, decay=6e-6)))\n",
    "    \n",
    "    \n",
    "    epochs=utils.param(200)\n",
    "    batch_size=utils.param(4096)\n",
    "    plot_every=utils.param(10)\n",
    "    \n",
    "    frac_data=utils.param(10)\n",
    "    \n",
    "    loss = utils.param(\"wgan_loss\") # use WGAN loss \n",
    "    gan_targets = utils.param('gan_targets_hinge') # hinge targets are 1, -1 instead of 0, 1\n",
    "    schedule = utils.param([0]*5+[1]*1) # number of critic iterations per generator iterations\n",
    "    \n",
    "    monitor_dir = utils.param('log')\n",
    "    \n",
    "    batch = utils.param(False)\n",
    "\n",
    "class MyApp(utils.MyApp):\n",
    "    classes = utils.List([Parameters])\n",
    "\n",
    "# Read all parameters above from command line. \n",
    "# Note: names are all converted to be all capital\n",
    "notebook_parameters = Parameters(MyApp()).get_params()\n",
    "\n",
    "# copy parameters to global scope\n",
    "globals().update(notebook_parameters)\n",
    "DM_OPTS.update( {\"loss\":LOSS} )\n",
    "AM_OPTS.update( {\"loss\":LOSS} )\n",
    "\n",
    "\n",
    "plotting.batch = BATCH \n",
    "\n",
    "notebook_parameters"
   ]
  },
  {
   "cell_type": "code",
   "execution_count": 4,
   "metadata": {},
   "outputs": [],
   "source": [
    "# reload(cms)\n",
    "\n",
    "data,mc = cms.load_zee(*LOAD_DATASETS)\n"
   ]
  },
  {
   "cell_type": "code",
   "execution_count": 5,
   "metadata": {
    "scrolled": true
   },
   "outputs": [
    {
     "data": {
      "text/plain": [
       "Index(['index', 'run', 'rho', 'nvtx', 'mass', 'weight', 'SigMoM', 'Pt',\n",
       "       'ScEta', 'Phi', 'R9', 'S4', 'SigmaIeIe', 'EtaWidth', 'PhiWidth',\n",
       "       'CovarianceIphiIphi', 'SigmaRR', 'ScEnergy', 'CovarianceIetaIphi',\n",
       "       'PhoIso03', 'ChIso03', 'ChIso03worst', 'ScPreshowerEnergy', 'PhoIDMVA',\n",
       "       'SigEOverE', 'run_quantile'],\n",
       "      dtype='object')"
      ]
     },
     "execution_count": 5,
     "metadata": {},
     "output_type": "execute_result"
    }
   ],
   "source": [
    "data.columns"
   ]
  },
  {
   "cell_type": "code",
   "execution_count": 6,
   "metadata": {},
   "outputs": [
    {
     "data": {
      "text/plain": [
       "Index(['index', 'run', 'rho', 'nvtx', 'mass', 'weight', 'SigMoM', 'Pt',\n",
       "       'ScEta', 'Phi', 'R9', 'S4', 'SigmaIeIe', 'EtaWidth', 'PhiWidth',\n",
       "       'CovarianceIphiIphi', 'SigmaRR', 'ScEnergy', 'CovarianceIetaIphi',\n",
       "       'PhoIso03', 'ChIso03', 'ChIso03worst', 'ScPreshowerEnergy', 'PhoIDMVA',\n",
       "       'SigEOverE'],\n",
       "      dtype='object')"
      ]
     },
     "execution_count": 6,
     "metadata": {},
     "output_type": "execute_result"
    }
   ],
   "source": [
    "mc.columns"
   ]
  },
  {
   "cell_type": "code",
   "execution_count": 7,
   "metadata": {},
   "outputs": [],
   "source": [
    "# (data[thr_down.index]>=thr_down).all(axis=1).sum()"
   ]
  },
  {
   "cell_type": "code",
   "execution_count": 8,
   "metadata": {},
   "outputs": [
    {
     "name": "stdout",
     "output_type": "stream",
     "text": [
      "cleaning data and mc\n",
      "cleaning eff (data,mc): 0.95  0.98\n"
     ]
    }
   ],
   "source": [
    "if not CLEANING is None:\n",
    "    print('cleaning data and mc')\n",
    "    thr_up = pd.read_hdf(CLEANING,'thr_up')\n",
    "    thr_down = pd.read_hdf(CLEANING,'thr_down')\n",
    "    nevts_data = data.shape[0]\n",
    "    nevts_mc = mc.shape[0]\n",
    "    data = data[ ((data[thr_down.index] >= thr_down) & (data[thr_up.index] <= thr_up)).all(axis=1) ]\n",
    "    mc = mc[ ((mc[thr_down.index] >= thr_down) & (mc[thr_up.index] <= thr_up)).all(axis=1) ]\n",
    "    print('cleaning eff (data,mc): %1.2f % 1.2f' % (  data.shape[0] / nevts_data, mc.shape[0] / nevts_mc  ))\n",
    "    "
   ]
  },
  {
   "cell_type": "code",
   "execution_count": 9,
   "metadata": {},
   "outputs": [
    {
     "name": "stdout",
     "output_type": "stream",
     "text": [
      "sampling run\n"
     ]
    }
   ],
   "source": [
    "for col in SAMPLE_FROM_DATA:\n",
    "    print('sampling', col)\n",
    "    mc[col] = data[col].sample(mc.shape[0]).values\n",
    "    "
   ]
  },
  {
   "cell_type": "code",
   "execution_count": 10,
   "metadata": {},
   "outputs": [],
   "source": [
    "# mc['run']"
   ]
  },
  {
   "cell_type": "code",
   "execution_count": 11,
   "metadata": {},
   "outputs": [],
   "source": [
    "c_names = C_NAMES\n",
    "x_names = X_NAMES\n",
    "\n",
    "data_c = data[c_names]\n",
    "data_x = data[x_names]\n",
    "\n",
    "mc_c = mc[c_names]\n",
    "mc_x = mc[x_names]\n"
   ]
  },
  {
   "cell_type": "code",
   "execution_count": 12,
   "metadata": {},
   "outputs": [
    {
     "data": {
      "text/plain": [
       "(Index(['EtaWidth', 'R9', 'SigmaIeIe', 'S4', 'PhiWidth', 'CovarianceIetaIphi',\n",
       "        'CovarianceIphiIphi'],\n",
       "       dtype='object'),\n",
       " (16669657, 7),\n",
       " Index(['Phi', 'ScEta', 'Pt', 'rho', 'run'], dtype='object'),\n",
       " (16669657, 5))"
      ]
     },
     "execution_count": 12,
     "metadata": {},
     "output_type": "execute_result"
    }
   ],
   "source": [
    "data_x.columns, data_x.shape, data_c.columns, data_c.shape"
   ]
  },
  {
   "cell_type": "code",
   "execution_count": 13,
   "metadata": {},
   "outputs": [
    {
     "data": {
      "text/plain": [
       "(Index(['EtaWidth', 'R9', 'SigmaIeIe', 'S4', 'PhiWidth', 'CovarianceIetaIphi',\n",
       "        'CovarianceIphiIphi'],\n",
       "       dtype='object'),\n",
       " Index(['Phi', 'ScEta', 'Pt', 'rho', 'run'], dtype='object'))"
      ]
     },
     "execution_count": 13,
     "metadata": {},
     "output_type": "execute_result"
    }
   ],
   "source": [
    "data_x.columns, data_c.columns"
   ]
  },
  {
   "cell_type": "code",
   "execution_count": 14,
   "metadata": {},
   "outputs": [
    {
     "data": {
      "text/plain": [
       "(Index(['EtaWidth', 'R9', 'SigmaIeIe', 'S4', 'PhiWidth', 'CovarianceIetaIphi',\n",
       "        'CovarianceIphiIphi'],\n",
       "       dtype='object'),\n",
       " Index(['Phi', 'ScEta', 'Pt', 'rho', 'run'], dtype='object'))"
      ]
     },
     "execution_count": 14,
     "metadata": {},
     "output_type": "execute_result"
    }
   ],
   "source": [
    "mc_x.columns, mc_c.columns\n"
   ]
  },
  {
   "cell_type": "code",
   "execution_count": 29,
   "metadata": {},
   "outputs": [
    {
     "name": "stdout",
     "output_type": "stream",
     "text": [
      "[ 1.  1.  1.  1.  1.  1.  1.  1.  1.  1.]\n"
     ]
    }
   ],
   "source": [
    "# reload(preprocessing)\n",
    "# reload(utils)\n",
    "if MCWEIGHT == '':\n",
    "    mc_w = np.ones(mc_x.shape[0])\n",
    "else:\n",
    "    mc_w = mc[MCWEIGHT].values\n",
    "\n",
    "print(mc_w[:10])\n",
    "    \n",
    "if USE_ABS_WEIGHT:\n",
    "    mc_w = np.abs(mc_w)\n",
    "\n",
    "if not REWEIGHT is None:\n",
    "    for fil in REWEIGHT:\n",
    "        if 'npy' in fil:\n",
    "            info = np.load(fil)\n",
    "            inputs = info[0]\n",
    "            weights = info[1]\n",
    "            bins = info[2:]\n",
    "            # print(bins[1])\n",
    "            print('weighting',inputs)\n",
    "            mc_w *= preprocessing.reweight(mc,inputs,bins,weights,base=None)\n",
    "        else:\n",
    "            clf = utils.read_pickle(fil)\n",
    "            mc_w *= preprocessing.reweight_multidim(mc[clf.features_],clf)\n",
    "            \n",
    "data_w = np.ones(data_x.shape[0])"
   ]
  },
  {
   "cell_type": "code",
   "execution_count": null,
   "metadata": {},
   "outputs": [],
   "source": []
  },
  {
   "cell_type": "code",
   "execution_count": 16,
   "metadata": {},
   "outputs": [],
   "source": [
    "# reload(models)\n",
    "\n",
    "xz_shape = (1,len(x_names))\n",
    "c_shape = (1,len(c_names))\n",
    "gan = models.MyFFGAN( xz_shape, xz_shape, c_shape=c_shape,\n",
    "                     g_opts=G_OPTS,\n",
    "                     d_opts=D_OPTS,\n",
    "                     dm_opts=DM_OPTS,\n",
    "                     am_opts=AM_OPTS,\n",
    "                     gan_targets=GAN_TARGETS\n",
    "                    )"
   ]
  },
  {
   "cell_type": "code",
   "execution_count": null,
   "metadata": {},
   "outputs": [],
   "source": []
  },
  {
   "cell_type": "code",
   "execution_count": 17,
   "metadata": {},
   "outputs": [
    {
     "name": "stdout",
     "output_type": "stream",
     "text": [
      "(1, 7)\n"
     ]
    },
    {
     "data": {
      "text/plain": [
       "<keras.engine.training.Model at 0x2ad6141cff28>"
      ]
     },
     "execution_count": 17,
     "metadata": {},
     "output_type": "execute_result"
    }
   ],
   "source": [
    "gan.get_generator()"
   ]
  },
  {
   "cell_type": "code",
   "execution_count": 18,
   "metadata": {},
   "outputs": [
    {
     "name": "stdout",
     "output_type": "stream",
     "text": [
      "WeightClip 0.02\n",
      "WeightClip 0.02\n",
      "WeightClip 0.02\n",
      "WeightClip 0.02\n",
      "WeightClip 0.02\n",
      "WeightClip 0.02\n"
     ]
    },
    {
     "data": {
      "text/plain": [
       "(<keras.engine.training.Model at 0x2ad6144dfdd8>,\n",
       " <keras.engine.training.Model at 0x2ad6144df588>)"
      ]
     },
     "execution_count": 18,
     "metadata": {},
     "output_type": "execute_result"
    }
   ],
   "source": [
    "gan.get_discriminator()"
   ]
  },
  {
   "cell_type": "code",
   "execution_count": 19,
   "metadata": {},
   "outputs": [
    {
     "name": "stdout",
     "output_type": "stream",
     "text": [
      "wgan_loss\n"
     ]
    }
   ],
   "source": [
    "gan.adversarial_compile(loss=LOSS,schedule=SCHEDULE)"
   ]
  },
  {
   "cell_type": "code",
   "execution_count": 20,
   "metadata": {
    "scrolled": false
   },
   "outputs": [
    {
     "name": "stdout",
     "output_type": "stream",
     "text": [
      "____________________________________________________________________________________________________\n",
      "Layer (type)                     Output Shape          Param #     Connected to                     \n",
      "====================================================================================================\n",
      "G_512to64x8_c_input (InputLayer) (None, 1, 5)          0                                            \n",
      "____________________________________________________________________________________________________\n",
      "G_512to64x8_input (InputLayer)   (None, 1, 7)          0                                            \n",
      "____________________________________________________________________________________________________\n",
      "G_512to64x8_all_inputs (Concaten (None, 1, 12)         0           G_512to64x8_c_input[0][0]        \n",
      "                                                                   G_512to64x8_input[0][0]          \n",
      "____________________________________________________________________________________________________\n",
      "G_512to64x8_up1_dense (Dense)    (None, 1, 512)        6656        G_512to64x8_all_inputs[0][0]     \n",
      "____________________________________________________________________________________________________\n",
      "G_512to64x8_up1_activ (PReLU)    (None, 1, 512)        512         G_512to64x8_up1_dense[0][0]      \n",
      "____________________________________________________________________________________________________\n",
      "G_512to64x8_up2_dense (Dense)    (None, 1, 512)        262656      G_512to64x8_up1_activ[0][0]      \n",
      "____________________________________________________________________________________________________\n",
      "G_512to64x8_up2_activ (PReLU)    (None, 1, 512)        512         G_512to64x8_up2_dense[0][0]      \n",
      "____________________________________________________________________________________________________\n",
      "G_512to64x8_up3_dense (Dense)    (None, 1, 256)        131328      G_512to64x8_up2_activ[0][0]      \n",
      "____________________________________________________________________________________________________\n",
      "G_512to64x8_up3_activ (PReLU)    (None, 1, 256)        256         G_512to64x8_up3_dense[0][0]      \n",
      "____________________________________________________________________________________________________\n",
      "G_512to64x8_up4_dense (Dense)    (None, 1, 256)        65792       G_512to64x8_up3_activ[0][0]      \n",
      "____________________________________________________________________________________________________\n",
      "G_512to64x8_up4_activ (PReLU)    (None, 1, 256)        256         G_512to64x8_up4_dense[0][0]      \n",
      "____________________________________________________________________________________________________\n",
      "G_512to64x8_up5_dense (Dense)    (None, 1, 128)        32896       G_512to64x8_up4_activ[0][0]      \n",
      "____________________________________________________________________________________________________\n",
      "G_512to64x8_up5_activ (PReLU)    (None, 1, 128)        128         G_512to64x8_up5_dense[0][0]      \n",
      "____________________________________________________________________________________________________\n",
      "G_512to64x8_up6_dense (Dense)    (None, 1, 128)        16512       G_512to64x8_up5_activ[0][0]      \n",
      "____________________________________________________________________________________________________\n",
      "G_512to64x8_up6_activ (PReLU)    (None, 1, 128)        128         G_512to64x8_up6_dense[0][0]      \n",
      "____________________________________________________________________________________________________\n",
      "G_512to64x8_up7_dense (Dense)    (None, 1, 64)         8256        G_512to64x8_up6_activ[0][0]      \n",
      "____________________________________________________________________________________________________\n",
      "G_512to64x8_up7_activ (PReLU)    (None, 1, 64)         64          G_512to64x8_up7_dense[0][0]      \n",
      "____________________________________________________________________________________________________\n",
      "G_512to64x8_up8_dense (Dense)    (None, 1, 64)         4160        G_512to64x8_up7_activ[0][0]      \n",
      "____________________________________________________________________________________________________\n",
      "G_512to64x8_up8_activ (PReLU)    (None, 1, 64)         64          G_512to64x8_up8_dense[0][0]      \n",
      "____________________________________________________________________________________________________\n",
      "G_512to64x8_output (Dense)       (None, 1, 7)          455         G_512to64x8_up8_activ[0][0]      \n",
      "____________________________________________________________________________________________________\n",
      "G_512to64x8_add (Add)            (None, 1, 7)          0           G_512to64x8_input[0][0]          \n",
      "                                                                   G_512to64x8_output[0][0]         \n",
      "====================================================================================================\n",
      "Total params: 530,631\n",
      "Trainable params: 530,631\n",
      "Non-trainable params: 0\n",
      "____________________________________________________________________________________________________\n"
     ]
    }
   ],
   "source": [
    "gan.get_generator().summary()"
   ]
  },
  {
   "cell_type": "code",
   "execution_count": 21,
   "metadata": {
    "scrolled": false
   },
   "outputs": [
    {
     "name": "stdout",
     "output_type": "stream",
     "text": [
      "____________________________________________________________________________________________________\n",
      "Layer (type)                     Output Shape          Param #     Connected to                     \n",
      "====================================================================================================\n",
      "D_1024to32x6_c_input (InputLayer (None, 1, 5)          0                                            \n",
      "____________________________________________________________________________________________________\n",
      "D_1024to32x6_input (InputLayer)  (None, 1, 7)          0                                            \n",
      "____________________________________________________________________________________________________\n",
      "D_1024to32x6_all_inputs (Concate (None, 1, 12)         0           D_1024to32x6_c_input[0][0]       \n",
      "                                                                   D_1024to32x6_input[0][0]         \n",
      "____________________________________________________________________________________________________\n",
      "D_1024to32x6_down1_dense (Dense) (None, 1, 1024)       13312       D_1024to32x6_all_inputs[0][0]    \n",
      "____________________________________________________________________________________________________\n",
      "D_1024to32x6_down1_activ (Activa (None, 1, 1024)       0           D_1024to32x6_down1_dense[0][0]   \n",
      "____________________________________________________________________________________________________\n",
      "D_1024to32x6_down2_dense (Dense) (None, 1, 512)        524800      D_1024to32x6_down1_activ[0][0]   \n",
      "____________________________________________________________________________________________________\n",
      "D_1024to32x6_down2_activ (Activa (None, 1, 512)        0           D_1024to32x6_down2_dense[0][0]   \n",
      "____________________________________________________________________________________________________\n",
      "D_1024to32x6_down3_dense (Dense) (None, 1, 128)        65664       D_1024to32x6_down2_activ[0][0]   \n",
      "____________________________________________________________________________________________________\n",
      "D_1024to32x6_down3_activ (Activa (None, 1, 128)        0           D_1024to32x6_down3_dense[0][0]   \n",
      "____________________________________________________________________________________________________\n",
      "D_1024to32x6_down4_dense (Dense) (None, 1, 64)         8256        D_1024to32x6_down3_activ[0][0]   \n",
      "____________________________________________________________________________________________________\n",
      "D_1024to32x6_down4_activ (Activa (None, 1, 64)         0           D_1024to32x6_down4_dense[0][0]   \n",
      "____________________________________________________________________________________________________\n",
      "D_1024to32x6_down5_dense (Dense) (None, 1, 32)         2080        D_1024to32x6_down4_activ[0][0]   \n",
      "____________________________________________________________________________________________________\n",
      "D_1024to32x6_down5_activ (Activa (None, 1, 32)         0           D_1024to32x6_down5_dense[0][0]   \n",
      "____________________________________________________________________________________________________\n",
      "D_1024to32x6_flat (Flatten)      (None, 32)            0           D_1024to32x6_down5_activ[0][0]   \n",
      "____________________________________________________________________________________________________\n",
      "D_1024to32x6_output (Dense)      (None, 1)             33          D_1024to32x6_flat[0][0]          \n",
      "====================================================================================================\n",
      "Total params: 614,145\n",
      "Trainable params: 614,145\n",
      "Non-trainable params: 0\n",
      "____________________________________________________________________________________________________\n"
     ]
    }
   ],
   "source": [
    "gan.get_discriminator()[0].summary()"
   ]
  },
  {
   "cell_type": "code",
   "execution_count": 22,
   "metadata": {},
   "outputs": [
    {
     "name": "stdout",
     "output_type": "stream",
     "text": [
      "____________________________________________________________________________________________________\n",
      "Layer (type)                     Output Shape          Param #     Connected to                     \n",
      "====================================================================================================\n",
      "D_1024to32x6_c_input (InputLayer (None, 1, 5)          0                                            \n",
      "____________________________________________________________________________________________________\n",
      "D_1024to32x6_input (InputLayer)  (None, 1, 7)          0                                            \n",
      "____________________________________________________________________________________________________\n",
      "D_1024to32x6_all_inputs (Concate (None, 1, 12)         0           D_1024to32x6_c_input[0][0]       \n",
      "                                                                   D_1024to32x6_input[0][0]         \n",
      "____________________________________________________________________________________________________\n",
      "D_1024to32x6_down1_dense (Dense) (None, 1, 1024)       13312       D_1024to32x6_all_inputs[0][0]    \n",
      "____________________________________________________________________________________________________\n",
      "D_1024to32x6_down1_activ (Activa (None, 1, 1024)       0           D_1024to32x6_down1_dense[1][0]   \n",
      "____________________________________________________________________________________________________\n",
      "D_1024to32x6_down2_dense (Dense) (None, 1, 512)        524800      D_1024to32x6_down1_activ[1][0]   \n",
      "____________________________________________________________________________________________________\n",
      "D_1024to32x6_down2_activ (Activa (None, 1, 512)        0           D_1024to32x6_down2_dense[1][0]   \n",
      "____________________________________________________________________________________________________\n",
      "D_1024to32x6_down3_dense (Dense) (None, 1, 128)        65664       D_1024to32x6_down2_activ[1][0]   \n",
      "____________________________________________________________________________________________________\n",
      "D_1024to32x6_down3_activ (Activa (None, 1, 128)        0           D_1024to32x6_down3_dense[1][0]   \n",
      "____________________________________________________________________________________________________\n",
      "D_1024to32x6_down4_dense (Dense) (None, 1, 64)         8256        D_1024to32x6_down3_activ[1][0]   \n",
      "____________________________________________________________________________________________________\n",
      "D_1024to32x6_down4_activ (Activa (None, 1, 64)         0           D_1024to32x6_down4_dense[1][0]   \n",
      "____________________________________________________________________________________________________\n",
      "D_1024to32x6_down5_dense (Dense) (None, 1, 32)         2080        D_1024to32x6_down4_activ[1][0]   \n",
      "____________________________________________________________________________________________________\n",
      "D_1024to32x6_down5_activ (Activa (None, 1, 32)         0           D_1024to32x6_down5_dense[1][0]   \n",
      "____________________________________________________________________________________________________\n",
      "D_1024to32x6_flat (Flatten)      (None, 32)            0           D_1024to32x6_down5_activ[1][0]   \n",
      "____________________________________________________________________________________________________\n",
      "D_1024to32x6_output (Dense)      (None, 1)             33          D_1024to32x6_flat[1][0]          \n",
      "====================================================================================================\n",
      "Total params: 614,145\n",
      "Trainable params: 614,145\n",
      "Non-trainable params: 0\n",
      "____________________________________________________________________________________________________\n"
     ]
    }
   ],
   "source": [
    "gan.get_discriminator()[1].summary()"
   ]
  },
  {
   "cell_type": "code",
   "execution_count": 23,
   "metadata": {
    "scrolled": false
   },
   "outputs": [
    {
     "data": {
      "text/plain": [
       "set()"
      ]
     },
     "execution_count": 23,
     "metadata": {},
     "output_type": "execute_result"
    }
   ],
   "source": [
    "set(gan.am[0].trainable_weights)-set(gan.am[1].trainable_weights)"
   ]
  },
  {
   "cell_type": "code",
   "execution_count": 24,
   "metadata": {
    "scrolled": false
   },
   "outputs": [],
   "source": [
    "# reload(preprocessing)\n",
    "\n",
    "data_x,data_c,mc_x,mc_c,scaler_x,scaler_c = preprocessing.transform(data_x,data_c,mc_x,mc_c,FEAT_TRANSFORM)\n"
   ]
  },
  {
   "cell_type": "code",
   "execution_count": 25,
   "metadata": {},
   "outputs": [
    {
     "data": {
      "text/plain": [
       "((16669657, 1, 7), (9378817, 1, 7))"
      ]
     },
     "execution_count": 25,
     "metadata": {},
     "output_type": "execute_result"
    }
   ],
   "source": [
    "data_x.shape,mc_x.shape"
   ]
  },
  {
   "cell_type": "code",
   "execution_count": 26,
   "metadata": {},
   "outputs": [
    {
     "data": {
      "text/plain": [
       "(0.47562445561771333, 0.64363772158652321)"
      ]
     },
     "execution_count": 26,
     "metadata": {},
     "output_type": "execute_result"
    }
   ],
   "source": [
    "data_x[2].max(),mc_x[2].max()"
   ]
  },
  {
   "cell_type": "code",
   "execution_count": 27,
   "metadata": {},
   "outputs": [
    {
     "name": "stdout",
     "output_type": "stream",
     "text": [
      "[[ 0.62811279  0.64639415  3.70008002  3.46482773  0.69434143]] [[-0.62381792 -0.65687564 -0.58513709 -0.86038069 -0.60796746]]\n",
      "[[ 0.62811294  0.64639421  3.70005648  2.69072565  0.69434143]] [[-0.62381801 -0.65687548 -0.58513702 -0.86038069 -0.60796746]]\n",
      "(9378817,) (9378817, 1, 5)\n"
     ]
    }
   ],
   "source": [
    "print(mc_c.max(axis=0),mc_c.min(axis=0))\n",
    "print(data_c.max(axis=0),data_c.min(axis=0))\n",
    "print(mc_w.shape,mc_c.shape)"
   ]
  },
  {
   "cell_type": "code",
   "execution_count": 28,
   "metadata": {
    "scrolled": false
   },
   "outputs": [
    {
     "data": {
      "image/png": "[encoded data removed]",
      "text/plain": [
       "<matplotlib.figure.Figure at 0x2ad6149c8160>"
      ]
     },
     "metadata": {},
     "output_type": "display_data"
    },
    {
     "data": {
      "image/png": "[encoded data removed]",
      "text/plain": [
       "<matplotlib.figure.Figure at 0x2ad5ca14fac8>"
      ]
     },
     "metadata": {},
     "output_type": "display_data"
    },
    {
     "data": {
      "image/png": "[encoded data removed]",
      "text/plain": [
       "<matplotlib.figure.Figure at 0x2ad5ca16d1d0>"
      ]
     },
     "metadata": {},
     "output_type": "display_data"
    },
    {
     "data": {
      "image/png": "[encoded data removed]",
      "text/plain": [
       "<matplotlib.figure.Figure at 0x2ad5ca15ac50>"
      ]
     },
     "metadata": {},
     "output_type": "display_data"
    },
    {
     "data": {
      "image/png": "[encoded data removed]",
      "text/plain": [
       "<matplotlib.figure.Figure at 0x2ad5ca377dd8>"
      ]
     },
     "metadata": {},
     "output_type": "display_data"
    }
   ],
   "source": [
    "for ic in range(len(c_names)):\n",
    "    plotting.plot_hists(data_c[:,0,ic],mc_c[:,0,ic],generated_w=mc_w,bins=100)#,range=[-1.5,1.5])\n",
    "    plt.xlabel(c_names[ic])\n",
    "    plt.show()\n",
    "\n",
    "# for ix in range(len(x_names)):\n",
    "#     plotting.plot_hists(data_x[:,0,ix],mc_x[:,0,ix],generated_w=mc_w,bins=100,range=[-3,3])\n",
    "#     plt.xlabel(x_names[ix])\n",
    "#     plt.show()\n",
    "\n"
   ]
  },
  {
   "cell_type": "code",
   "execution_count": null,
   "metadata": {},
   "outputs": [],
   "source": [
    "nmax = min(data_x.shape[0]//FRAC_DATA,mc_x.shape[0])\n",
    "\n",
    "data_x_train,data_x_test,data_c_train,data_c_test,data_w_train,data_w_test = cms.train_test_split(data_x[:nmax],data_c[:nmax],data_w[:nmax],test_size=0.1)\n",
    "mc_x_train,mc_x_test,mc_c_train,mc_c_test,mc_w_train,mc_w_test = cms.train_test_split(mc_x[:nmax],mc_c[:nmax],mc_w[:nmax],test_size=0.1)\n",
    "\n",
    "wscl = data_w[:nmax].sum() / mc_w[:nmax].sum()\n",
    "mc_w_train *= wscl\n",
    "mc_w_test *= wscl"
   ]
  },
  {
   "cell_type": "code",
   "execution_count": null,
   "metadata": {},
   "outputs": [],
   "source": [
    "print(nmax,mc_w_train.sum()/data_w_train.sum())"
   ]
  },
  {
   "cell_type": "code",
   "execution_count": null,
   "metadata": {},
   "outputs": [],
   "source": [
    "from keras.optimizers import RMSprop\n",
    "\n",
    "if PRETRAIN_G:\n",
    "    generator = gan.get_generator()\n",
    "    generator.compile(loss=\"mse\",optimizer=RMSprop(lr=1.e-3))\n",
    "    generator.fit( [mc_c_train,mc_x_train], [mc_c_train,mc_x_train], sample_weight=[mc_w_train,mc_w_train], epochs=1, batch_size=BATCH_SIZE  )"
   ]
  },
  {
   "cell_type": "code",
   "execution_count": null,
   "metadata": {
    "scrolled": false
   },
   "outputs": [],
   "source": [
    "# reload(base)\n",
    "\n",
    "initial_epoch = 0\n",
    "# if hasattr(gan.model,\"history\"):\n",
    "#     initial_epoch = gan.model.history.epoch[-1] + 1\n",
    "\n",
    "do = dict(\n",
    "    x_train=data_x_train,\n",
    "    z_train=mc_x_train,\n",
    "    c_x_train=data_c_train,\n",
    "    c_z_train=mc_c_train,\n",
    "    w_x_train = data_w_train,\n",
    "    w_z_train = mc_w_train,\n",
    "          \n",
    "    x_test=data_x_test,\n",
    "    z_test=mc_x_test,\n",
    "    c_x_test=data_c_test,\n",
    "    c_z_test=mc_c_test,\n",
    "    w_x_test = data_w_test,\n",
    "    w_z_test = mc_w_test,\n",
    "    \n",
    "    n_epochs=EPOCHS + initial_epoch - 1,\n",
    "    initial_epoch=initial_epoch,\n",
    "    batch_size=BATCH_SIZE,\n",
    "    plot_every=PLOT_EVERY,\n",
    "    \n",
    "    monitor_dir=MONITOR_DIR\n",
    ")\n",
    "\n",
    "exc = None\n",
    "try:\n",
    "    gan.adversarial_fit(**do)\n",
    "except Exception as e:\n",
    "    exc = e"
   ]
  },
  {
   "cell_type": "code",
   "execution_count": null,
   "metadata": {},
   "outputs": [],
   "source": [
    "if not exc is None:\n",
    "    print(exc)"
   ]
  },
  {
   "cell_type": "code",
   "execution_count": null,
   "metadata": {},
   "outputs": [],
   "source": []
  }
 ],
 "metadata": {
  "kernelspec": {
   "display_name": "Python 3",
   "language": "python",
   "name": "python3"
  },
  "language_info": {
   "codemirror_mode": {
    "name": "ipython",
    "version": 3
   },
   "file_extension": ".py",
   "mimetype": "text/x-python",
   "name": "python",
   "nbconvert_exporter": "python",
   "pygments_lexer": "ipython3",
   "version": "3.5.2"
  }
 },
 "nbformat": 4,
 "nbformat_minor": 2
}
