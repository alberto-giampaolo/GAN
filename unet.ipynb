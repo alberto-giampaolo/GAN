{
 "cells": [
  {
   "cell_type": "code",
   "execution_count": 1,
   "metadata": {
    "collapsed": true
   },
   "outputs": [],
   "source": [
    "# import theano as tn"
   ]
  },
  {
   "cell_type": "code",
   "execution_count": 2,
   "metadata": {},
   "outputs": [
    {
     "name": "stderr",
     "output_type": "stream",
     "text": [
      "Using TensorFlow backend.\n"
     ]
    }
   ],
   "source": [
    "import keras"
   ]
  },
  {
   "cell_type": "code",
   "execution_count": 3,
   "metadata": {
    "collapsed": true
   },
   "outputs": [],
   "source": [
    "# import tensorflow as tf"
   ]
  },
  {
   "cell_type": "code",
   "execution_count": 4,
   "metadata": {
    "collapsed": true
   },
   "outputs": [],
   "source": [
    "# tf.__version__"
   ]
  },
  {
   "cell_type": "code",
   "execution_count": 5,
   "metadata": {
    "collapsed": true
   },
   "outputs": [],
   "source": [
    "# reload(tf)"
   ]
  },
  {
   "cell_type": "code",
   "execution_count": 6,
   "metadata": {
    "collapsed": true
   },
   "outputs": [],
   "source": [
    "data = pd.read_hdf('data_moriond_v9.hd5')"
   ]
  },
  {
   "cell_type": "code",
   "execution_count": 7,
   "metadata": {
    "collapsed": true
   },
   "outputs": [],
   "source": [
    "mc = pd.read_hdf('mc_moriond_v9.hd5')"
   ]
  },
  {
   "cell_type": "code",
   "execution_count": 8,
   "metadata": {},
   "outputs": [
    {
     "data": {
      "text/plain": [
       "(21216525, 26)"
      ]
     },
     "execution_count": 8,
     "metadata": {},
     "output_type": "execute_result"
    }
   ],
   "source": [
    "data.shape"
   ]
  },
  {
   "cell_type": "code",
   "execution_count": 9,
   "metadata": {},
   "outputs": [
    {
     "data": {
      "text/plain": [
       "(11554790, 25)"
      ]
     },
     "execution_count": 9,
     "metadata": {},
     "output_type": "execute_result"
    }
   ],
   "source": [
    "mc.shape"
   ]
  },
  {
   "cell_type": "code",
   "execution_count": 10,
   "metadata": {
    "collapsed": true
   },
   "outputs": [],
   "source": [
    "data = data.query('abs(ScEta) < 1.5')\n",
    "mc = mc.query('abs(ScEta) < 1.5')"
   ]
  },
  {
   "cell_type": "code",
   "execution_count": 11,
   "metadata": {},
   "outputs": [
    {
     "data": {
      "text/plain": [
       "(17520217, 26)"
      ]
     },
     "execution_count": 11,
     "metadata": {},
     "output_type": "execute_result"
    }
   ],
   "source": [
    "data.shape"
   ]
  },
  {
   "cell_type": "code",
   "execution_count": 12,
   "metadata": {},
   "outputs": [
    {
     "data": {
      "text/plain": [
       "(9616192, 25)"
      ]
     },
     "execution_count": 12,
     "metadata": {},
     "output_type": "execute_result"
    }
   ],
   "source": [
    "mc.shape"
   ]
  },
  {
   "cell_type": "code",
   "execution_count": 13,
   "metadata": {},
   "outputs": [
    {
     "data": {
      "text/plain": [
       "Index(['index', 'run', 'rho', 'nvtx', 'mass', 'weight', 'SigMoM', 'Pt',\n",
       "       'ScEta', 'Phi', 'R9', 'S4', 'SigmaIeIe', 'EtaWidth', 'PhiWidth',\n",
       "       'CovarianceIphiIphi', 'SigmaRR', 'ScEnergy', 'CovarianceIetaIphi',\n",
       "       'PhoIso03', 'ChIso03', 'ChIso03worst', 'ScPreshowerEnergy', 'PhoIDMVA',\n",
       "       'SigEOverE', 'run_quantile'],\n",
       "      dtype='object')"
      ]
     },
     "execution_count": 13,
     "metadata": {},
     "output_type": "execute_result"
    }
   ],
   "source": [
    "data.columns"
   ]
  },
  {
   "cell_type": "code",
   "execution_count": 14,
   "metadata": {
    "collapsed": true
   },
   "outputs": [],
   "source": [
    "# y_features = ['SigmaRR', 'CovarianceIetaIphi','PhoIso03', 'ChIso03', 'ChIso03worst', 'ScPreshowerEnergy', 'SigEOverE']\n",
    "# y_features = ['R9', 'S4', 'SigmaIeIe', 'EtaWidth', 'PhiWidth', 'CovarianceIetaIphi','PhoIso03', 'ChIso03', 'ChIso03worst', 'SigEOverE']\n",
    "y_features = ['R9'] #, 'S4', 'SigmaIeIe', 'EtaWidth', 'PhiWidth', 'CovarianceIetaIphi','PhoIso03', 'ChIso03', 'ChIso03worst', 'SigEOverE']"
   ]
  },
  {
   "cell_type": "code",
   "execution_count": 15,
   "metadata": {
    "collapsed": true
   },
   "outputs": [],
   "source": [
    "x_features = ['Pt','ScEta','Phi','rho']\n",
    "x_noise = []\n",
    "\n",
    "for inoise in range(len(y_features)):\n",
    "    iname = 'noise%d' % inoise\n",
    "    mc[iname] = np.random.normal(0.,1.,mc.shape[0])\n",
    "    x_noise.append(iname)\n"
   ]
  },
  {
   "cell_type": "code",
   "execution_count": 16,
   "metadata": {
    "collapsed": true
   },
   "outputs": [],
   "source": [
    "X_mc = mc[y_features+x_features].values.astype(np.float32)\n",
    "X_data = data[y_features+x_features].values.astype(np.float32)\n",
    "\n",
    "from sklearn.preprocessing import RobustScaler, MinMaxScaler, QuantileTransformer\n",
    "# scaler = RobustScaler()\n",
    "# scaler = MinMaxScaler((-1,1))\n",
    "scaler = QuantileTransformer(output_distribution='normal')\n",
    "\n",
    "X_mc = scaler.fit_transform(X_mc).reshape((-1,len(x_features+y_features),1,1))\n",
    "X_data = scaler.transform(X_data).reshape((-1,len(x_features+y_features),1,1))\n",
    "\n",
    "\n",
    "y_mc = X_mc[:,:len(y_features+x_features)]\n",
    "y_data = X_data[:,:len(y_features+x_features)]\n",
    "\n",
    "X_mc = np.hstack( [X_mc, mc[x_noise].values.reshape((-1,len(x_noise),1,1))]  )\n"
   ]
  },
  {
   "cell_type": "code",
   "execution_count": 17,
   "metadata": {
    "collapsed": true
   },
   "outputs": [],
   "source": [
    "import models"
   ]
  },
  {
   "cell_type": "code",
   "execution_count": 18,
   "metadata": {
    "scrolled": false
   },
   "outputs": [
    {
     "name": "stdout",
     "output_type": "stream",
     "text": [
      "aaaaaaa 2 32 6\n",
      "aaaaaaa 1 1 1\n",
      "True\n",
      "(None, 32, 1, 16) (2, 1)\n",
      "(None, 16, 1, 64) (2, 1)\n",
      "(None, 8, 1, 128) (2, 1)\n"
     ]
    }
   ],
   "source": [
    "reload(models)\n",
    "\n",
    "discriminator = models.get_discriminator(y_mc.shape[1:],filt_size=[32,64,128,256])\n",
    "\n",
    "generator = models.get_generator(X_mc.shape[1:],(len(y_features),1,1),filt_size=[16,64,128],dropout=[0.4,0.4,None,None])#,filt_size=[8,16,32])\n",
    "\n"
   ]
  },
  {
   "cell_type": "code",
   "execution_count": 19,
   "metadata": {
    "scrolled": false
   },
   "outputs": [
    {
     "name": "stdout",
     "output_type": "stream",
     "text": [
      "____________________________________________________________________________________________________\n",
      "Layer (type)                     Output Shape          Param #     Connected to                     \n",
      "====================================================================================================\n",
      "input_2 (InputLayer)             (None, 6, 1, 1)       0                                            \n",
      "____________________________________________________________________________________________________\n",
      "G_padding (ZeroPadding2D)        (None, 32, 1, 1)      0           input_2[0][0]                    \n",
      "____________________________________________________________________________________________________\n",
      "G_cunit_16_conv0 (Conv2D)        (None, 32, 1, 16)     32          G_padding[0][0]                  \n",
      "____________________________________________________________________________________________________\n",
      "G_cunit_16_bn0 (BatchNormalizati (None, 32, 1, 16)     64          G_cunit_16_conv0[0][0]           \n",
      "____________________________________________________________________________________________________\n",
      "activation_1 (Activation)        (None, 32, 1, 16)     0           G_cunit_16_bn0[0][0]             \n",
      "____________________________________________________________________________________________________\n",
      "G_cunit_16_pool (MaxPooling2D)   (None, 16, 1, 16)     0           activation_1[0][0]               \n",
      "____________________________________________________________________________________________________\n",
      "G_cunit_64_conv0 (Conv2D)        (None, 16, 1, 64)     1088        G_cunit_16_pool[0][0]            \n",
      "____________________________________________________________________________________________________\n",
      "G_cunit_64_bn0 (BatchNormalizati (None, 16, 1, 64)     256         G_cunit_64_conv0[0][0]           \n",
      "____________________________________________________________________________________________________\n",
      "activation_2 (Activation)        (None, 16, 1, 64)     0           G_cunit_64_bn0[0][0]             \n",
      "____________________________________________________________________________________________________\n",
      "G_cunit_64_pool (MaxPooling2D)   (None, 8, 1, 64)      0           activation_2[0][0]               \n",
      "____________________________________________________________________________________________________\n",
      "G_cunit_128_conv0 (Conv2D)       (None, 8, 1, 128)     8320        G_cunit_64_pool[0][0]            \n",
      "____________________________________________________________________________________________________\n",
      "G_cunit_128_bn0 (BatchNormalizat (None, 8, 1, 128)     512         G_cunit_128_conv0[0][0]          \n",
      "____________________________________________________________________________________________________\n",
      "activation_3 (Activation)        (None, 8, 1, 128)     0           G_cunit_128_bn0[0][0]            \n",
      "____________________________________________________________________________________________________\n",
      "G_cunit_128_pool (MaxPooling2D)  (None, 4, 1, 128)     0           activation_3[0][0]               \n",
      "____________________________________________________________________________________________________\n",
      "G_cunit_256_conv0 (Conv2D)       (None, 4, 1, 256)     33024       G_cunit_128_pool[0][0]           \n",
      "____________________________________________________________________________________________________\n",
      "G_cunit_256_bn0 (BatchNormalizat (None, 4, 1, 256)     1024        G_cunit_256_conv0[0][0]          \n",
      "____________________________________________________________________________________________________\n",
      "activation_4 (Activation)        (None, 4, 1, 256)     0           G_cunit_256_bn0[0][0]            \n",
      "____________________________________________________________________________________________________\n",
      "G_dunit_128_deconv (Conv2DTransp (None, 8, 1, 128)     32896       activation_4[0][0]               \n",
      "____________________________________________________________________________________________________\n",
      "concatenate_1 (Concatenate)      (None, 8, 1, 256)     0           G_dunit_128_deconv[0][0]         \n",
      "                                                                   activation_3[0][0]               \n",
      "____________________________________________________________________________________________________\n",
      "G_dunit_128_conv0 (Conv2D)       (None, 8, 1, 128)     32896       concatenate_1[0][0]              \n",
      "____________________________________________________________________________________________________\n",
      "G_dunit_128_bn0 (BatchNormalizat (None, 8, 1, 128)     512         G_dunit_128_conv0[0][0]          \n",
      "____________________________________________________________________________________________________\n",
      "activation_5 (Activation)        (None, 8, 1, 128)     0           G_dunit_128_bn0[0][0]            \n",
      "____________________________________________________________________________________________________\n",
      "G_dunit_64_deconv (Conv2DTranspo (None, 16, 1, 64)     8256        activation_5[0][0]               \n",
      "____________________________________________________________________________________________________\n",
      "concatenate_2 (Concatenate)      (None, 16, 1, 128)    0           G_dunit_64_deconv[0][0]          \n",
      "                                                                   activation_2[0][0]               \n",
      "____________________________________________________________________________________________________\n",
      "G_dunit_64_conv0 (Conv2D)        (None, 16, 1, 64)     8256        concatenate_2[0][0]              \n",
      "____________________________________________________________________________________________________\n",
      "G_dunit_64_bn0 (BatchNormalizati (None, 16, 1, 64)     256         G_dunit_64_conv0[0][0]           \n",
      "____________________________________________________________________________________________________\n",
      "activation_6 (Activation)        (None, 16, 1, 64)     0           G_dunit_64_bn0[0][0]             \n",
      "____________________________________________________________________________________________________\n",
      "G_dunit_16_deconv (Conv2DTranspo (None, 32, 1, 16)     1040        activation_6[0][0]               \n",
      "____________________________________________________________________________________________________\n",
      "concatenate_3 (Concatenate)      (None, 32, 1, 32)     0           G_dunit_16_deconv[0][0]          \n",
      "                                                                   activation_1[0][0]               \n",
      "____________________________________________________________________________________________________\n",
      "G_dunit_16_conv0 (Conv2D)        (None, 32, 1, 16)     528         concatenate_3[0][0]              \n",
      "____________________________________________________________________________________________________\n",
      "G_dunit_16_bn0 (BatchNormalizati (None, 32, 1, 16)     64          G_dunit_16_conv0[0][0]           \n",
      "____________________________________________________________________________________________________\n",
      "activation_7 (Activation)        (None, 32, 1, 16)     0           G_dunit_16_bn0[0][0]             \n",
      "____________________________________________________________________________________________________\n",
      "dropout_1 (Dropout)              (None, 32, 1, 16)     0           activation_7[0][0]               \n",
      "____________________________________________________________________________________________________\n",
      "G_flat (Flatten)                 (None, 512)           0           dropout_1[0][0]                  \n",
      "____________________________________________________________________________________________________\n",
      "G_dense (Dense)                  (None, 1)             513         G_flat[0][0]                     \n",
      "____________________________________________________________________________________________________\n",
      "G_targets (Cropping2D)           (None, 1, 1, 1)       0           input_2[0][0]                    \n",
      "____________________________________________________________________________________________________\n",
      "G_reshape (Reshape)              (None, 1, 1, 1)       0           G_dense[0][0]                    \n",
      "____________________________________________________________________________________________________\n",
      "G_reshape_targets (Reshape)      (None, 1, 1, 1)       0           G_targets[0][0]                  \n",
      "____________________________________________________________________________________________________\n",
      "G_predict (Add)                  (None, 1, 1, 1)       0           G_reshape[0][0]                  \n",
      "                                                                   G_reshape_targets[0][0]          \n",
      "____________________________________________________________________________________________________\n",
      "G_conditionals (Cropping2D)      (None, 4, 1, 1)       0           input_2[0][0]                    \n",
      "____________________________________________________________________________________________________\n",
      "G_output (Concatenate)           (None, 5, 1, 1)       0           G_predict[0][0]                  \n",
      "                                                                   G_conditionals[0][0]             \n",
      "====================================================================================================\n",
      "Total params: 129,537\n",
      "Trainable params: 128,193\n",
      "Non-trainable params: 1,344\n",
      "____________________________________________________________________________________________________\n"
     ]
    }
   ],
   "source": [
    "generator.summary()"
   ]
  },
  {
   "cell_type": "code",
   "execution_count": 20,
   "metadata": {},
   "outputs": [
    {
     "name": "stdout",
     "output_type": "stream",
     "text": [
      "_________________________________________________________________\n",
      "Layer (type)                 Output Shape              Param #   \n",
      "=================================================================\n",
      "input_1 (InputLayer)         (None, 5, 1, 1)           0         \n",
      "_________________________________________________________________\n",
      "D_conv32_conv (Conv2D)       (None, 5, 1, 32)          64        \n",
      "_________________________________________________________________\n",
      "D_conv32_actv (LeakyReLU)    (None, 5, 1, 32)          0         \n",
      "_________________________________________________________________\n",
      "D_conv32_dout (Dropout)      (None, 5, 1, 32)          0         \n",
      "_________________________________________________________________\n",
      "D_conv64_conv (Conv2D)       (None, 5, 1, 64)          2112      \n",
      "_________________________________________________________________\n",
      "D_conv64_actv (LeakyReLU)    (None, 5, 1, 64)          0         \n",
      "_________________________________________________________________\n",
      "D_conv64_dout (Dropout)      (None, 5, 1, 64)          0         \n",
      "_________________________________________________________________\n",
      "D_conv128_conv (Conv2D)      (None, 5, 1, 128)         8320      \n",
      "_________________________________________________________________\n",
      "D_conv128_actv (LeakyReLU)   (None, 5, 1, 128)         0         \n",
      "_________________________________________________________________\n",
      "D_conv128_dout (Dropout)     (None, 5, 1, 128)         0         \n",
      "_________________________________________________________________\n",
      "D_conv256_conv (Conv2D)      (None, 5, 1, 256)         33024     \n",
      "_________________________________________________________________\n",
      "D_conv256_actv (LeakyReLU)   (None, 5, 1, 256)         0         \n",
      "_________________________________________________________________\n",
      "D_conv256_dout (Dropout)     (None, 5, 1, 256)         0         \n",
      "_________________________________________________________________\n",
      "D_flat (Flatten)             (None, 1280)              0         \n",
      "_________________________________________________________________\n",
      "D_dense (Dense)              (None, 1)                 1281      \n",
      "=================================================================\n",
      "Total params: 44,801\n",
      "Trainable params: 44,801\n",
      "Non-trainable params: 0\n",
      "_________________________________________________________________\n"
     ]
    }
   ],
   "source": [
    "discriminator.summary()"
   ]
  },
  {
   "cell_type": "code",
   "execution_count": 21,
   "metadata": {
    "collapsed": true
   },
   "outputs": [],
   "source": [
    "from IPython.display import SVG\n",
    "reload(keras.utils.vis_utils)\n",
    "from keras.utils.vis_utils import model_to_dot"
   ]
  },
  {
   "cell_type": "code",
   "execution_count": 22,
   "metadata": {
    "scrolled": false
   },
   "outputs": [
    {
     "data": {
      "image/svg+xml": [
       "<svg height=\"2784pt\" viewBox=\"0.00 0.00 750.00 2784.00\" width=\"750pt\" xmlns=\"http://www.w3.org/2000/svg\" xmlns:xlink=\"http://www.w3.org/1999/xlink\">\n",
       "<g class=\"graph\" id=\"graph1\" transform=\"scale(1 1) rotate(0) translate(4 2780)\">\n",
       "<title>G</title>\n",
       "<polygon fill=\"white\" points=\"-4,5 -4,-2780 747,-2780 747,5 -4,5\" stroke=\"white\"/>\n",
       "<!-- 47218068069512 -->\n",
       "<g class=\"node\" id=\"node1\"><title>47218068069512</title>\n",
       "<polygon fill=\"none\" points=\"474.817,-2739 474.817,-2775 603.183,-2775 603.183,-2739 474.817,-2739\" stroke=\"black\"/>\n",
       "<text font-family=\"Times,serif\" font-size=\"14.00\" text-anchor=\"middle\" x=\"539\" y=\"-2752.8\">input_2: InputLayer</text>\n",
       "</g>\n",
       "<!-- 47218579740656 -->\n",
       "<g class=\"node\" id=\"node2\"><title>47218579740656</title>\n",
       "<polygon fill=\"none\" points=\"352.488,-2665 352.488,-2701 527.512,-2701 527.512,-2665 352.488,-2665\" stroke=\"black\"/>\n",
       "<text font-family=\"Times,serif\" font-size=\"14.00\" text-anchor=\"middle\" x=\"440\" y=\"-2678.8\">G_padding: ZeroPadding2D</text>\n",
       "</g>\n",
       "<!-- 47218068069512&#45;&gt;47218579740656 -->\n",
       "<g class=\"edge\" id=\"edge2\"><title>47218068069512-&gt;47218579740656</title>\n",
       "<path d=\"M515.538,-2738.94C502.564,-2729.5 486.253,-2717.64 472.112,-2707.35\" fill=\"none\" stroke=\"black\"/>\n",
       "<polygon fill=\"black\" points=\"473.782,-2704.24 463.636,-2701.19 469.665,-2709.9 473.782,-2704.24\" stroke=\"black\"/>\n",
       "</g>\n",
       "<!-- 47218579639880 -->\n",
       "<g class=\"node\" id=\"node36\"><title>47218579639880</title>\n",
       "<polygon fill=\"none\" points=\"463.096,-2591 463.096,-2627 610.904,-2627 610.904,-2591 463.096,-2591\" stroke=\"black\"/>\n",
       "<text font-family=\"Times,serif\" font-size=\"14.00\" text-anchor=\"middle\" x=\"537\" y=\"-2604.8\">G_targets: Cropping2D</text>\n",
       "</g>\n",
       "<!-- 47218068069512&#45;&gt;47218579639880 -->\n",
       "<g class=\"edge\" id=\"edge76\"><title>47218068069512-&gt;47218579639880</title>\n",
       "<path d=\"M588.425,-2738.91C611.42,-2727.59 634.674,-2709.96 639,-2684\" fill=\"none\" stroke=\"black\"/>\n",
       "<path d=\"M639,-2682C642.821,-2659.07 625.546,-2642.72 604.178,-2631.46\" fill=\"none\" stroke=\"black\"/>\n",
       "<polygon fill=\"black\" points=\"605.682,-2628.3 595.157,-2627.09 602.631,-2634.6 605.682,-2628.3\" stroke=\"black\"/>\n",
       "</g>\n",
       "<!-- 47218579680560 -->\n",
       "<g class=\"node\" id=\"node40\"><title>47218579680560</title>\n",
       "<polygon fill=\"none\" points=\"563.536,-2517 563.536,-2553 742.464,-2553 742.464,-2517 563.536,-2517\" stroke=\"black\"/>\n",
       "<text font-family=\"Times,serif\" font-size=\"14.00\" text-anchor=\"middle\" x=\"653\" y=\"-2530.8\">G_conditionals: Cropping2D</text>\n",
       "</g>\n",
       "<!-- 47218068069512&#45;&gt;47218579680560 -->\n",
       "<g class=\"edge\" id=\"edge86\"><title>47218068069512-&gt;47218579680560</title>\n",
       "<path d=\"M639,-2682C645.83,-2641.02 649.641,-2592.97 651.506,-2563.51\" fill=\"none\" stroke=\"black\"/>\n",
       "<polygon fill=\"black\" points=\"655.021,-2563.38 652.128,-2553.18 648.033,-2562.95 655.021,-2563.38\" stroke=\"black\"/>\n",
       "</g>\n",
       "<!-- 47218579716696 -->\n",
       "<g class=\"node\" id=\"node3\"><title>47218579716696</title>\n",
       "<polygon fill=\"none\" points=\"266.925,-2591 266.925,-2627 445.075,-2627 445.075,-2591 266.925,-2591\" stroke=\"black\"/>\n",
       "<text font-family=\"Times,serif\" font-size=\"14.00\" text-anchor=\"middle\" x=\"356\" y=\"-2604.8\">G_cunit_16_conv0: Conv2D</text>\n",
       "</g>\n",
       "<!-- 47218579740656&#45;&gt;47218579716696 -->\n",
       "<g class=\"edge\" id=\"edge4\"><title>47218579740656-&gt;47218579716696</title>\n",
       "<path d=\"M420.093,-2664.94C409.292,-2655.68 395.767,-2644.09 383.928,-2633.94\" fill=\"none\" stroke=\"black\"/>\n",
       "<polygon fill=\"black\" points=\"385.925,-2631.04 376.055,-2627.19 381.37,-2636.36 385.925,-2631.04\" stroke=\"black\"/>\n",
       "</g>\n",
       "<!-- 47218579715296 -->\n",
       "<g class=\"node\" id=\"node4\"><title>47218579715296</title>\n",
       "<polygon fill=\"none\" points=\"240.493,-2517 240.493,-2553 471.507,-2553 471.507,-2517 240.493,-2517\" stroke=\"black\"/>\n",
       "<text font-family=\"Times,serif\" font-size=\"14.00\" text-anchor=\"middle\" x=\"356\" y=\"-2530.8\">G_cunit_16_bn0: BatchNormalization</text>\n",
       "</g>\n",
       "<!-- 47218579716696&#45;&gt;47218579715296 -->\n",
       "<g class=\"edge\" id=\"edge6\"><title>47218579716696-&gt;47218579715296</title>\n",
       "<path d=\"M356,-2590.94C356,-2582.81 356,-2572.88 356,-2563.7\" fill=\"none\" stroke=\"black\"/>\n",
       "<polygon fill=\"black\" points=\"359.5,-2563.44 356,-2553.44 352.5,-2563.44 359.5,-2563.44\" stroke=\"black\"/>\n",
       "</g>\n",
       "<!-- 47218579909544 -->\n",
       "<g class=\"node\" id=\"node5\"><title>47218579909544</title>\n",
       "<polygon fill=\"none\" points=\"280.152,-2443 280.152,-2479 431.848,-2479 431.848,-2443 280.152,-2443\" stroke=\"black\"/>\n",
       "<text font-family=\"Times,serif\" font-size=\"14.00\" text-anchor=\"middle\" x=\"356\" y=\"-2456.8\">activation_1: Activation</text>\n",
       "</g>\n",
       "<!-- 47218579715296&#45;&gt;47218579909544 -->\n",
       "<g class=\"edge\" id=\"edge8\"><title>47218579715296-&gt;47218579909544</title>\n",
       "<path d=\"M356,-2516.94C356,-2508.81 356,-2498.88 356,-2489.7\" fill=\"none\" stroke=\"black\"/>\n",
       "<polygon fill=\"black\" points=\"359.5,-2489.44 356,-2479.44 352.5,-2489.44 359.5,-2489.44\" stroke=\"black\"/>\n",
       "</g>\n",
       "<!-- 47218579987312 -->\n",
       "<g class=\"node\" id=\"node6\"><title>47218579987312</title>\n",
       "<polygon fill=\"none\" points=\"221.143,-2369 221.143,-2405 428.857,-2405 428.857,-2369 221.143,-2369\" stroke=\"black\"/>\n",
       "<text font-family=\"Times,serif\" font-size=\"14.00\" text-anchor=\"middle\" x=\"325\" y=\"-2382.8\">G_cunit_16_pool: MaxPooling2D</text>\n",
       "</g>\n",
       "<!-- 47218579909544&#45;&gt;47218579987312 -->\n",
       "<g class=\"edge\" id=\"edge10\"><title>47218579909544-&gt;47218579987312</title>\n",
       "<path d=\"M348.653,-2442.94C345.039,-2434.54 340.598,-2424.23 336.543,-2414.81\" fill=\"none\" stroke=\"black\"/>\n",
       "<polygon fill=\"black\" points=\"339.679,-2413.24 332.509,-2405.44 333.249,-2416.01 339.679,-2413.24\" stroke=\"black\"/>\n",
       "</g>\n",
       "<!-- 47218584553792 -->\n",
       "<g class=\"node\" id=\"node29\"><title>47218584553792</title>\n",
       "<polygon fill=\"none\" points=\"325.675,-667 325.675,-703 498.325,-703 498.325,-667 325.675,-667\" stroke=\"black\"/>\n",
       "<text font-family=\"Times,serif\" font-size=\"14.00\" text-anchor=\"middle\" x=\"412\" y=\"-680.8\">concatenate_3: Concatenate</text>\n",
       "</g>\n",
       "<!-- 47218579909544&#45;&gt;47218584553792 -->\n",
       "<g class=\"edge\" id=\"edge62\"><title>47218579909544-&gt;47218584553792</title>\n",
       "<path d=\"M393.288,-2442.89C408.927,-2433.96 425.999,-2421.61 437,-2406 461.279,-2371.55 460,-2356.15 460,-2314 460,-2314 460,-2314 460,-832 460,-790.248 455.248,-779.245 441,-740 437.587,-730.598 432.77,-720.819 428.041,-712.209\" fill=\"none\" stroke=\"black\"/>\n",
       "<polygon fill=\"black\" points=\"431.009,-710.349 423.014,-703.397 424.929,-713.818 431.009,-710.349\" stroke=\"black\"/>\n",
       "</g>\n",
       "<!-- 47218580109856 -->\n",
       "<g class=\"node\" id=\"node7\"><title>47218580109856</title>\n",
       "<polygon fill=\"none\" points=\"232.925,-2295 232.925,-2331 411.075,-2331 411.075,-2295 232.925,-2295\" stroke=\"black\"/>\n",
       "<text font-family=\"Times,serif\" font-size=\"14.00\" text-anchor=\"middle\" x=\"322\" y=\"-2308.8\">G_cunit_64_conv0: Conv2D</text>\n",
       "</g>\n",
       "<!-- 47218579987312&#45;&gt;47218580109856 -->\n",
       "<g class=\"edge\" id=\"edge12\"><title>47218579987312-&gt;47218580109856</title>\n",
       "<path d=\"M324.289,-2368.94C323.95,-2360.81 323.537,-2350.88 323.154,-2341.7\" fill=\"none\" stroke=\"black\"/>\n",
       "<polygon fill=\"black\" points=\"326.64,-2341.29 322.727,-2331.44 319.646,-2341.58 326.64,-2341.29\" stroke=\"black\"/>\n",
       "</g>\n",
       "<!-- 47218580550096 -->\n",
       "<g class=\"node\" id=\"node8\"><title>47218580550096</title>\n",
       "<polygon fill=\"none\" points=\"200.493,-2221 200.493,-2257 431.507,-2257 431.507,-2221 200.493,-2221\" stroke=\"black\"/>\n",
       "<text font-family=\"Times,serif\" font-size=\"14.00\" text-anchor=\"middle\" x=\"316\" y=\"-2234.8\">G_cunit_64_bn0: BatchNormalization</text>\n",
       "</g>\n",
       "<!-- 47218580109856&#45;&gt;47218580550096 -->\n",
       "<g class=\"edge\" id=\"edge14\"><title>47218580109856-&gt;47218580550096</title>\n",
       "<path d=\"M320.578,-2294.94C319.901,-2286.81 319.073,-2276.88 318.309,-2267.7\" fill=\"none\" stroke=\"black\"/>\n",
       "<polygon fill=\"black\" points=\"321.772,-2267.12 317.453,-2257.44 314.796,-2267.7 321.772,-2267.12\" stroke=\"black\"/>\n",
       "</g>\n",
       "<!-- 47218580719208 -->\n",
       "<g class=\"node\" id=\"node9\"><title>47218580719208</title>\n",
       "<polygon fill=\"none\" points=\"240.152,-2147 240.152,-2183 391.848,-2183 391.848,-2147 240.152,-2147\" stroke=\"black\"/>\n",
       "<text font-family=\"Times,serif\" font-size=\"14.00\" text-anchor=\"middle\" x=\"316\" y=\"-2160.8\">activation_2: Activation</text>\n",
       "</g>\n",
       "<!-- 47218580550096&#45;&gt;47218580719208 -->\n",
       "<g class=\"edge\" id=\"edge16\"><title>47218580550096-&gt;47218580719208</title>\n",
       "<path d=\"M316,-2220.94C316,-2212.81 316,-2202.88 316,-2193.7\" fill=\"none\" stroke=\"black\"/>\n",
       "<polygon fill=\"black\" points=\"319.5,-2193.44 316,-2183.44 312.5,-2193.44 319.5,-2193.44\" stroke=\"black\"/>\n",
       "</g>\n",
       "<!-- 47218581182784 -->\n",
       "<g class=\"node\" id=\"node10\"><title>47218581182784</title>\n",
       "<polygon fill=\"none\" points=\"129.143,-2073 129.143,-2109 336.857,-2109 336.857,-2073 129.143,-2073\" stroke=\"black\"/>\n",
       "<text font-family=\"Times,serif\" font-size=\"14.00\" text-anchor=\"middle\" x=\"233\" y=\"-2086.8\">G_cunit_64_pool: MaxPooling2D</text>\n",
       "</g>\n",
       "<!-- 47218580719208&#45;&gt;47218581182784 -->\n",
       "<g class=\"edge\" id=\"edge18\"><title>47218580719208-&gt;47218581182784</title>\n",
       "<path d=\"M296.33,-2146.94C285.658,-2137.68 272.293,-2126.09 260.595,-2115.94\" fill=\"none\" stroke=\"black\"/>\n",
       "<polygon fill=\"black\" points=\"262.664,-2113.1 252.816,-2109.19 258.077,-2118.39 262.664,-2113.1\" stroke=\"black\"/>\n",
       "</g>\n",
       "<!-- 47218583451968 -->\n",
       "<g class=\"node\" id=\"node24\"><title>47218583451968</title>\n",
       "<polygon fill=\"none\" points=\"224.675,-1037 224.675,-1073 397.325,-1073 397.325,-1037 224.675,-1037\" stroke=\"black\"/>\n",
       "<text font-family=\"Times,serif\" font-size=\"14.00\" text-anchor=\"middle\" x=\"311\" y=\"-1050.8\">concatenate_2: Concatenate</text>\n",
       "</g>\n",
       "<!-- 47218580719208&#45;&gt;47218583451968 -->\n",
       "<g class=\"edge\" id=\"edge50\"><title>47218580719208-&gt;47218583451968</title>\n",
       "<path d=\"M326.725,-2146.76C342.212,-2120.17 369,-2067.08 369,-2018 369,-2018 369,-2018 369,-1202 369,-1160.25 366.818,-1148.21 350,-1110 345.598,-1100 339.132,-1090.02 332.725,-1081.42\" fill=\"none\" stroke=\"black\"/>\n",
       "<polygon fill=\"black\" points=\"335.322,-1079.05 326.416,-1073.32 329.8,-1083.36 335.322,-1079.05\" stroke=\"black\"/>\n",
       "</g>\n",
       "<!-- 47218580717752 -->\n",
       "<g class=\"node\" id=\"node11\"><title>47218580717752</title>\n",
       "<polygon fill=\"none\" points=\"133.425,-1999 133.425,-2035 318.575,-2035 318.575,-1999 133.425,-1999\" stroke=\"black\"/>\n",
       "<text font-family=\"Times,serif\" font-size=\"14.00\" text-anchor=\"middle\" x=\"226\" y=\"-2012.8\">G_cunit_128_conv0: Conv2D</text>\n",
       "</g>\n",
       "<!-- 47218581182784&#45;&gt;47218580717752 -->\n",
       "<g class=\"edge\" id=\"edge20\"><title>47218581182784-&gt;47218580717752</title>\n",
       "<path d=\"M231.341,-2072.94C230.542,-2064.72 229.564,-2054.66 228.664,-2045.41\" fill=\"none\" stroke=\"black\"/>\n",
       "<polygon fill=\"black\" points=\"232.147,-2045.06 227.696,-2035.44 225.18,-2045.73 232.147,-2045.06\" stroke=\"black\"/>\n",
       "</g>\n",
       "<!-- 47218581318120 -->\n",
       "<g class=\"node\" id=\"node12\"><title>47218581318120</title>\n",
       "<polygon fill=\"none\" points=\"102.993,-1925 102.993,-1961 341.007,-1961 341.007,-1925 102.993,-1925\" stroke=\"black\"/>\n",
       "<text font-family=\"Times,serif\" font-size=\"14.00\" text-anchor=\"middle\" x=\"222\" y=\"-1938.8\">G_cunit_128_bn0: BatchNormalization</text>\n",
       "</g>\n",
       "<!-- 47218580717752&#45;&gt;47218581318120 -->\n",
       "<g class=\"edge\" id=\"edge22\"><title>47218580717752-&gt;47218581318120</title>\n",
       "<path d=\"M225.052,-1998.94C224.6,-1990.81 224.049,-1980.88 223.539,-1971.7\" fill=\"none\" stroke=\"black\"/>\n",
       "<polygon fill=\"black\" points=\"227.018,-1971.23 222.969,-1961.44 220.029,-1971.62 227.018,-1971.23\" stroke=\"black\"/>\n",
       "</g>\n",
       "<!-- 47218581475280 -->\n",
       "<g class=\"node\" id=\"node13\"><title>47218581475280</title>\n",
       "<polygon fill=\"none\" points=\"146.152,-1851 146.152,-1887 297.848,-1887 297.848,-1851 146.152,-1851\" stroke=\"black\"/>\n",
       "<text font-family=\"Times,serif\" font-size=\"14.00\" text-anchor=\"middle\" x=\"222\" y=\"-1864.8\">activation_3: Activation</text>\n",
       "</g>\n",
       "<!-- 47218581318120&#45;&gt;47218581475280 -->\n",
       "<g class=\"edge\" id=\"edge24\"><title>47218581318120-&gt;47218581475280</title>\n",
       "<path d=\"M222,-1924.94C222,-1916.81 222,-1906.88 222,-1897.7\" fill=\"none\" stroke=\"black\"/>\n",
       "<polygon fill=\"black\" points=\"225.5,-1897.44 222,-1887.44 218.5,-1897.44 225.5,-1897.44\" stroke=\"black\"/>\n",
       "</g>\n",
       "<!-- 47218581475056 -->\n",
       "<g class=\"node\" id=\"node14\"><title>47218581475056</title>\n",
       "<polygon fill=\"none\" points=\"25.6434,-1777 25.6434,-1813 240.357,-1813 240.357,-1777 25.6434,-1777\" stroke=\"black\"/>\n",
       "<text font-family=\"Times,serif\" font-size=\"14.00\" text-anchor=\"middle\" x=\"133\" y=\"-1790.8\">G_cunit_128_pool: MaxPooling2D</text>\n",
       "</g>\n",
       "<!-- 47218581475280&#45;&gt;47218581475056 -->\n",
       "<g class=\"edge\" id=\"edge26\"><title>47218581475280-&gt;47218581475056</title>\n",
       "<path d=\"M200.908,-1850.94C189.355,-1841.59 174.858,-1829.86 162.229,-1819.65\" fill=\"none\" stroke=\"black\"/>\n",
       "<polygon fill=\"black\" points=\"164.225,-1816.76 154.249,-1813.19 159.822,-1822.2 164.225,-1816.76\" stroke=\"black\"/>\n",
       "</g>\n",
       "<!-- 47218077860640 -->\n",
       "<g class=\"node\" id=\"node19\"><title>47218077860640</title>\n",
       "<polygon fill=\"none\" points=\"133.675,-1407 133.675,-1443 306.325,-1443 306.325,-1407 133.675,-1407\" stroke=\"black\"/>\n",
       "<text font-family=\"Times,serif\" font-size=\"14.00\" text-anchor=\"middle\" x=\"220\" y=\"-1420.8\">concatenate_1: Concatenate</text>\n",
       "</g>\n",
       "<!-- 47218581475280&#45;&gt;47218077860640 -->\n",
       "<g class=\"edge\" id=\"edge38\"><title>47218581475280-&gt;47218077860640</title>\n",
       "<path d=\"M233.13,-1850.81C249.201,-1824.29 277,-1771.3 277,-1722 277,-1722 277,-1722 277,-1572 277,-1530.16 273.579,-1518.42 257,-1480 252.745,-1470.14 246.589,-1460.2 240.516,-1451.58\" fill=\"none\" stroke=\"black\"/>\n",
       "<polygon fill=\"black\" points=\"243.288,-1449.45 234.544,-1443.46 237.648,-1453.59 243.288,-1449.45\" stroke=\"black\"/>\n",
       "</g>\n",
       "<!-- 47218579717312 -->\n",
       "<g class=\"node\" id=\"node15\"><title>47218579717312</title>\n",
       "<polygon fill=\"none\" points=\"38.4246,-1703 38.4246,-1739 223.575,-1739 223.575,-1703 38.4246,-1703\" stroke=\"black\"/>\n",
       "<text font-family=\"Times,serif\" font-size=\"14.00\" text-anchor=\"middle\" x=\"131\" y=\"-1716.8\">G_cunit_256_conv0: Conv2D</text>\n",
       "</g>\n",
       "<!-- 47218581475056&#45;&gt;47218579717312 -->\n",
       "<g class=\"edge\" id=\"edge28\"><title>47218581475056-&gt;47218579717312</title>\n",
       "<path d=\"M132.526,-1776.94C132.3,-1768.81 132.024,-1758.88 131.77,-1749.7\" fill=\"none\" stroke=\"black\"/>\n",
       "<polygon fill=\"black\" points=\"135.261,-1749.34 131.484,-1739.44 128.264,-1749.53 135.261,-1749.34\" stroke=\"black\"/>\n",
       "</g>\n",
       "<!-- 47218581983864 -->\n",
       "<g class=\"node\" id=\"node16\"><title>47218581983864</title>\n",
       "<polygon fill=\"none\" points=\"7.9933,-1629 7.9933,-1665 246.007,-1665 246.007,-1629 7.9933,-1629\" stroke=\"black\"/>\n",
       "<text font-family=\"Times,serif\" font-size=\"14.00\" text-anchor=\"middle\" x=\"127\" y=\"-1642.8\">G_cunit_256_bn0: BatchNormalization</text>\n",
       "</g>\n",
       "<!-- 47218579717312&#45;&gt;47218581983864 -->\n",
       "<g class=\"edge\" id=\"edge30\"><title>47218579717312-&gt;47218581983864</title>\n",
       "<path d=\"M130.052,-1702.94C129.6,-1694.81 129.049,-1684.88 128.539,-1675.7\" fill=\"none\" stroke=\"black\"/>\n",
       "<polygon fill=\"black\" points=\"132.018,-1675.23 127.969,-1665.44 125.029,-1675.62 132.018,-1675.23\" stroke=\"black\"/>\n",
       "</g>\n",
       "<!-- 47218582189448 -->\n",
       "<g class=\"node\" id=\"node17\"><title>47218582189448</title>\n",
       "<polygon fill=\"none\" points=\"49.1525,-1555 49.1525,-1591 200.848,-1591 200.848,-1555 49.1525,-1555\" stroke=\"black\"/>\n",
       "<text font-family=\"Times,serif\" font-size=\"14.00\" text-anchor=\"middle\" x=\"125\" y=\"-1568.8\">activation_4: Activation</text>\n",
       "</g>\n",
       "<!-- 47218581983864&#45;&gt;47218582189448 -->\n",
       "<g class=\"edge\" id=\"edge32\"><title>47218581983864-&gt;47218582189448</title>\n",
       "<path d=\"M126.526,-1628.94C126.3,-1620.81 126.024,-1610.88 125.77,-1601.7\" fill=\"none\" stroke=\"black\"/>\n",
       "<polygon fill=\"black\" points=\"129.261,-1601.34 125.484,-1591.44 122.264,-1601.53 129.261,-1601.34\" stroke=\"black\"/>\n",
       "</g>\n",
       "<!-- 47218582114144 -->\n",
       "<g class=\"node\" id=\"node18\"><title>47218582114144</title>\n",
       "<polygon fill=\"none\" points=\"-0.8412,-1481 -0.8412,-1517 248.841,-1517 248.841,-1481 -0.8412,-1481\" stroke=\"black\"/>\n",
       "<text font-family=\"Times,serif\" font-size=\"14.00\" text-anchor=\"middle\" x=\"124\" y=\"-1494.8\">G_dunit_128_deconv: Conv2DTranspose</text>\n",
       "</g>\n",
       "<!-- 47218582189448&#45;&gt;47218582114144 -->\n",
       "<g class=\"edge\" id=\"edge34\"><title>47218582189448-&gt;47218582114144</title>\n",
       "<path d=\"M124.763,-1554.94C124.65,-1546.81 124.512,-1536.88 124.385,-1527.7\" fill=\"none\" stroke=\"black\"/>\n",
       "<polygon fill=\"black\" points=\"127.881,-1527.39 124.242,-1517.44 120.882,-1527.49 127.881,-1527.39\" stroke=\"black\"/>\n",
       "</g>\n",
       "<!-- 47218582114144&#45;&gt;47218077860640 -->\n",
       "<g class=\"edge\" id=\"edge36\"><title>47218582114144-&gt;47218077860640</title>\n",
       "<path d=\"M146.751,-1480.94C159.332,-1471.5 175.148,-1459.64 188.861,-1449.35\" fill=\"none\" stroke=\"black\"/>\n",
       "<polygon fill=\"black\" points=\"191.18,-1451.99 197.08,-1443.19 186.98,-1446.39 191.18,-1451.99\" stroke=\"black\"/>\n",
       "</g>\n",
       "<!-- 47216973850552 -->\n",
       "<g class=\"node\" id=\"node20\"><title>47216973850552</title>\n",
       "<polygon fill=\"none\" points=\"127.032,-1333 127.032,-1369 312.968,-1369 312.968,-1333 127.032,-1333\" stroke=\"black\"/>\n",
       "<text font-family=\"Times,serif\" font-size=\"14.00\" text-anchor=\"middle\" x=\"220\" y=\"-1346.8\">G_dunit_128_conv0: Conv2D</text>\n",
       "</g>\n",
       "<!-- 47218077860640&#45;&gt;47216973850552 -->\n",
       "<g class=\"edge\" id=\"edge40\"><title>47218077860640-&gt;47216973850552</title>\n",
       "<path d=\"M220,-1406.94C220,-1398.81 220,-1388.88 220,-1379.7\" fill=\"none\" stroke=\"black\"/>\n",
       "<polygon fill=\"black\" points=\"223.5,-1379.44 220,-1369.44 216.5,-1379.44 223.5,-1379.44\" stroke=\"black\"/>\n",
       "</g>\n",
       "<!-- 47218583001128 -->\n",
       "<g class=\"node\" id=\"node21\"><title>47218583001128</title>\n",
       "<polygon fill=\"none\" points=\"100.601,-1259 100.601,-1295 339.399,-1295 339.399,-1259 100.601,-1259\" stroke=\"black\"/>\n",
       "<text font-family=\"Times,serif\" font-size=\"14.00\" text-anchor=\"middle\" x=\"220\" y=\"-1272.8\">G_dunit_128_bn0: BatchNormalization</text>\n",
       "</g>\n",
       "<!-- 47216973850552&#45;&gt;47218583001128 -->\n",
       "<g class=\"edge\" id=\"edge42\"><title>47216973850552-&gt;47218583001128</title>\n",
       "<path d=\"M220,-1332.94C220,-1324.81 220,-1314.88 220,-1305.7\" fill=\"none\" stroke=\"black\"/>\n",
       "<polygon fill=\"black\" points=\"223.5,-1305.44 220,-1295.44 216.5,-1305.44 223.5,-1305.44\" stroke=\"black\"/>\n",
       "</g>\n",
       "<!-- 47218583296488 -->\n",
       "<g class=\"node\" id=\"node22\"><title>47218583296488</title>\n",
       "<polygon fill=\"none\" points=\"144.152,-1185 144.152,-1221 295.848,-1221 295.848,-1185 144.152,-1185\" stroke=\"black\"/>\n",
       "<text font-family=\"Times,serif\" font-size=\"14.00\" text-anchor=\"middle\" x=\"220\" y=\"-1198.8\">activation_5: Activation</text>\n",
       "</g>\n",
       "<!-- 47218583001128&#45;&gt;47218583296488 -->\n",
       "<g class=\"edge\" id=\"edge44\"><title>47218583001128-&gt;47218583296488</title>\n",
       "<path d=\"M220,-1258.94C220,-1250.81 220,-1240.88 220,-1231.7\" fill=\"none\" stroke=\"black\"/>\n",
       "<polygon fill=\"black\" points=\"223.5,-1231.44 220,-1221.44 216.5,-1231.44 223.5,-1231.44\" stroke=\"black\"/>\n",
       "</g>\n",
       "<!-- 47218583295088 -->\n",
       "<g class=\"node\" id=\"node23\"><title>47218583295088</title>\n",
       "<polygon fill=\"none\" points=\"98.6588,-1111 98.6588,-1147 341.341,-1147 341.341,-1111 98.6588,-1111\" stroke=\"black\"/>\n",
       "<text font-family=\"Times,serif\" font-size=\"14.00\" text-anchor=\"middle\" x=\"220\" y=\"-1124.8\">G_dunit_64_deconv: Conv2DTranspose</text>\n",
       "</g>\n",
       "<!-- 47218583296488&#45;&gt;47218583295088 -->\n",
       "<g class=\"edge\" id=\"edge46\"><title>47218583296488-&gt;47218583295088</title>\n",
       "<path d=\"M220,-1184.94C220,-1176.81 220,-1166.88 220,-1157.7\" fill=\"none\" stroke=\"black\"/>\n",
       "<polygon fill=\"black\" points=\"223.5,-1157.44 220,-1147.44 216.5,-1157.44 223.5,-1157.44\" stroke=\"black\"/>\n",
       "</g>\n",
       "<!-- 47218583295088&#45;&gt;47218583451968 -->\n",
       "<g class=\"edge\" id=\"edge48\"><title>47218583295088-&gt;47218583451968</title>\n",
       "<path d=\"M241.566,-1110.94C253.379,-1101.59 268.202,-1089.86 281.115,-1079.65\" fill=\"none\" stroke=\"black\"/>\n",
       "<polygon fill=\"black\" points=\"283.603,-1082.14 289.274,-1073.19 279.26,-1076.65 283.603,-1082.14\" stroke=\"black\"/>\n",
       "</g>\n",
       "<!-- 47218583451016 -->\n",
       "<g class=\"node\" id=\"node25\"><title>47218583451016</title>\n",
       "<polygon fill=\"none\" points=\"221.532,-963 221.532,-999 400.468,-999 400.468,-963 221.532,-963\" stroke=\"black\"/>\n",
       "<text font-family=\"Times,serif\" font-size=\"14.00\" text-anchor=\"middle\" x=\"311\" y=\"-976.8\">G_dunit_64_conv0: Conv2D</text>\n",
       "</g>\n",
       "<!-- 47218583451968&#45;&gt;47218583451016 -->\n",
       "<g class=\"edge\" id=\"edge52\"><title>47218583451968-&gt;47218583451016</title>\n",
       "<path d=\"M311,-1036.94C311,-1028.81 311,-1018.88 311,-1009.7\" fill=\"none\" stroke=\"black\"/>\n",
       "<polygon fill=\"black\" points=\"314.5,-1009.44 311,-999.441 307.5,-1009.44 314.5,-1009.44\" stroke=\"black\"/>\n",
       "</g>\n",
       "<!-- 47218584067768 -->\n",
       "<g class=\"node\" id=\"node26\"><title>47218584067768</title>\n",
       "<polygon fill=\"none\" points=\"195.101,-889 195.101,-925 426.899,-925 426.899,-889 195.101,-889\" stroke=\"black\"/>\n",
       "<text font-family=\"Times,serif\" font-size=\"14.00\" text-anchor=\"middle\" x=\"311\" y=\"-902.8\">G_dunit_64_bn0: BatchNormalization</text>\n",
       "</g>\n",
       "<!-- 47218583451016&#45;&gt;47218584067768 -->\n",
       "<g class=\"edge\" id=\"edge54\"><title>47218583451016-&gt;47218584067768</title>\n",
       "<path d=\"M311,-962.937C311,-954.807 311,-944.876 311,-935.705\" fill=\"none\" stroke=\"black\"/>\n",
       "<polygon fill=\"black\" points=\"314.5,-935.441 311,-925.441 307.5,-935.441 314.5,-935.441\" stroke=\"black\"/>\n",
       "</g>\n",
       "<!-- 47218584401008 -->\n",
       "<g class=\"node\" id=\"node27\"><title>47218584401008</title>\n",
       "<polygon fill=\"none\" points=\"235.152,-815 235.152,-851 386.848,-851 386.848,-815 235.152,-815\" stroke=\"black\"/>\n",
       "<text font-family=\"Times,serif\" font-size=\"14.00\" text-anchor=\"middle\" x=\"311\" y=\"-828.8\">activation_6: Activation</text>\n",
       "</g>\n",
       "<!-- 47218584067768&#45;&gt;47218584401008 -->\n",
       "<g class=\"edge\" id=\"edge56\"><title>47218584067768-&gt;47218584401008</title>\n",
       "<path d=\"M311,-888.937C311,-880.807 311,-870.876 311,-861.705\" fill=\"none\" stroke=\"black\"/>\n",
       "<polygon fill=\"black\" points=\"314.5,-861.441 311,-851.441 307.5,-861.441 314.5,-861.441\" stroke=\"black\"/>\n",
       "</g>\n",
       "<!-- 47218584403696 -->\n",
       "<g class=\"node\" id=\"node28\"><title>47218584403696</title>\n",
       "<polygon fill=\"none\" points=\"189.659,-741 189.659,-777 432.341,-777 432.341,-741 189.659,-741\" stroke=\"black\"/>\n",
       "<text font-family=\"Times,serif\" font-size=\"14.00\" text-anchor=\"middle\" x=\"311\" y=\"-754.8\">G_dunit_16_deconv: Conv2DTranspose</text>\n",
       "</g>\n",
       "<!-- 47218584401008&#45;&gt;47218584403696 -->\n",
       "<g class=\"edge\" id=\"edge58\"><title>47218584401008-&gt;47218584403696</title>\n",
       "<path d=\"M311,-814.937C311,-806.807 311,-796.876 311,-787.705\" fill=\"none\" stroke=\"black\"/>\n",
       "<polygon fill=\"black\" points=\"314.5,-787.441 311,-777.441 307.5,-787.441 314.5,-787.441\" stroke=\"black\"/>\n",
       "</g>\n",
       "<!-- 47218584403696&#45;&gt;47218584553792 -->\n",
       "<g class=\"edge\" id=\"edge60\"><title>47218584403696-&gt;47218584553792</title>\n",
       "<path d=\"M334.936,-740.937C348.297,-731.412 365.126,-719.415 379.647,-709.063\" fill=\"none\" stroke=\"black\"/>\n",
       "<polygon fill=\"black\" points=\"381.775,-711.845 387.886,-703.19 377.712,-706.145 381.775,-711.845\" stroke=\"black\"/>\n",
       "</g>\n",
       "<!-- 47218584552840 -->\n",
       "<g class=\"node\" id=\"node30\"><title>47218584552840</title>\n",
       "<polygon fill=\"none\" points=\"322.532,-593 322.532,-629 501.468,-629 501.468,-593 322.532,-593\" stroke=\"black\"/>\n",
       "<text font-family=\"Times,serif\" font-size=\"14.00\" text-anchor=\"middle\" x=\"412\" y=\"-606.8\">G_dunit_16_conv0: Conv2D</text>\n",
       "</g>\n",
       "<!-- 47218584553792&#45;&gt;47218584552840 -->\n",
       "<g class=\"edge\" id=\"edge64\"><title>47218584553792-&gt;47218584552840</title>\n",
       "<path d=\"M412,-666.937C412,-658.807 412,-648.876 412,-639.705\" fill=\"none\" stroke=\"black\"/>\n",
       "<polygon fill=\"black\" points=\"415.5,-639.441 412,-629.441 408.5,-639.441 415.5,-639.441\" stroke=\"black\"/>\n",
       "</g>\n",
       "<!-- 47218585177784 -->\n",
       "<g class=\"node\" id=\"node31\"><title>47218585177784</title>\n",
       "<polygon fill=\"none\" points=\"296.101,-519 296.101,-555 527.899,-555 527.899,-519 296.101,-519\" stroke=\"black\"/>\n",
       "<text font-family=\"Times,serif\" font-size=\"14.00\" text-anchor=\"middle\" x=\"412\" y=\"-532.8\">G_dunit_16_bn0: BatchNormalization</text>\n",
       "</g>\n",
       "<!-- 47218584552840&#45;&gt;47218585177784 -->\n",
       "<g class=\"edge\" id=\"edge66\"><title>47218584552840-&gt;47218585177784</title>\n",
       "<path d=\"M412,-592.937C412,-584.807 412,-574.876 412,-565.705\" fill=\"none\" stroke=\"black\"/>\n",
       "<polygon fill=\"black\" points=\"415.5,-565.441 412,-555.441 408.5,-565.441 415.5,-565.441\" stroke=\"black\"/>\n",
       "</g>\n",
       "<!-- 47218585502888 -->\n",
       "<g class=\"node\" id=\"node32\"><title>47218585502888</title>\n",
       "<polygon fill=\"none\" points=\"356.152,-445 356.152,-481 507.848,-481 507.848,-445 356.152,-445\" stroke=\"black\"/>\n",
       "<text font-family=\"Times,serif\" font-size=\"14.00\" text-anchor=\"middle\" x=\"432\" y=\"-458.8\">activation_7: Activation</text>\n",
       "</g>\n",
       "<!-- 47218585177784&#45;&gt;47218585502888 -->\n",
       "<g class=\"edge\" id=\"edge68\"><title>47218585177784-&gt;47218585502888</title>\n",
       "<path d=\"M416.74,-518.937C419.047,-510.63 421.877,-500.444 424.47,-491.108\" fill=\"none\" stroke=\"black\"/>\n",
       "<polygon fill=\"black\" points=\"427.851,-492.013 427.155,-481.441 421.107,-490.139 427.851,-492.013\" stroke=\"black\"/>\n",
       "</g>\n",
       "<!-- 47218585505520 -->\n",
       "<g class=\"node\" id=\"node33\"><title>47218585505520</title>\n",
       "<polygon fill=\"none\" points=\"370.2,-371 370.2,-407 497.8,-407 497.8,-371 370.2,-371\" stroke=\"black\"/>\n",
       "<text font-family=\"Times,serif\" font-size=\"14.00\" text-anchor=\"middle\" x=\"434\" y=\"-384.8\">dropout_1: Dropout</text>\n",
       "</g>\n",
       "<!-- 47218585502888&#45;&gt;47218585505520 -->\n",
       "<g class=\"edge\" id=\"edge70\"><title>47218585502888-&gt;47218585505520</title>\n",
       "<path d=\"M432.474,-444.937C432.7,-436.807 432.976,-426.876 433.23,-417.705\" fill=\"none\" stroke=\"black\"/>\n",
       "<polygon fill=\"black\" points=\"436.736,-417.534 433.516,-407.441 429.739,-417.34 436.736,-417.534\" stroke=\"black\"/>\n",
       "</g>\n",
       "<!-- 47218585503560 -->\n",
       "<g class=\"node\" id=\"node34\"><title>47218585503560</title>\n",
       "<polygon fill=\"none\" points=\"399.981,-297 399.981,-333 498.019,-333 498.019,-297 399.981,-297\" stroke=\"black\"/>\n",
       "<text font-family=\"Times,serif\" font-size=\"14.00\" text-anchor=\"middle\" x=\"449\" y=\"-310.8\">G_flat: Flatten</text>\n",
       "</g>\n",
       "<!-- 47218585505520&#45;&gt;47218585503560 -->\n",
       "<g class=\"edge\" id=\"edge72\"><title>47218585505520-&gt;47218585503560</title>\n",
       "<path d=\"M437.555,-370.937C439.267,-362.719 441.362,-352.66 443.29,-343.406\" fill=\"none\" stroke=\"black\"/>\n",
       "<polygon fill=\"black\" points=\"446.753,-343.944 445.367,-333.441 439.9,-342.517 446.753,-343.944\" stroke=\"black\"/>\n",
       "</g>\n",
       "<!-- 47218585839208 -->\n",
       "<g class=\"node\" id=\"node35\"><title>47218585839208</title>\n",
       "<polygon fill=\"none\" points=\"403.324,-223 403.324,-259 510.676,-259 510.676,-223 403.324,-223\" stroke=\"black\"/>\n",
       "<text font-family=\"Times,serif\" font-size=\"14.00\" text-anchor=\"middle\" x=\"457\" y=\"-236.8\">G_dense: Dense</text>\n",
       "</g>\n",
       "<!-- 47218585503560&#45;&gt;47218585839208 -->\n",
       "<g class=\"edge\" id=\"edge74\"><title>47218585503560-&gt;47218585839208</title>\n",
       "<path d=\"M450.896,-296.937C451.809,-288.719 452.927,-278.66 453.955,-269.406\" fill=\"none\" stroke=\"black\"/>\n",
       "<polygon fill=\"black\" points=\"457.436,-269.766 455.062,-259.441 450.479,-268.993 457.436,-269.766\" stroke=\"black\"/>\n",
       "</g>\n",
       "<!-- 47218585661336 -->\n",
       "<g class=\"node\" id=\"node37\"><title>47218585661336</title>\n",
       "<polygon fill=\"none\" points=\"395.664,-149 395.664,-185 526.336,-185 526.336,-149 395.664,-149\" stroke=\"black\"/>\n",
       "<text font-family=\"Times,serif\" font-size=\"14.00\" text-anchor=\"middle\" x=\"461\" y=\"-162.8\">G_reshape: Reshape</text>\n",
       "</g>\n",
       "<!-- 47218585839208&#45;&gt;47218585661336 -->\n",
       "<g class=\"edge\" id=\"edge78\"><title>47218585839208-&gt;47218585661336</title>\n",
       "<path d=\"M457.948,-222.937C458.4,-214.807 458.951,-204.876 459.461,-195.705\" fill=\"none\" stroke=\"black\"/>\n",
       "<polygon fill=\"black\" points=\"462.971,-195.619 460.031,-185.441 455.982,-195.231 462.971,-195.619\" stroke=\"black\"/>\n",
       "</g>\n",
       "<!-- 47218579717144 -->\n",
       "<g class=\"node\" id=\"node38\"><title>47218579717144</title>\n",
       "<polygon fill=\"none\" points=\"450.507,-2443 450.507,-2479 625.493,-2479 625.493,-2443 450.507,-2443\" stroke=\"black\"/>\n",
       "<text font-family=\"Times,serif\" font-size=\"14.00\" text-anchor=\"middle\" x=\"538\" y=\"-2456.8\">G_reshape_targets: Reshape</text>\n",
       "</g>\n",
       "<!-- 47218579639880&#45;&gt;47218579717144 -->\n",
       "<g class=\"edge\" id=\"edge80\"><title>47218579639880-&gt;47218579717144</title>\n",
       "<path d=\"M537.117,-2590.97C537.287,-2566.04 537.607,-2519.37 537.811,-2489.54\" fill=\"none\" stroke=\"black\"/>\n",
       "<polygon fill=\"black\" points=\"541.312,-2489.4 537.881,-2479.38 534.312,-2489.35 541.312,-2489.4\" stroke=\"black\"/>\n",
       "</g>\n",
       "<!-- 47218586369160 -->\n",
       "<g class=\"node\" id=\"node39\"><title>47218586369160</title>\n",
       "<polygon fill=\"none\" points=\"504.263,-75 504.263,-111 607.737,-111 607.737,-75 504.263,-75\" stroke=\"black\"/>\n",
       "<text font-family=\"Times,serif\" font-size=\"14.00\" text-anchor=\"middle\" x=\"556\" y=\"-88.8\">G_predict: Add</text>\n",
       "</g>\n",
       "<!-- 47218585661336&#45;&gt;47218586369160 -->\n",
       "<g class=\"edge\" id=\"edge82\"><title>47218585661336-&gt;47218586369160</title>\n",
       "<path d=\"M483.514,-148.937C495.964,-139.501 511.615,-127.639 525.186,-117.354\" fill=\"none\" stroke=\"black\"/>\n",
       "<polygon fill=\"black\" points=\"527.463,-120.02 533.319,-111.19 523.235,-114.441 527.463,-120.02\" stroke=\"black\"/>\n",
       "</g>\n",
       "<!-- 47218579717144&#45;&gt;47218586369160 -->\n",
       "<g class=\"edge\" id=\"edge84\"><title>47218579717144-&gt;47218586369160</title>\n",
       "<path d=\"M541.556,-2442.56C546.802,-2415.26 556,-2360.74 556,-2314 556,-2314 556,-2314 556,-240 556,-198.644 556,-150.7 556,-121.363\" fill=\"none\" stroke=\"black\"/>\n",
       "<polygon fill=\"black\" points=\"559.5,-121.083 556,-111.083 552.5,-121.083 559.5,-121.083\" stroke=\"black\"/>\n",
       "</g>\n",
       "<!-- 47218586369048 -->\n",
       "<g class=\"node\" id=\"node41\"><title>47218586369048</title>\n",
       "<polygon fill=\"none\" points=\"531.265,-1 531.265,-37 676.735,-37 676.735,-1 531.265,-1\" stroke=\"black\"/>\n",
       "<text font-family=\"Times,serif\" font-size=\"14.00\" text-anchor=\"middle\" x=\"604\" y=\"-14.8\">G_output: Concatenate</text>\n",
       "</g>\n",
       "<!-- 47218586369160&#45;&gt;47218586369048 -->\n",
       "<g class=\"edge\" id=\"edge88\"><title>47218586369160-&gt;47218586369048</title>\n",
       "<path d=\"M567.375,-74.937C573.149,-66.277 580.285,-55.5731 586.72,-45.9207\" fill=\"none\" stroke=\"black\"/>\n",
       "<polygon fill=\"black\" points=\"589.738,-47.7027 592.373,-37.4407 583.914,-43.8197 589.738,-47.7027\" stroke=\"black\"/>\n",
       "</g>\n",
       "<!-- 47218579680560&#45;&gt;47218586369048 -->\n",
       "<g class=\"edge\" id=\"edge90\"><title>47218579680560-&gt;47218586369048</title>\n",
       "<path d=\"M653,-2516.92C653,-2489.66 653,-2434.64 653,-2388 653,-2388 653,-2388 653,-166 653,-122.281 633.009,-74.8467 618.565,-46.2795\" fill=\"none\" stroke=\"black\"/>\n",
       "<polygon fill=\"black\" points=\"621.637,-44.602 613.916,-37.3474 615.428,-47.8338 621.637,-44.602\" stroke=\"black\"/>\n",
       "</g>\n",
       "</g>\n",
       "</svg>"
      ],
      "text/plain": [
       "<IPython.core.display.SVG object>"
      ]
     },
     "execution_count": 22,
     "metadata": {},
     "output_type": "execute_result"
    }
   ],
   "source": [
    "SVG(model_to_dot(generator).create(prog='dot', format='svg'))"
   ]
  },
  {
   "cell_type": "code",
   "execution_count": 23,
   "metadata": {},
   "outputs": [
    {
     "data": {
      "image/svg+xml": [
       "<svg height=\"1082pt\" viewBox=\"0.00 0.00 196.00 1082.00\" width=\"196pt\" xmlns=\"http://www.w3.org/2000/svg\" xmlns:xlink=\"http://www.w3.org/1999/xlink\">\n",
       "<g class=\"graph\" id=\"graph1\" transform=\"scale(1 1) rotate(0) translate(4 1078)\">\n",
       "<title>G</title>\n",
       "<polygon fill=\"white\" points=\"-4,5 -4,-1078 193,-1078 193,5 -4,5\" stroke=\"white\"/>\n",
       "<!-- 47218075394736 -->\n",
       "<g class=\"node\" id=\"node1\"><title>47218075394736</title>\n",
       "<polygon fill=\"none\" points=\"29.8173,-1037 29.8173,-1073 158.183,-1073 158.183,-1037 29.8173,-1037\" stroke=\"black\"/>\n",
       "<text font-family=\"Times,serif\" font-size=\"14.00\" text-anchor=\"middle\" x=\"94\" y=\"-1050.8\">input_1: InputLayer</text>\n",
       "</g>\n",
       "<!-- 47218077785616 -->\n",
       "<g class=\"node\" id=\"node2\"><title>47218077785616</title>\n",
       "<polygon fill=\"none\" points=\"12.3152,-963 12.3152,-999 175.685,-999 175.685,-963 12.3152,-963\" stroke=\"black\"/>\n",
       "<text font-family=\"Times,serif\" font-size=\"14.00\" text-anchor=\"middle\" x=\"94\" y=\"-976.8\">D_conv32_conv: Conv2D</text>\n",
       "</g>\n",
       "<!-- 47218075394736&#45;&gt;47218077785616 -->\n",
       "<g class=\"edge\" id=\"edge2\"><title>47218075394736-&gt;47218077785616</title>\n",
       "<path d=\"M94,-1036.94C94,-1028.81 94,-1018.88 94,-1009.7\" fill=\"none\" stroke=\"black\"/>\n",
       "<polygon fill=\"black\" points=\"97.5001,-1009.44 94,-999.441 90.5001,-1009.44 97.5001,-1009.44\" stroke=\"black\"/>\n",
       "</g>\n",
       "<!-- 47218077862152 -->\n",
       "<g class=\"node\" id=\"node3\"><title>47218077862152</title>\n",
       "<polygon fill=\"none\" points=\"3.3881,-889 3.3881,-925 184.612,-925 184.612,-889 3.3881,-889\" stroke=\"black\"/>\n",
       "<text font-family=\"Times,serif\" font-size=\"14.00\" text-anchor=\"middle\" x=\"94\" y=\"-902.8\">D_conv32_actv: LeakyReLU</text>\n",
       "</g>\n",
       "<!-- 47218077785616&#45;&gt;47218077862152 -->\n",
       "<g class=\"edge\" id=\"edge4\"><title>47218077785616-&gt;47218077862152</title>\n",
       "<path d=\"M94,-962.937C94,-954.807 94,-944.876 94,-935.705\" fill=\"none\" stroke=\"black\"/>\n",
       "<polygon fill=\"black\" points=\"97.5001,-935.441 94,-925.441 90.5001,-935.441 97.5001,-935.441\" stroke=\"black\"/>\n",
       "</g>\n",
       "<!-- 47218077861200 -->\n",
       "<g class=\"node\" id=\"node4\"><title>47218077861200</title>\n",
       "<polygon fill=\"none\" points=\"13.8699,-815 13.8699,-851 174.13,-851 174.13,-815 13.8699,-815\" stroke=\"black\"/>\n",
       "<text font-family=\"Times,serif\" font-size=\"14.00\" text-anchor=\"middle\" x=\"94\" y=\"-828.8\">D_conv32_dout: Dropout</text>\n",
       "</g>\n",
       "<!-- 47218077862152&#45;&gt;47218077861200 -->\n",
       "<g class=\"edge\" id=\"edge6\"><title>47218077862152-&gt;47218077861200</title>\n",
       "<path d=\"M94,-888.937C94,-880.807 94,-870.876 94,-861.705\" fill=\"none\" stroke=\"black\"/>\n",
       "<polygon fill=\"black\" points=\"97.5001,-861.441 94,-851.441 90.5001,-861.441 97.5001,-861.441\" stroke=\"black\"/>\n",
       "</g>\n",
       "<!-- 47218578103152 -->\n",
       "<g class=\"node\" id=\"node5\"><title>47218578103152</title>\n",
       "<polygon fill=\"none\" points=\"12.3152,-741 12.3152,-777 175.685,-777 175.685,-741 12.3152,-741\" stroke=\"black\"/>\n",
       "<text font-family=\"Times,serif\" font-size=\"14.00\" text-anchor=\"middle\" x=\"94\" y=\"-754.8\">D_conv64_conv: Conv2D</text>\n",
       "</g>\n",
       "<!-- 47218077861200&#45;&gt;47218578103152 -->\n",
       "<g class=\"edge\" id=\"edge8\"><title>47218077861200-&gt;47218578103152</title>\n",
       "<path d=\"M94,-814.937C94,-806.807 94,-796.876 94,-787.705\" fill=\"none\" stroke=\"black\"/>\n",
       "<polygon fill=\"black\" points=\"97.5001,-787.441 94,-777.441 90.5001,-787.441 97.5001,-787.441\" stroke=\"black\"/>\n",
       "</g>\n",
       "<!-- 47218077782760 -->\n",
       "<g class=\"node\" id=\"node6\"><title>47218077782760</title>\n",
       "<polygon fill=\"none\" points=\"3.3881,-667 3.3881,-703 184.612,-703 184.612,-667 3.3881,-667\" stroke=\"black\"/>\n",
       "<text font-family=\"Times,serif\" font-size=\"14.00\" text-anchor=\"middle\" x=\"94\" y=\"-680.8\">D_conv64_actv: LeakyReLU</text>\n",
       "</g>\n",
       "<!-- 47218578103152&#45;&gt;47218077782760 -->\n",
       "<g class=\"edge\" id=\"edge10\"><title>47218578103152-&gt;47218077782760</title>\n",
       "<path d=\"M94,-740.937C94,-732.807 94,-722.876 94,-713.705\" fill=\"none\" stroke=\"black\"/>\n",
       "<polygon fill=\"black\" points=\"97.5001,-713.441 94,-703.441 90.5001,-713.441 97.5001,-713.441\" stroke=\"black\"/>\n",
       "</g>\n",
       "<!-- 47218578229904 -->\n",
       "<g class=\"node\" id=\"node7\"><title>47218578229904</title>\n",
       "<polygon fill=\"none\" points=\"13.8699,-593 13.8699,-629 174.13,-629 174.13,-593 13.8699,-593\" stroke=\"black\"/>\n",
       "<text font-family=\"Times,serif\" font-size=\"14.00\" text-anchor=\"middle\" x=\"94\" y=\"-606.8\">D_conv64_dout: Dropout</text>\n",
       "</g>\n",
       "<!-- 47218077782760&#45;&gt;47218578229904 -->\n",
       "<g class=\"edge\" id=\"edge12\"><title>47218077782760-&gt;47218578229904</title>\n",
       "<path d=\"M94,-666.937C94,-658.807 94,-648.876 94,-639.705\" fill=\"none\" stroke=\"black\"/>\n",
       "<polygon fill=\"black\" points=\"97.5001,-639.441 94,-629.441 90.5001,-639.441 97.5001,-639.441\" stroke=\"black\"/>\n",
       "</g>\n",
       "<!-- 47218578230688 -->\n",
       "<g class=\"node\" id=\"node8\"><title>47218578230688</title>\n",
       "<polygon fill=\"none\" points=\"8.8152,-519 8.8152,-555 179.185,-555 179.185,-519 8.8152,-519\" stroke=\"black\"/>\n",
       "<text font-family=\"Times,serif\" font-size=\"14.00\" text-anchor=\"middle\" x=\"94\" y=\"-532.8\">D_conv128_conv: Conv2D</text>\n",
       "</g>\n",
       "<!-- 47218578229904&#45;&gt;47218578230688 -->\n",
       "<g class=\"edge\" id=\"edge14\"><title>47218578229904-&gt;47218578230688</title>\n",
       "<path d=\"M94,-592.937C94,-584.807 94,-574.876 94,-565.705\" fill=\"none\" stroke=\"black\"/>\n",
       "<polygon fill=\"black\" points=\"97.5001,-565.441 94,-555.441 90.5001,-565.441 97.5001,-565.441\" stroke=\"black\"/>\n",
       "</g>\n",
       "<!-- 47218578368832 -->\n",
       "<g class=\"node\" id=\"node9\"><title>47218578368832</title>\n",
       "<polygon fill=\"none\" points=\"-0.1119,-445 -0.1119,-481 188.112,-481 188.112,-445 -0.1119,-445\" stroke=\"black\"/>\n",
       "<text font-family=\"Times,serif\" font-size=\"14.00\" text-anchor=\"middle\" x=\"94\" y=\"-458.8\">D_conv128_actv: LeakyReLU</text>\n",
       "</g>\n",
       "<!-- 47218578230688&#45;&gt;47218578368832 -->\n",
       "<g class=\"edge\" id=\"edge16\"><title>47218578230688-&gt;47218578368832</title>\n",
       "<path d=\"M94,-518.937C94,-510.807 94,-500.876 94,-491.705\" fill=\"none\" stroke=\"black\"/>\n",
       "<polygon fill=\"black\" points=\"97.5001,-491.441 94,-481.441 90.5001,-491.441 97.5001,-491.441\" stroke=\"black\"/>\n",
       "</g>\n",
       "<!-- 47218578590408 -->\n",
       "<g class=\"node\" id=\"node10\"><title>47218578590408</title>\n",
       "<polygon fill=\"none\" points=\"10.3699,-371 10.3699,-407 177.63,-407 177.63,-371 10.3699,-371\" stroke=\"black\"/>\n",
       "<text font-family=\"Times,serif\" font-size=\"14.00\" text-anchor=\"middle\" x=\"94\" y=\"-384.8\">D_conv128_dout: Dropout</text>\n",
       "</g>\n",
       "<!-- 47218578368832&#45;&gt;47218578590408 -->\n",
       "<g class=\"edge\" id=\"edge18\"><title>47218578368832-&gt;47218578590408</title>\n",
       "<path d=\"M94,-444.937C94,-436.807 94,-426.876 94,-417.705\" fill=\"none\" stroke=\"black\"/>\n",
       "<polygon fill=\"black\" points=\"97.5001,-417.441 94,-407.441 90.5001,-417.441 97.5001,-417.441\" stroke=\"black\"/>\n",
       "</g>\n",
       "<!-- 47218578591696 -->\n",
       "<g class=\"node\" id=\"node11\"><title>47218578591696</title>\n",
       "<polygon fill=\"none\" points=\"8.8152,-297 8.8152,-333 179.185,-333 179.185,-297 8.8152,-297\" stroke=\"black\"/>\n",
       "<text font-family=\"Times,serif\" font-size=\"14.00\" text-anchor=\"middle\" x=\"94\" y=\"-310.8\">D_conv256_conv: Conv2D</text>\n",
       "</g>\n",
       "<!-- 47218578590408&#45;&gt;47218578591696 -->\n",
       "<g class=\"edge\" id=\"edge20\"><title>47218578590408-&gt;47218578591696</title>\n",
       "<path d=\"M94,-370.937C94,-362.807 94,-352.876 94,-343.705\" fill=\"none\" stroke=\"black\"/>\n",
       "<polygon fill=\"black\" points=\"97.5001,-343.441 94,-333.441 90.5001,-343.441 97.5001,-343.441\" stroke=\"black\"/>\n",
       "</g>\n",
       "<!-- 47218578734160 -->\n",
       "<g class=\"node\" id=\"node12\"><title>47218578734160</title>\n",
       "<polygon fill=\"none\" points=\"-0.1119,-223 -0.1119,-259 188.112,-259 188.112,-223 -0.1119,-223\" stroke=\"black\"/>\n",
       "<text font-family=\"Times,serif\" font-size=\"14.00\" text-anchor=\"middle\" x=\"94\" y=\"-236.8\">D_conv256_actv: LeakyReLU</text>\n",
       "</g>\n",
       "<!-- 47218578591696&#45;&gt;47218578734160 -->\n",
       "<g class=\"edge\" id=\"edge22\"><title>47218578591696-&gt;47218578734160</title>\n",
       "<path d=\"M94,-296.937C94,-288.807 94,-278.876 94,-269.705\" fill=\"none\" stroke=\"black\"/>\n",
       "<polygon fill=\"black\" points=\"97.5001,-269.441 94,-259.441 90.5001,-269.441 97.5001,-269.441\" stroke=\"black\"/>\n",
       "</g>\n",
       "<!-- 47218578971168 -->\n",
       "<g class=\"node\" id=\"node13\"><title>47218578971168</title>\n",
       "<polygon fill=\"none\" points=\"10.3699,-149 10.3699,-185 177.63,-185 177.63,-149 10.3699,-149\" stroke=\"black\"/>\n",
       "<text font-family=\"Times,serif\" font-size=\"14.00\" text-anchor=\"middle\" x=\"94\" y=\"-162.8\">D_conv256_dout: Dropout</text>\n",
       "</g>\n",
       "<!-- 47218578734160&#45;&gt;47218578971168 -->\n",
       "<g class=\"edge\" id=\"edge24\"><title>47218578734160-&gt;47218578971168</title>\n",
       "<path d=\"M94,-222.937C94,-214.807 94,-204.876 94,-195.705\" fill=\"none\" stroke=\"black\"/>\n",
       "<polygon fill=\"black\" points=\"97.5001,-195.441 94,-185.441 90.5001,-195.441 97.5001,-195.441\" stroke=\"black\"/>\n",
       "</g>\n",
       "<!-- 47218077782928 -->\n",
       "<g class=\"node\" id=\"node14\"><title>47218077782928</title>\n",
       "<polygon fill=\"none\" points=\"44.9814,-75 44.9814,-111 143.019,-111 143.019,-75 44.9814,-75\" stroke=\"black\"/>\n",
       "<text font-family=\"Times,serif\" font-size=\"14.00\" text-anchor=\"middle\" x=\"94\" y=\"-88.8\">D_flat: Flatten</text>\n",
       "</g>\n",
       "<!-- 47218578971168&#45;&gt;47218077782928 -->\n",
       "<g class=\"edge\" id=\"edge26\"><title>47218578971168-&gt;47218077782928</title>\n",
       "<path d=\"M94,-148.937C94,-140.807 94,-130.876 94,-121.705\" fill=\"none\" stroke=\"black\"/>\n",
       "<polygon fill=\"black\" points=\"97.5001,-121.441 94,-111.441 90.5001,-121.441 97.5001,-121.441\" stroke=\"black\"/>\n",
       "</g>\n",
       "<!-- 47218579054432 -->\n",
       "<g class=\"node\" id=\"node15\"><title>47218579054432</title>\n",
       "<polygon fill=\"none\" points=\"40.3243,-1 40.3243,-37 147.676,-37 147.676,-1 40.3243,-1\" stroke=\"black\"/>\n",
       "<text font-family=\"Times,serif\" font-size=\"14.00\" text-anchor=\"middle\" x=\"94\" y=\"-14.8\">D_dense: Dense</text>\n",
       "</g>\n",
       "<!-- 47218077782928&#45;&gt;47218579054432 -->\n",
       "<g class=\"edge\" id=\"edge28\"><title>47218077782928-&gt;47218579054432</title>\n",
       "<path d=\"M94,-74.937C94,-66.8072 94,-56.8761 94,-47.7047\" fill=\"none\" stroke=\"black\"/>\n",
       "<polygon fill=\"black\" points=\"97.5001,-47.4406 94,-37.4407 90.5001,-47.4407 97.5001,-47.4406\" stroke=\"black\"/>\n",
       "</g>\n",
       "</g>\n",
       "</svg>"
      ],
      "text/plain": [
       "<IPython.core.display.SVG object>"
      ]
     },
     "execution_count": 23,
     "metadata": {},
     "output_type": "execute_result"
    }
   ],
   "source": [
    "SVG(model_to_dot(discriminator).create(prog='dot', format='svg'))"
   ]
  },
  {
   "cell_type": "code",
   "execution_count": 24,
   "metadata": {
    "collapsed": true
   },
   "outputs": [],
   "source": [
    "# from keras.optimizers import Adam\n",
    "# generator.compile(optimizer=Adam(lr=1e-3), loss='mean_squared_error')\n"
   ]
  },
  {
   "cell_type": "code",
   "execution_count": 25,
   "metadata": {
    "scrolled": false
   },
   "outputs": [],
   "source": [
    "# generator.fit(X_mc[:100],y_mc[:100])"
   ]
  },
  {
   "cell_type": "code",
   "execution_count": 26,
   "metadata": {},
   "outputs": [],
   "source": [
    "reload(models)\n",
    "\n",
    "dm = models.discriminator_model(discriminator)\n",
    "am = models.adversarial_model(generator,discriminator)"
   ]
  },
  {
   "cell_type": "code",
   "execution_count": 36,
   "metadata": {
    "scrolled": false
   },
   "outputs": [
    {
     "name": "stdout",
     "output_type": "stream",
     "text": [
      "100\n",
      "9: [D loss: 0.686252, acc: 0.549805]  [A loss: 0.728014, acc: 0.539062]\n",
      "19: [D loss: 0.684533, acc: 0.545898]  [A loss: 0.719659, acc: 0.565430]\n",
      "29: [D loss: 0.686861, acc: 0.552246]  [A loss: 0.728997, acc: 0.541016]\n",
      "39: [D loss: 0.683639, acc: 0.556641]  [A loss: 0.732481, acc: 0.531250]\n",
      "49: [D loss: 0.679354, acc: 0.572754]  [A loss: 0.728630, acc: 0.531250]\n",
      "59: [D loss: 0.683002, acc: 0.567383]  [A loss: 0.730490, acc: 0.504883]\n",
      "69: [D loss: 0.687517, acc: 0.545410]  [A loss: 0.722988, acc: 0.551758]\n",
      "79: [D loss: 0.686279, acc: 0.557129]  [A loss: 0.718640, acc: 0.547852]\n",
      "89: [D loss: 0.686503, acc: 0.546875]  [A loss: 0.724428, acc: 0.553711]\n",
      "99: [D loss: 0.678361, acc: 0.571777]  [A loss: 0.728981, acc: 0.538086]\n",
      "CPU times: user 3min 9s, sys: 42.8 s, total: 3min 52s\n",
      "Wall time: 26.6 s\n",
      "9: [D loss: 0.688006, acc: 0.541504]  [A loss: 0.725766, acc: 0.555664]\n",
      "19: [D loss: 0.683825, acc: 0.552246]  [A loss: 0.721882, acc: 0.551758]\n",
      "29: [D loss: 0.681383, acc: 0.551270]  [A loss: 0.730455, acc: 0.525391]\n",
      "39: [D loss: 0.683124, acc: 0.566406]  [A loss: 0.730870, acc: 0.520508]\n",
      "49: [D loss: 0.682050, acc: 0.556641]  [A loss: 0.730157, acc: 0.535156]\n",
      "59: [D loss: 0.684248, acc: 0.558105]  [A loss: 0.728566, acc: 0.530273]\n",
      "69: [D loss: 0.686665, acc: 0.545410]  [A loss: 0.722179, acc: 0.543945]\n",
      "79: [D loss: 0.684584, acc: 0.547852]  [A loss: 0.721855, acc: 0.544922]\n",
      "89: [D loss: 0.689564, acc: 0.542969]  [A loss: 0.723033, acc: 0.546875]\n",
      "99: [D loss: 0.679637, acc: 0.575195]  [A loss: 0.734862, acc: 0.519531]\n",
      "CPU times: user 3min 11s, sys: 47.6 s, total: 3min 58s\n",
      "Wall time: 26.8 s\n",
      "9: [D loss: 0.685917, acc: 0.554688]  [A loss: 0.728118, acc: 0.546875]\n",
      "19: [D loss: 0.683949, acc: 0.543945]  [A loss: 0.721961, acc: 0.555664]\n",
      "29: [D loss: 0.681816, acc: 0.553711]  [A loss: 0.729720, acc: 0.546875]\n",
      "39: [D loss: 0.683132, acc: 0.548828]  [A loss: 0.731828, acc: 0.536133]\n",
      "49: [D loss: 0.680252, acc: 0.554199]  [A loss: 0.729654, acc: 0.534180]\n",
      "59: [D loss: 0.683945, acc: 0.566895]  [A loss: 0.725820, acc: 0.529297]\n",
      "69: [D loss: 0.688584, acc: 0.551758]  [A loss: 0.721923, acc: 0.534180]\n",
      "79: [D loss: 0.685152, acc: 0.549316]  [A loss: 0.717469, acc: 0.560547]\n",
      "89: [D loss: 0.690162, acc: 0.536133]  [A loss: 0.724669, acc: 0.541992]\n",
      "99: [D loss: 0.680870, acc: 0.556641]  [A loss: 0.735791, acc: 0.531250]\n",
      "CPU times: user 3min 8s, sys: 43.6 s, total: 3min 51s\n",
      "Wall time: 27 s\n",
      "9: [D loss: 0.686216, acc: 0.560547]  [A loss: 0.730767, acc: 0.529297]\n",
      "19: [D loss: 0.684110, acc: 0.549316]  [A loss: 0.728863, acc: 0.542969]\n",
      "29: [D loss: 0.684213, acc: 0.558105]  [A loss: 0.732454, acc: 0.537109]\n",
      "39: [D loss: 0.682771, acc: 0.549316]  [A loss: 0.731696, acc: 0.532227]\n",
      "49: [D loss: 0.679954, acc: 0.573242]  [A loss: 0.727008, acc: 0.544922]\n",
      "59: [D loss: 0.684291, acc: 0.559570]  [A loss: 0.723910, acc: 0.539062]\n",
      "69: [D loss: 0.687297, acc: 0.553223]  [A loss: 0.726462, acc: 0.559570]\n",
      "79: [D loss: 0.686417, acc: 0.549805]  [A loss: 0.719613, acc: 0.569336]\n",
      "89: [D loss: 0.689179, acc: 0.552734]  [A loss: 0.728574, acc: 0.538086]\n",
      "99: [D loss: 0.677974, acc: 0.568848]  [A loss: 0.735911, acc: 0.534180]\n",
      "CPU times: user 3min 7s, sys: 47.4 s, total: 3min 54s\n",
      "Wall time: 27.1 s\n",
      "9: [D loss: 0.687900, acc: 0.553711]  [A loss: 0.728649, acc: 0.546875]\n",
      "19: [D loss: 0.682002, acc: 0.545410]  [A loss: 0.727997, acc: 0.546875]\n",
      "29: [D loss: 0.681219, acc: 0.564941]  [A loss: 0.733261, acc: 0.553711]\n",
      "39: [D loss: 0.682092, acc: 0.562500]  [A loss: 0.732468, acc: 0.538086]\n",
      "49: [D loss: 0.678882, acc: 0.568848]  [A loss: 0.722647, acc: 0.548828]\n",
      "59: [D loss: 0.684034, acc: 0.571289]  [A loss: 0.731586, acc: 0.535156]\n",
      "69: [D loss: 0.685285, acc: 0.546387]  [A loss: 0.725897, acc: 0.541016]\n",
      "79: [D loss: 0.686407, acc: 0.546875]  [A loss: 0.718984, acc: 0.554688]\n",
      "89: [D loss: 0.691222, acc: 0.548340]  [A loss: 0.723596, acc: 0.541992]\n",
      "99: [D loss: 0.677978, acc: 0.578125]  [A loss: 0.737095, acc: 0.534180]\n",
      "CPU times: user 3min 4s, sys: 41.2 s, total: 3min 45s\n",
      "Wall time: 28.4 s\n"
     ]
    }
   ],
   "source": [
    "from sklearn.utils import shuffle \n",
    "\n",
    "train_steps = 5\n",
    "\n",
    "batch_size = 1024\n",
    "n_batches = 1000000 // batch_size\n",
    "\n",
    "batch_size = 1024\n",
    "n_batches = 100 \n",
    "\n",
    "print(n_batches)\n",
    "\n",
    "def train_batch(ib,batch_size):\n",
    "    X_mc_batch = X_mc[ib*batch_size:(ib+1)*batch_size]\n",
    "    y_mc_batch = y_mc[ib*batch_size:(ib+1)*batch_size]\n",
    "\n",
    "    y_data_batch = y_data[ib*batch_size:(ib+1)*batch_size]\n",
    "    y_mc_corr = generator.predict(X_mc_batch)\n",
    "    x_disc = np.concatenate( [y_data_batch,y_mc_corr] )\n",
    "    y_disc = np.ones( (x_disc.shape[0],1) )\n",
    "    y_disc[y_data_batch.shape[0]:, :] = 0\n",
    "    # x_disc,y_disc = shuffle( x_disc,y_disc )\n",
    "\n",
    "    discriminator.trainable = True \n",
    "    d_loss = dm.train_on_batch(x_disc, y_disc)\n",
    "    discriminator.trainable = False\n",
    "    a_loss = am.train_on_batch(X_mc_batch, np.ones( (X_mc_batch.shape[0],1) ) )\n",
    "    if ib % (n_batches // 10) == 9:\n",
    "        log_mesg = \"%d: [D loss: %f, acc: %f]\" % (ib, d_loss[0], d_loss[1])\n",
    "        log_mesg = \"%s  [A loss: %f, acc: %f]\" % (log_mesg, a_loss[0], a_loss[1])\n",
    "        print(log_mesg)\n",
    "\n",
    "\n",
    "for i in range(train_steps):   \n",
    "    %time for ib in range(n_batches): train_batch(ib,batch_size)\n",
    "        \n",
    "    # print(\".\")\n",
    "#         log_mesg = \"%d: [D loss: %f, acc: %f]\" % (i, d_loss[0], d_loss[1])\n",
    "#         log_mesg = \"%s  [A loss: %f, acc: %f]\" % (log_mesg, a_loss[0], a_loss[1])\n",
    "        \n",
    "#         print(log_mesg)\n",
    "        \n",
    "#     noise = np.random.uniform(-1.0, 1.0, size=[batch_size, 100])\n",
    "#     images_fake = self.generator.predict(noise)\n",
    "#     x = np.concatenate((images_train, images_fake))\n",
    "#     y = np.ones([2*batch_size, 1])\n",
    "#     y[batch_size:, :] = 0\n",
    "#     self.discriminator.trainable = True\n",
    "#     d_loss = self.discriminator.train_on_batch(x, y)\n",
    "\n",
    "#     y = np.ones([batch_size, 1])\n",
    "#     noise = np.random.uniform(-1.0, 1.0, size=[batch_size, 100])\n",
    "#     self.discriminator.trainable = False\n",
    "#     a_loss = self.adversarial.train_on_batch(noise, y)\n",
    "#     log_mesg = \"%d: [D loss: %f, acc: %f]\" % (i, d_loss[0], d_loss[1])\n",
    "#     log_mesg = \"%s  [A loss: %f, acc: %f]\" % (log_mesg, a_loss[0], a_loss[1])\n",
    "#     print(log_mesg)\n",
    "#     if save_interval>0:\n",
    "#         if (i+1)%save_interval==0:\n",
    "#             self.plot_images(save2file=True, samples=noise_input.shape[0],\\\n",
    "#                 noise=noise_input, step=(i+1))\n"
   ]
  },
  {
   "cell_type": "code",
   "execution_count": 37,
   "metadata": {
    "collapsed": true
   },
   "outputs": [],
   "source": [
    "y_mc_corr = generator.predict(X_mc[:20000])"
   ]
  },
  {
   "cell_type": "code",
   "execution_count": 38,
   "metadata": {},
   "outputs": [],
   "source": [
    "d_pred_data = discriminator.predict(y_data[:20000])\n",
    "d_pred_mc   = discriminator.predict(y_mc[:20000])\n",
    "d_pred_mc_corr   = discriminator.predict(y_mc_corr[:20000])\n"
   ]
  },
  {
   "cell_type": "code",
   "execution_count": 43,
   "metadata": {},
   "outputs": [
    {
     "data": {
      "image/png": "[encoded data removed]",
      "text/plain": [
       "<matplotlib.figure.Figure at 0x2af22148f400>"
      ]
     },
     "metadata": {},
     "output_type": "display_data"
    }
   ],
   "source": [
    "plt.hist(d_pred_data,bins=100,range=[0.2,0.8],label='data')\n",
    "plt.hist(d_pred_mc,bins=100,range=[0.2,0.8],alpha=0.5,label='uncorr')\n",
    "plt.hist(d_pred_mc_corr,bins=100,range=[0.2,0.8],alpha=0.5,label='corr')\n",
    "plt.legend()\n",
    "plt.show()\n"
   ]
  },
  {
   "cell_type": "code",
   "execution_count": 40,
   "metadata": {},
   "outputs": [
    {
     "data": {
      "text/plain": [
       "0.54400000000000004"
      ]
     },
     "execution_count": 40,
     "metadata": {},
     "output_type": "execute_result"
    }
   ],
   "source": [
    "( ( d_pred_mc_corr < 0.5 ).sum() + ( d_pred_data >= 0.5 ).sum() ) / ( d_pred_mc_corr.size + d_pred_data.size )"
   ]
  },
  {
   "cell_type": "code",
   "execution_count": 41,
   "metadata": {
    "scrolled": false
   },
   "outputs": [
    {
     "name": "stdout",
     "output_type": "stream",
     "text": [
      "R9\n",
      "-0.000417169\n"
     ]
    },
    {
     "data": {
      "image/png": "[encoded data removed]",
      "text/plain": [
       "<matplotlib.figure.Figure at 0x2af2224238d0>"
      ]
     },
     "metadata": {},
     "output_type": "display_data"
    },
    {
     "name": "stdout",
     "output_type": "stream",
     "text": [
      "Pt\n",
      "0.00978057\n"
     ]
    },
    {
     "data": {
      "image/png": "[encoded data removed]",
      "text/plain": [
       "<matplotlib.figure.Figure at 0x2af22217e048>"
      ]
     },
     "metadata": {},
     "output_type": "display_data"
    },
    {
     "name": "stdout",
     "output_type": "stream",
     "text": [
      "ScEta\n",
      "-0.0093648\n"
     ]
    },
    {
     "data": {
      "image/png": "[encoded data removed]",
      "text/plain": [
       "<matplotlib.figure.Figure at 0x2af22263e710>"
      ]
     },
     "metadata": {},
     "output_type": "display_data"
    },
    {
     "name": "stdout",
     "output_type": "stream",
     "text": [
      "Phi\n",
      "0.00564839\n"
     ]
    },
    {
     "data": {
      "image/png": "[encoded data removed]",
      "text/plain": [
       "<matplotlib.figure.Figure at 0x2af221ca1c50>"
      ]
     },
     "metadata": {},
     "output_type": "display_data"
    },
    {
     "name": "stdout",
     "output_type": "stream",
     "text": [
      "rho\n",
      "0.0037693\n"
     ]
    },
    {
     "data": {
      "image/png": "[encoded data removed]",
      "text/plain": [
       "<matplotlib.figure.Figure at 0x2af221d71cf8>"
      ]
     },
     "metadata": {},
     "output_type": "display_data"
    }
   ],
   "source": [
    "for ivar,var in enumerate(y_features+x_features):\n",
    "    print(var)\n",
    "    var_mc_uncorr = y_mc[:20000,ivar].ravel()\n",
    "    var_mc_corr = y_mc_corr[:,ivar].ravel()\n",
    "    var_data = y_data[:20000,ivar].ravel()\n",
    "    #bins = np.percentile(  np.hstack([var_mc_uncorr,var_data]), np.arange(0,105,5)  )\n",
    "    bins = np.arange(-10,10,0.2)\n",
    "    plt.hist(var_data,bins=bins,label='data')\n",
    "    plt.hist(var_mc_uncorr,bins=bins,alpha=0.5,label='uncorr')\n",
    "    plt.hist(var_mc_corr,bins=bins,alpha=0.5,label='corr')\n",
    "    print(var_mc_corr.mean())\n",
    "    plt.legend()\n",
    "    plt.show()\n"
   ]
  },
  {
   "cell_type": "code",
   "execution_count": 50,
   "metadata": {},
   "outputs": [],
   "source": [
    "dense = generator.layers[-7]"
   ]
  },
  {
   "cell_type": "code",
   "execution_count": 52,
   "metadata": {
    "scrolled": false
   },
   "outputs": [],
   "source": [
    "# dense.get_weights()"
   ]
  },
  {
   "cell_type": "code",
   "execution_count": null,
   "metadata": {
    "collapsed": true
   },
   "outputs": [],
   "source": []
  }
 ],
 "metadata": {
  "anaconda-cloud": {},
  "kernelspec": {
   "display_name": "Python 3",
   "language": "python",
   "name": "python3"
  },
  "language_info": {
   "codemirror_mode": {
    "name": "ipython",
    "version": 3
   },
   "file_extension": ".py",
   "mimetype": "text/x-python",
   "name": "python",
   "nbconvert_exporter": "python",
   "pygments_lexer": "ipython3",
   "version": "3.5.2"
  }
 },
 "nbformat": 4,
 "nbformat_minor": 1
}
