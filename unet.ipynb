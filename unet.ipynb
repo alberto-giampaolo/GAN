{
 "cells": [
  {
   "cell_type": "code",
   "execution_count": 1,
   "metadata": {
    "collapsed": true
   },
   "outputs": [],
   "source": [
    "# import theano as tn"
   ]
  },
  {
   "cell_type": "code",
   "execution_count": 2,
   "metadata": {},
   "outputs": [
    {
     "name": "stderr",
     "output_type": "stream",
     "text": [
      "Using TensorFlow backend.\n"
     ]
    }
   ],
   "source": [
    "import keras"
   ]
  },
  {
   "cell_type": "code",
   "execution_count": 3,
   "metadata": {
    "collapsed": true
   },
   "outputs": [],
   "source": [
    "# import tensorflow as tf"
   ]
  },
  {
   "cell_type": "code",
   "execution_count": 4,
   "metadata": {
    "collapsed": true
   },
   "outputs": [],
   "source": [
    "# tf.__version__"
   ]
  },
  {
   "cell_type": "code",
   "execution_count": 5,
   "metadata": {
    "collapsed": true
   },
   "outputs": [],
   "source": [
    "# reload(tf)"
   ]
  },
  {
   "cell_type": "code",
   "execution_count": 6,
   "metadata": {
    "collapsed": true
   },
   "outputs": [],
   "source": [
    "data = pd.read_hdf('data_moriond_v9.hd5')"
   ]
  },
  {
   "cell_type": "code",
   "execution_count": 7,
   "metadata": {
    "collapsed": true
   },
   "outputs": [],
   "source": [
    "mc = pd.read_hdf('mc_moriond_v9.hd5')"
   ]
  },
  {
   "cell_type": "code",
   "execution_count": 8,
   "metadata": {},
   "outputs": [
    {
     "data": {
      "text/plain": [
       "(21216525, 26)"
      ]
     },
     "execution_count": 8,
     "metadata": {},
     "output_type": "execute_result"
    }
   ],
   "source": [
    "data.shape"
   ]
  },
  {
   "cell_type": "code",
   "execution_count": 9,
   "metadata": {},
   "outputs": [
    {
     "data": {
      "text/plain": [
       "(11554790, 25)"
      ]
     },
     "execution_count": 9,
     "metadata": {},
     "output_type": "execute_result"
    }
   ],
   "source": [
    "mc.shape"
   ]
  },
  {
   "cell_type": "code",
   "execution_count": 10,
   "metadata": {
    "collapsed": true
   },
   "outputs": [],
   "source": [
    "data = data.query('abs(ScEta) < 1.5')\n",
    "mc = mc.query('abs(ScEta) < 1.5')"
   ]
  },
  {
   "cell_type": "code",
   "execution_count": 11,
   "metadata": {},
   "outputs": [
    {
     "data": {
      "text/plain": [
       "(17520217, 26)"
      ]
     },
     "execution_count": 11,
     "metadata": {},
     "output_type": "execute_result"
    }
   ],
   "source": [
    "data.shape"
   ]
  },
  {
   "cell_type": "code",
   "execution_count": 12,
   "metadata": {},
   "outputs": [
    {
     "data": {
      "text/plain": [
       "(9616192, 25)"
      ]
     },
     "execution_count": 12,
     "metadata": {},
     "output_type": "execute_result"
    }
   ],
   "source": [
    "mc.shape"
   ]
  },
  {
   "cell_type": "code",
   "execution_count": 13,
   "metadata": {},
   "outputs": [
    {
     "data": {
      "text/plain": [
       "Index(['index', 'run', 'rho', 'nvtx', 'mass', 'weight', 'SigMoM', 'Pt',\n",
       "       'ScEta', 'Phi', 'R9', 'S4', 'SigmaIeIe', 'EtaWidth', 'PhiWidth',\n",
       "       'CovarianceIphiIphi', 'SigmaRR', 'ScEnergy', 'CovarianceIetaIphi',\n",
       "       'PhoIso03', 'ChIso03', 'ChIso03worst', 'ScPreshowerEnergy', 'PhoIDMVA',\n",
       "       'SigEOverE', 'run_quantile'],\n",
       "      dtype='object')"
      ]
     },
     "execution_count": 13,
     "metadata": {},
     "output_type": "execute_result"
    }
   ],
   "source": [
    "data.columns"
   ]
  },
  {
   "cell_type": "code",
   "execution_count": 14,
   "metadata": {
    "collapsed": true
   },
   "outputs": [],
   "source": [
    "# y_features = ['SigmaRR', 'CovarianceIetaIphi','PhoIso03', 'ChIso03', 'ChIso03worst', 'ScPreshowerEnergy', 'SigEOverE']\n",
    "y_features = ['CovarianceIetaIphi','PhoIso03', 'ChIso03', 'ChIso03worst', 'SigEOverE']"
   ]
  },
  {
   "cell_type": "code",
   "execution_count": 15,
   "metadata": {
    "collapsed": true
   },
   "outputs": [],
   "source": [
    "x_features = ['Pt','ScEta','Phi','rho']\n",
    "x_noise = []\n",
    "\n",
    "for inoise in range(len(y_features)):\n",
    "    iname = 'noise%d' % inoise\n",
    "    mc[iname] = np.random.normal(0.,1.,mc.shape[0])\n",
    "    x_noise.append(iname)\n"
   ]
  },
  {
   "cell_type": "code",
   "execution_count": 16,
   "metadata": {},
   "outputs": [],
   "source": [
    "X_mc = mc[y_features+x_features].values.astype(np.float32)\n",
    "X_data = data[y_features+x_features].values.astype(np.float32)\n",
    "\n",
    "from sklearn.preprocessing import RobustScaler, MinMaxScaler, QuantileTransformer\n",
    "# scaler = RobustScaler()\n",
    "# scaler = MinMaxScaler((-1,1))\n",
    "scaler = QuantileTransformer(output_distribution='normal')\n",
    "\n",
    "X_mc = scaler.fit_transform(X_mc).reshape((-1,len(x_features+y_features),1,1))\n",
    "X_data = scaler.transform(X_data).reshape((-1,len(x_features+y_features),1,1))\n",
    "\n",
    "\n",
    "y_mc = X_mc[:,:len(y_features)]\n",
    "y_data = X_data[:,:len(y_features)]\n",
    "\n",
    "X_mc = np.hstack( [X_mc, mc[x_noise].values.reshape((-1,len(x_noise),1,1))]  )\n"
   ]
  },
  {
   "cell_type": "code",
   "execution_count": 17,
   "metadata": {
    "collapsed": true
   },
   "outputs": [],
   "source": [
    "import models"
   ]
  },
  {
   "cell_type": "code",
   "execution_count": 18,
   "metadata": {
    "scrolled": false
   },
   "outputs": [
    {
     "name": "stdout",
     "output_type": "stream",
     "text": [
      "2 32 14\n",
      "1 1 1\n",
      "True\n",
      "(None, 32, 1, 16) (2, 1)\n",
      "(None, 16, 1, 32) (2, 1)\n",
      "(None, 8, 1, 64) (2, 1)\n",
      "(None, 4, 1, 128) (2, 1)\n"
     ]
    }
   ],
   "source": [
    "reload(models)\n",
    "\n",
    "discriminator = models.get_discriminator(y_mc.shape[1:])\n",
    "\n",
    "generator = models.get_generator(X_mc.shape[1:],y_mc.shape[1:],filt_size=[16,32,64,128])#,filt_size=[8,16,32])\n",
    "\n"
   ]
  },
  {
   "cell_type": "code",
   "execution_count": 19,
   "metadata": {
    "scrolled": false
   },
   "outputs": [
    {
     "name": "stdout",
     "output_type": "stream",
     "text": [
      "____________________________________________________________________________________________________\n",
      "Layer (type)                     Output Shape          Param #     Connected to                     \n",
      "====================================================================================================\n",
      "input_2 (InputLayer)             (None, 14, 1, 1)      0                                            \n",
      "____________________________________________________________________________________________________\n",
      "G_padding (ZeroPadding2D)        (None, 32, 1, 1)      0           input_2[0][0]                    \n",
      "____________________________________________________________________________________________________\n",
      "G_cunit_16_bn0 (BatchNormalizati (None, 32, 1, 1)      4           G_padding[0][0]                  \n",
      "____________________________________________________________________________________________________\n",
      "G_cunit_16_conv0 (Conv2D)        (None, 32, 1, 16)     32          G_cunit_16_bn0[0][0]             \n",
      "____________________________________________________________________________________________________\n",
      "G_cunit_16_conv1 (Conv2D)        (None, 32, 1, 16)     272         G_cunit_16_conv0[0][0]           \n",
      "____________________________________________________________________________________________________\n",
      "G_cunit_16_pool (MaxPooling2D)   (None, 16, 1, 16)     0           G_cunit_16_conv1[0][0]           \n",
      "____________________________________________________________________________________________________\n",
      "G_cunit_32_bn0 (BatchNormalizati (None, 16, 1, 16)     64          G_cunit_16_pool[0][0]            \n",
      "____________________________________________________________________________________________________\n",
      "G_cunit_32_conv0 (Conv2D)        (None, 16, 1, 32)     544         G_cunit_32_bn0[0][0]             \n",
      "____________________________________________________________________________________________________\n",
      "G_cunit_32_conv1 (Conv2D)        (None, 16, 1, 32)     1056        G_cunit_32_conv0[0][0]           \n",
      "____________________________________________________________________________________________________\n",
      "G_cunit_32_pool (MaxPooling2D)   (None, 8, 1, 32)      0           G_cunit_32_conv1[0][0]           \n",
      "____________________________________________________________________________________________________\n",
      "G_cunit_64_bn0 (BatchNormalizati (None, 8, 1, 32)      128         G_cunit_32_pool[0][0]            \n",
      "____________________________________________________________________________________________________\n",
      "G_cunit_64_conv0 (Conv2D)        (None, 8, 1, 64)      2112        G_cunit_64_bn0[0][0]             \n",
      "____________________________________________________________________________________________________\n",
      "G_cunit_64_conv1 (Conv2D)        (None, 8, 1, 64)      4160        G_cunit_64_conv0[0][0]           \n",
      "____________________________________________________________________________________________________\n",
      "G_cunit_64_pool (MaxPooling2D)   (None, 4, 1, 64)      0           G_cunit_64_conv1[0][0]           \n",
      "____________________________________________________________________________________________________\n",
      "G_cunit_128_bn0 (BatchNormalizat (None, 4, 1, 64)      256         G_cunit_64_pool[0][0]            \n",
      "____________________________________________________________________________________________________\n",
      "G_cunit_128_conv0 (Conv2D)       (None, 4, 1, 128)     8320        G_cunit_128_bn0[0][0]            \n",
      "____________________________________________________________________________________________________\n",
      "G_cunit_128_conv1 (Conv2D)       (None, 4, 1, 128)     16512       G_cunit_128_conv0[0][0]          \n",
      "____________________________________________________________________________________________________\n",
      "G_cunit_128_pool (MaxPooling2D)  (None, 2, 1, 128)     0           G_cunit_128_conv1[0][0]          \n",
      "____________________________________________________________________________________________________\n",
      "G_cunit_256_bn0 (BatchNormalizat (None, 2, 1, 128)     512         G_cunit_128_pool[0][0]           \n",
      "____________________________________________________________________________________________________\n",
      "G_cunit_256_conv0 (Conv2D)       (None, 2, 1, 256)     33024       G_cunit_256_bn0[0][0]            \n",
      "____________________________________________________________________________________________________\n",
      "G_cunit_256_conv1 (Conv2D)       (None, 2, 1, 256)     65792       G_cunit_256_conv0[0][0]          \n",
      "____________________________________________________________________________________________________\n",
      "G_dunit_128_deconv (Conv2DTransp (None, 4, 1, 128)     32896       G_cunit_256_conv1[0][0]          \n",
      "____________________________________________________________________________________________________\n",
      "concatenate_1 (Concatenate)      (None, 4, 1, 256)     0           G_dunit_128_deconv[0][0]         \n",
      "                                                                   G_cunit_128_conv1[0][0]          \n",
      "____________________________________________________________________________________________________\n",
      "G_dunit_128_bn0 (BatchNormalizat (None, 4, 1, 256)     1024        concatenate_1[0][0]              \n",
      "____________________________________________________________________________________________________\n",
      "G_dunit_128_conv0 (Conv2D)       (None, 4, 1, 128)     32896       G_dunit_128_bn0[0][0]            \n",
      "____________________________________________________________________________________________________\n",
      "G_dunit_128_conv1 (Conv2D)       (None, 4, 1, 128)     16512       G_dunit_128_conv0[0][0]          \n",
      "____________________________________________________________________________________________________\n",
      "G_dunit_64_deconv (Conv2DTranspo (None, 8, 1, 64)      8256        G_dunit_128_conv1[0][0]          \n",
      "____________________________________________________________________________________________________\n",
      "concatenate_2 (Concatenate)      (None, 8, 1, 128)     0           G_dunit_64_deconv[0][0]          \n",
      "                                                                   G_cunit_64_conv1[0][0]           \n",
      "____________________________________________________________________________________________________\n",
      "G_dunit_64_bn0 (BatchNormalizati (None, 8, 1, 128)     512         concatenate_2[0][0]              \n",
      "____________________________________________________________________________________________________\n",
      "G_dunit_64_conv0 (Conv2D)        (None, 8, 1, 64)      8256        G_dunit_64_bn0[0][0]             \n",
      "____________________________________________________________________________________________________\n",
      "G_dunit_64_conv1 (Conv2D)        (None, 8, 1, 64)      4160        G_dunit_64_conv0[0][0]           \n",
      "____________________________________________________________________________________________________\n",
      "G_dunit_32_deconv (Conv2DTranspo (None, 16, 1, 32)     2080        G_dunit_64_conv1[0][0]           \n",
      "____________________________________________________________________________________________________\n",
      "concatenate_3 (Concatenate)      (None, 16, 1, 64)     0           G_dunit_32_deconv[0][0]          \n",
      "                                                                   G_cunit_32_conv1[0][0]           \n",
      "____________________________________________________________________________________________________\n",
      "G_dunit_32_bn0 (BatchNormalizati (None, 16, 1, 64)     256         concatenate_3[0][0]              \n",
      "____________________________________________________________________________________________________\n",
      "G_dunit_32_conv0 (Conv2D)        (None, 16, 1, 32)     2080        G_dunit_32_bn0[0][0]             \n",
      "____________________________________________________________________________________________________\n",
      "G_dunit_32_conv1 (Conv2D)        (None, 16, 1, 32)     1056        G_dunit_32_conv0[0][0]           \n",
      "____________________________________________________________________________________________________\n",
      "G_dunit_16_deconv (Conv2DTranspo (None, 32, 1, 16)     528         G_dunit_32_conv1[0][0]           \n",
      "____________________________________________________________________________________________________\n",
      "concatenate_4 (Concatenate)      (None, 32, 1, 32)     0           G_dunit_16_deconv[0][0]          \n",
      "                                                                   G_cunit_16_conv1[0][0]           \n",
      "____________________________________________________________________________________________________\n",
      "G_dunit_16_bn0 (BatchNormalizati (None, 32, 1, 32)     128         concatenate_4[0][0]              \n",
      "____________________________________________________________________________________________________\n",
      "G_dunit_16_conv0 (Conv2D)        (None, 32, 1, 16)     528         G_dunit_16_bn0[0][0]             \n",
      "____________________________________________________________________________________________________\n",
      "G_dunit_16_conv1 (Conv2D)        (None, 32, 1, 16)     272         G_dunit_16_conv0[0][0]           \n",
      "____________________________________________________________________________________________________\n",
      "G_flat (Flatten)                 (None, 512)           0           G_dunit_16_conv1[0][0]           \n",
      "____________________________________________________________________________________________________\n",
      "G_dense (Dense)                  (None, 5)             2565        G_flat[0][0]                     \n",
      "____________________________________________________________________________________________________\n",
      "G_targets (Cropping2D)           (None, 5, 1, 1)       0           input_2[0][0]                    \n",
      "____________________________________________________________________________________________________\n",
      "G_reshape (Reshape)              (None, 5, 1, 1)       0           G_dense[0][0]                    \n",
      "____________________________________________________________________________________________________\n",
      "G_reshape_targets (Reshape)      (None, 5, 1, 1)       0           G_targets[0][0]                  \n",
      "____________________________________________________________________________________________________\n",
      "G_output (Add)                   (None, 5, 1, 1)       0           G_reshape[0][0]                  \n",
      "                                                                   G_reshape_targets[0][0]          \n",
      "====================================================================================================\n",
      "Total params: 246,793\n",
      "Trainable params: 245,351\n",
      "Non-trainable params: 1,442\n",
      "____________________________________________________________________________________________________\n"
     ]
    }
   ],
   "source": [
    "generator.summary()"
   ]
  },
  {
   "cell_type": "code",
   "execution_count": 20,
   "metadata": {},
   "outputs": [
    {
     "name": "stdout",
     "output_type": "stream",
     "text": [
      "_________________________________________________________________\n",
      "Layer (type)                 Output Shape              Param #   \n",
      "=================================================================\n",
      "input_1 (InputLayer)         (None, 5, 1, 1)           0         \n",
      "_________________________________________________________________\n",
      "D_conv32_conv (Conv2D)       (None, 5, 1, 32)          64        \n",
      "_________________________________________________________________\n",
      "D_conv32_actv (LeakyReLU)    (None, 5, 1, 32)          0         \n",
      "_________________________________________________________________\n",
      "D_conv32_dout (Dropout)      (None, 5, 1, 32)          0         \n",
      "_________________________________________________________________\n",
      "D_conv64_conv (Conv2D)       (None, 5, 1, 64)          2112      \n",
      "_________________________________________________________________\n",
      "D_conv64_actv (LeakyReLU)    (None, 5, 1, 64)          0         \n",
      "_________________________________________________________________\n",
      "D_conv64_dout (Dropout)      (None, 5, 1, 64)          0         \n",
      "_________________________________________________________________\n",
      "D_conv128_conv (Conv2D)      (None, 5, 1, 128)         8320      \n",
      "_________________________________________________________________\n",
      "D_conv128_actv (LeakyReLU)   (None, 5, 1, 128)         0         \n",
      "_________________________________________________________________\n",
      "D_conv128_dout (Dropout)     (None, 5, 1, 128)         0         \n",
      "_________________________________________________________________\n",
      "D_conv256_conv (Conv2D)      (None, 5, 1, 256)         33024     \n",
      "_________________________________________________________________\n",
      "D_conv256_actv (LeakyReLU)   (None, 5, 1, 256)         0         \n",
      "_________________________________________________________________\n",
      "D_conv256_dout (Dropout)     (None, 5, 1, 256)         0         \n",
      "_________________________________________________________________\n",
      "D_flat (Flatten)             (None, 1280)              0         \n",
      "_________________________________________________________________\n",
      "D_dense (Dense)              (None, 1)                 1281      \n",
      "=================================================================\n",
      "Total params: 44,801\n",
      "Trainable params: 44,801\n",
      "Non-trainable params: 0\n",
      "_________________________________________________________________\n"
     ]
    }
   ],
   "source": [
    "discriminator.summary()"
   ]
  },
  {
   "cell_type": "code",
   "execution_count": 21,
   "metadata": {
    "collapsed": true
   },
   "outputs": [],
   "source": [
    "from IPython.display import SVG\n",
    "reload(keras.utils.vis_utils)\n",
    "from keras.utils.vis_utils import model_to_dot"
   ]
  },
  {
   "cell_type": "code",
   "execution_count": 22,
   "metadata": {},
   "outputs": [
    {
     "data": {
      "image/svg+xml": [
       "<svg height=\"3302pt\" viewBox=\"0.00 0.00 752.00 3302.00\" width=\"752pt\" xmlns=\"http://www.w3.org/2000/svg\" xmlns:xlink=\"http://www.w3.org/1999/xlink\">\n",
       "<g class=\"graph\" id=\"graph1\" transform=\"scale(1 1) rotate(0) translate(4 3298)\">\n",
       "<title>G</title>\n",
       "<polygon fill=\"white\" points=\"-4,5 -4,-3298 749,-3298 749,5 -4,5\" stroke=\"white\"/>\n",
       "<!-- 47512731274320 -->\n",
       "<g class=\"node\" id=\"node1\"><title>47512731274320</title>\n",
       "<polygon fill=\"none\" points=\"499.817,-3257 499.817,-3293 628.183,-3293 628.183,-3257 499.817,-3257\" stroke=\"black\"/>\n",
       "<text font-family=\"Times,serif\" font-size=\"14.00\" text-anchor=\"middle\" x=\"564\" y=\"-3270.8\">input_2: InputLayer</text>\n",
       "</g>\n",
       "<!-- 47513081777792 -->\n",
       "<g class=\"node\" id=\"node2\"><title>47513081777792</title>\n",
       "<polygon fill=\"none\" points=\"407.488,-3183 407.488,-3219 582.512,-3219 582.512,-3183 407.488,-3183\" stroke=\"black\"/>\n",
       "<text font-family=\"Times,serif\" font-size=\"14.00\" text-anchor=\"middle\" x=\"495\" y=\"-3196.8\">G_padding: ZeroPadding2D</text>\n",
       "</g>\n",
       "<!-- 47512731274320&#45;&gt;47513081777792 -->\n",
       "<g class=\"edge\" id=\"edge2\"><title>47512731274320-&gt;47513081777792</title>\n",
       "<path d=\"M547.648,-3256.94C539.01,-3247.92 528.25,-3236.7 518.713,-3226.74\" fill=\"none\" stroke=\"black\"/>\n",
       "<polygon fill=\"black\" points=\"521.16,-3224.24 511.714,-3219.44 516.106,-3229.08 521.16,-3224.24\" stroke=\"black\"/>\n",
       "</g>\n",
       "<!-- 47513081694920 -->\n",
       "<g class=\"node\" id=\"node44\"><title>47513081694920</title>\n",
       "<polygon fill=\"none\" points=\"583.096,-3109 583.096,-3145 730.904,-3145 730.904,-3109 583.096,-3109\" stroke=\"black\"/>\n",
       "<text font-family=\"Times,serif\" font-size=\"14.00\" text-anchor=\"middle\" x=\"657\" y=\"-3122.8\">G_targets: Cropping2D</text>\n",
       "</g>\n",
       "<!-- 47512731274320&#45;&gt;47513081694920 -->\n",
       "<g class=\"edge\" id=\"edge94\"><title>47512731274320-&gt;47513081694920</title>\n",
       "<path d=\"M574.85,-3256.97C591.004,-3231.61 621.501,-3183.73 640.449,-3153.98\" fill=\"none\" stroke=\"black\"/>\n",
       "<polygon fill=\"black\" points=\"643.51,-3155.69 645.931,-3145.38 637.606,-3151.93 643.51,-3155.69\" stroke=\"black\"/>\n",
       "</g>\n",
       "<!-- 47513081804112 -->\n",
       "<g class=\"node\" id=\"node3\"><title>47513081804112</title>\n",
       "<polygon fill=\"none\" points=\"334.493,-3109 334.493,-3145 565.507,-3145 565.507,-3109 334.493,-3109\" stroke=\"black\"/>\n",
       "<text font-family=\"Times,serif\" font-size=\"14.00\" text-anchor=\"middle\" x=\"450\" y=\"-3122.8\">G_cunit_16_bn0: BatchNormalization</text>\n",
       "</g>\n",
       "<!-- 47513081777792&#45;&gt;47513081804112 -->\n",
       "<g class=\"edge\" id=\"edge4\"><title>47513081777792-&gt;47513081804112</title>\n",
       "<path d=\"M484.336,-3182.94C478.923,-3174.28 472.233,-3163.57 466.2,-3153.92\" fill=\"none\" stroke=\"black\"/>\n",
       "<polygon fill=\"black\" points=\"469.168,-3152.07 460.9,-3145.44 463.232,-3155.78 469.168,-3152.07\" stroke=\"black\"/>\n",
       "</g>\n",
       "<!-- 47513081806688 -->\n",
       "<g class=\"node\" id=\"node4\"><title>47513081806688</title>\n",
       "<polygon fill=\"none\" points=\"360.925,-3035 360.925,-3071 539.075,-3071 539.075,-3035 360.925,-3035\" stroke=\"black\"/>\n",
       "<text font-family=\"Times,serif\" font-size=\"14.00\" text-anchor=\"middle\" x=\"450\" y=\"-3048.8\">G_cunit_16_conv0: Conv2D</text>\n",
       "</g>\n",
       "<!-- 47513081804112&#45;&gt;47513081806688 -->\n",
       "<g class=\"edge\" id=\"edge6\"><title>47513081804112-&gt;47513081806688</title>\n",
       "<path d=\"M450,-3108.94C450,-3100.81 450,-3090.88 450,-3081.7\" fill=\"none\" stroke=\"black\"/>\n",
       "<polygon fill=\"black\" points=\"453.5,-3081.44 450,-3071.44 446.5,-3081.44 453.5,-3081.44\" stroke=\"black\"/>\n",
       "</g>\n",
       "<!-- 47513082092120 -->\n",
       "<g class=\"node\" id=\"node5\"><title>47513082092120</title>\n",
       "<polygon fill=\"none\" points=\"360.925,-2961 360.925,-2997 539.075,-2997 539.075,-2961 360.925,-2961\" stroke=\"black\"/>\n",
       "<text font-family=\"Times,serif\" font-size=\"14.00\" text-anchor=\"middle\" x=\"450\" y=\"-2974.8\">G_cunit_16_conv1: Conv2D</text>\n",
       "</g>\n",
       "<!-- 47513081806688&#45;&gt;47513082092120 -->\n",
       "<g class=\"edge\" id=\"edge8\"><title>47513081806688-&gt;47513082092120</title>\n",
       "<path d=\"M450,-3034.94C450,-3026.81 450,-3016.88 450,-3007.7\" fill=\"none\" stroke=\"black\"/>\n",
       "<polygon fill=\"black\" points=\"453.5,-3007.44 450,-2997.44 446.5,-3007.44 453.5,-3007.44\" stroke=\"black\"/>\n",
       "</g>\n",
       "<!-- 47513082535328 -->\n",
       "<g class=\"node\" id=\"node6\"><title>47513082535328</title>\n",
       "<polygon fill=\"none\" points=\"309.143,-2887 309.143,-2923 516.857,-2923 516.857,-2887 309.143,-2887\" stroke=\"black\"/>\n",
       "<text font-family=\"Times,serif\" font-size=\"14.00\" text-anchor=\"middle\" x=\"413\" y=\"-2900.8\">G_cunit_16_pool: MaxPooling2D</text>\n",
       "</g>\n",
       "<!-- 47513082092120&#45;&gt;47513082535328 -->\n",
       "<g class=\"edge\" id=\"edge10\"><title>47513082092120-&gt;47513082535328</title>\n",
       "<path d=\"M441.232,-2960.94C436.872,-2952.45 431.505,-2942.01 426.625,-2932.51\" fill=\"none\" stroke=\"black\"/>\n",
       "<polygon fill=\"black\" points=\"429.646,-2930.74 421.963,-2923.44 423.42,-2933.93 429.646,-2930.74\" stroke=\"black\"/>\n",
       "</g>\n",
       "<!-- 47513090104400 -->\n",
       "<g class=\"node\" id=\"node38\"><title>47513090104400</title>\n",
       "<polygon fill=\"none\" points=\"426.675,-519 426.675,-555 599.325,-555 599.325,-519 426.675,-519\" stroke=\"black\"/>\n",
       "<text font-family=\"Times,serif\" font-size=\"14.00\" text-anchor=\"middle\" x=\"513\" y=\"-532.8\">concatenate_4: Concatenate</text>\n",
       "</g>\n",
       "<!-- 47513082092120&#45;&gt;47513090104400 -->\n",
       "<g class=\"edge\" id=\"edge82\"><title>47513082092120-&gt;47513090104400</title>\n",
       "<path d=\"M483.177,-2960.89C497.921,-2951.76 514.321,-2939.24 525,-2924 549.38,-2889.2 551,-2874.49 551,-2832 551,-2832 551,-2832 551,-684 551,-641.124 535.462,-593.384 524.257,-564.531\" fill=\"none\" stroke=\"black\"/>\n",
       "<polygon fill=\"black\" points=\"527.47,-563.138 520.508,-555.153 520.97,-565.737 527.47,-563.138\" stroke=\"black\"/>\n",
       "</g>\n",
       "<!-- 47513082685704 -->\n",
       "<g class=\"node\" id=\"node7\"><title>47513082685704</title>\n",
       "<polygon fill=\"none\" points=\"291.493,-2813 291.493,-2849 522.507,-2849 522.507,-2813 291.493,-2813\" stroke=\"black\"/>\n",
       "<text font-family=\"Times,serif\" font-size=\"14.00\" text-anchor=\"middle\" x=\"407\" y=\"-2826.8\">G_cunit_32_bn0: BatchNormalization</text>\n",
       "</g>\n",
       "<!-- 47513082535328&#45;&gt;47513082685704 -->\n",
       "<g class=\"edge\" id=\"edge12\"><title>47513082535328-&gt;47513082685704</title>\n",
       "<path d=\"M411.578,-2886.94C410.901,-2878.81 410.073,-2868.88 409.309,-2859.7\" fill=\"none\" stroke=\"black\"/>\n",
       "<polygon fill=\"black\" points=\"412.772,-2859.12 408.453,-2849.44 405.796,-2859.7 412.772,-2859.12\" stroke=\"black\"/>\n",
       "</g>\n",
       "<!-- 47513082572360 -->\n",
       "<g class=\"node\" id=\"node8\"><title>47513082572360</title>\n",
       "<polygon fill=\"none\" points=\"317.925,-2739 317.925,-2775 496.075,-2775 496.075,-2739 317.925,-2739\" stroke=\"black\"/>\n",
       "<text font-family=\"Times,serif\" font-size=\"14.00\" text-anchor=\"middle\" x=\"407\" y=\"-2752.8\">G_cunit_32_conv0: Conv2D</text>\n",
       "</g>\n",
       "<!-- 47513082685704&#45;&gt;47513082572360 -->\n",
       "<g class=\"edge\" id=\"edge14\"><title>47513082685704-&gt;47513082572360</title>\n",
       "<path d=\"M407,-2812.94C407,-2804.81 407,-2794.88 407,-2785.7\" fill=\"none\" stroke=\"black\"/>\n",
       "<polygon fill=\"black\" points=\"410.5,-2785.44 407,-2775.44 403.5,-2785.44 410.5,-2785.44\" stroke=\"black\"/>\n",
       "</g>\n",
       "<!-- 47513082838600 -->\n",
       "<g class=\"node\" id=\"node9\"><title>47513082838600</title>\n",
       "<polygon fill=\"none\" points=\"317.925,-2665 317.925,-2701 496.075,-2701 496.075,-2665 317.925,-2665\" stroke=\"black\"/>\n",
       "<text font-family=\"Times,serif\" font-size=\"14.00\" text-anchor=\"middle\" x=\"407\" y=\"-2678.8\">G_cunit_32_conv1: Conv2D</text>\n",
       "</g>\n",
       "<!-- 47513082572360&#45;&gt;47513082838600 -->\n",
       "<g class=\"edge\" id=\"edge16\"><title>47513082572360-&gt;47513082838600</title>\n",
       "<path d=\"M407,-2738.94C407,-2730.81 407,-2720.88 407,-2711.7\" fill=\"none\" stroke=\"black\"/>\n",
       "<polygon fill=\"black\" points=\"410.5,-2711.44 407,-2701.44 403.5,-2711.44 410.5,-2711.44\" stroke=\"black\"/>\n",
       "</g>\n",
       "<!-- 47513083611400 -->\n",
       "<g class=\"node\" id=\"node10\"><title>47513083611400</title>\n",
       "<polygon fill=\"none\" points=\"218.143,-2591 218.143,-2627 425.857,-2627 425.857,-2591 218.143,-2591\" stroke=\"black\"/>\n",
       "<text font-family=\"Times,serif\" font-size=\"14.00\" text-anchor=\"middle\" x=\"322\" y=\"-2604.8\">G_cunit_32_pool: MaxPooling2D</text>\n",
       "</g>\n",
       "<!-- 47513082838600&#45;&gt;47513083611400 -->\n",
       "<g class=\"edge\" id=\"edge18\"><title>47513082838600-&gt;47513083611400</title>\n",
       "<path d=\"M386.856,-2664.94C375.927,-2655.68 362.24,-2644.09 350.26,-2633.94\" fill=\"none\" stroke=\"black\"/>\n",
       "<polygon fill=\"black\" points=\"352.186,-2630.98 342.294,-2627.19 347.662,-2636.32 352.186,-2630.98\" stroke=\"black\"/>\n",
       "</g>\n",
       "<!-- 47513088847824 -->\n",
       "<g class=\"node\" id=\"node33\"><title>47513088847824</title>\n",
       "<polygon fill=\"none\" points=\"315.675,-889 315.675,-925 488.325,-925 488.325,-889 315.675,-889\" stroke=\"black\"/>\n",
       "<text font-family=\"Times,serif\" font-size=\"14.00\" text-anchor=\"middle\" x=\"402\" y=\"-902.8\">concatenate_3: Concatenate</text>\n",
       "</g>\n",
       "<!-- 47513082838600&#45;&gt;47513088847824 -->\n",
       "<g class=\"edge\" id=\"edge70\"><title>47513082838600-&gt;47513088847824</title>\n",
       "<path d=\"M417.725,-2664.76C433.212,-2638.17 460,-2585.08 460,-2536 460,-2536 460,-2536 460,-1054 460,-1012.25 457.818,-1000.21 441,-962 436.598,-951.997 430.132,-942.021 423.725,-933.415\" fill=\"none\" stroke=\"black\"/>\n",
       "<polygon fill=\"black\" points=\"426.322,-931.054 417.416,-925.315 420.8,-935.355 426.322,-931.054\" stroke=\"black\"/>\n",
       "</g>\n",
       "<!-- 47513083411536 -->\n",
       "<g class=\"node\" id=\"node11\"><title>47513083411536</title>\n",
       "<polygon fill=\"none\" points=\"200.493,-2517 200.493,-2553 431.507,-2553 431.507,-2517 200.493,-2517\" stroke=\"black\"/>\n",
       "<text font-family=\"Times,serif\" font-size=\"14.00\" text-anchor=\"middle\" x=\"316\" y=\"-2530.8\">G_cunit_64_bn0: BatchNormalization</text>\n",
       "</g>\n",
       "<!-- 47513083611400&#45;&gt;47513083411536 -->\n",
       "<g class=\"edge\" id=\"edge20\"><title>47513083611400-&gt;47513083411536</title>\n",
       "<path d=\"M320.578,-2590.94C319.901,-2582.81 319.073,-2572.88 318.309,-2563.7\" fill=\"none\" stroke=\"black\"/>\n",
       "<polygon fill=\"black\" points=\"321.772,-2563.12 317.453,-2553.44 314.796,-2563.7 321.772,-2563.12\" stroke=\"black\"/>\n",
       "</g>\n",
       "<!-- 47513083527520 -->\n",
       "<g class=\"node\" id=\"node12\"><title>47513083527520</title>\n",
       "<polygon fill=\"none\" points=\"226.925,-2443 226.925,-2479 405.075,-2479 405.075,-2443 226.925,-2443\" stroke=\"black\"/>\n",
       "<text font-family=\"Times,serif\" font-size=\"14.00\" text-anchor=\"middle\" x=\"316\" y=\"-2456.8\">G_cunit_64_conv0: Conv2D</text>\n",
       "</g>\n",
       "<!-- 47513083411536&#45;&gt;47513083527520 -->\n",
       "<g class=\"edge\" id=\"edge22\"><title>47513083411536-&gt;47513083527520</title>\n",
       "<path d=\"M316,-2516.94C316,-2508.81 316,-2498.88 316,-2489.7\" fill=\"none\" stroke=\"black\"/>\n",
       "<polygon fill=\"black\" points=\"319.5,-2489.44 316,-2479.44 312.5,-2489.44 319.5,-2489.44\" stroke=\"black\"/>\n",
       "</g>\n",
       "<!-- 47513083690120 -->\n",
       "<g class=\"node\" id=\"node13\"><title>47513083690120</title>\n",
       "<polygon fill=\"none\" points=\"226.925,-2369 226.925,-2405 405.075,-2405 405.075,-2369 226.925,-2369\" stroke=\"black\"/>\n",
       "<text font-family=\"Times,serif\" font-size=\"14.00\" text-anchor=\"middle\" x=\"316\" y=\"-2382.8\">G_cunit_64_conv1: Conv2D</text>\n",
       "</g>\n",
       "<!-- 47513083527520&#45;&gt;47513083690120 -->\n",
       "<g class=\"edge\" id=\"edge24\"><title>47513083527520-&gt;47513083690120</title>\n",
       "<path d=\"M316,-2442.94C316,-2434.81 316,-2424.88 316,-2415.7\" fill=\"none\" stroke=\"black\"/>\n",
       "<polygon fill=\"black\" points=\"319.5,-2415.44 316,-2405.44 312.5,-2415.44 319.5,-2415.44\" stroke=\"black\"/>\n",
       "</g>\n",
       "<!-- 47513084320736 -->\n",
       "<g class=\"node\" id=\"node14\"><title>47513084320736</title>\n",
       "<polygon fill=\"none\" points=\"126.143,-2295 126.143,-2331 333.857,-2331 333.857,-2295 126.143,-2295\" stroke=\"black\"/>\n",
       "<text font-family=\"Times,serif\" font-size=\"14.00\" text-anchor=\"middle\" x=\"230\" y=\"-2308.8\">G_cunit_64_pool: MaxPooling2D</text>\n",
       "</g>\n",
       "<!-- 47513083690120&#45;&gt;47513084320736 -->\n",
       "<g class=\"edge\" id=\"edge26\"><title>47513083690120-&gt;47513084320736</title>\n",
       "<path d=\"M295.619,-2368.94C284.455,-2359.59 270.447,-2347.86 258.243,-2337.65\" fill=\"none\" stroke=\"black\"/>\n",
       "<polygon fill=\"black\" points=\"260.447,-2334.93 250.533,-2331.19 255.953,-2340.29 260.447,-2334.93\" stroke=\"black\"/>\n",
       "</g>\n",
       "<!-- 47513087585528 -->\n",
       "<g class=\"node\" id=\"node28\"><title>47513087585528</title>\n",
       "<polygon fill=\"none\" points=\"224.675,-1259 224.675,-1295 397.325,-1295 397.325,-1259 224.675,-1259\" stroke=\"black\"/>\n",
       "<text font-family=\"Times,serif\" font-size=\"14.00\" text-anchor=\"middle\" x=\"311\" y=\"-1272.8\">concatenate_2: Concatenate</text>\n",
       "</g>\n",
       "<!-- 47513083690120&#45;&gt;47513087585528 -->\n",
       "<g class=\"edge\" id=\"edge58\"><title>47513083690120-&gt;47513087585528</title>\n",
       "<path d=\"M326.725,-2368.76C342.212,-2342.17 369,-2289.08 369,-2240 369,-2240 369,-2240 369,-1424 369,-1382.25 366.818,-1370.21 350,-1332 345.598,-1322 339.132,-1312.02 332.725,-1303.42\" fill=\"none\" stroke=\"black\"/>\n",
       "<polygon fill=\"black\" points=\"335.322,-1301.05 326.416,-1295.32 329.8,-1305.36 335.322,-1301.05\" stroke=\"black\"/>\n",
       "</g>\n",
       "<!-- 47513084477224 -->\n",
       "<g class=\"node\" id=\"node15\"><title>47513084477224</title>\n",
       "<polygon fill=\"none\" points=\"102.993,-2221 102.993,-2257 341.007,-2257 341.007,-2221 102.993,-2221\" stroke=\"black\"/>\n",
       "<text font-family=\"Times,serif\" font-size=\"14.00\" text-anchor=\"middle\" x=\"222\" y=\"-2234.8\">G_cunit_128_bn0: BatchNormalization</text>\n",
       "</g>\n",
       "<!-- 47513084320736&#45;&gt;47513084477224 -->\n",
       "<g class=\"edge\" id=\"edge28\"><title>47513084320736-&gt;47513084477224</title>\n",
       "<path d=\"M228.104,-2294.94C227.191,-2286.72 226.073,-2276.66 225.045,-2267.41\" fill=\"none\" stroke=\"black\"/>\n",
       "<polygon fill=\"black\" points=\"228.521,-2266.99 223.938,-2257.44 221.564,-2267.77 228.521,-2266.99\" stroke=\"black\"/>\n",
       "</g>\n",
       "<!-- 47513084533896 -->\n",
       "<g class=\"node\" id=\"node16\"><title>47513084533896</title>\n",
       "<polygon fill=\"none\" points=\"129.425,-2147 129.425,-2183 314.575,-2183 314.575,-2147 129.425,-2147\" stroke=\"black\"/>\n",
       "<text font-family=\"Times,serif\" font-size=\"14.00\" text-anchor=\"middle\" x=\"222\" y=\"-2160.8\">G_cunit_128_conv0: Conv2D</text>\n",
       "</g>\n",
       "<!-- 47513084477224&#45;&gt;47513084533896 -->\n",
       "<g class=\"edge\" id=\"edge30\"><title>47513084477224-&gt;47513084533896</title>\n",
       "<path d=\"M222,-2220.94C222,-2212.81 222,-2202.88 222,-2193.7\" fill=\"none\" stroke=\"black\"/>\n",
       "<polygon fill=\"black\" points=\"225.5,-2193.44 222,-2183.44 218.5,-2193.44 225.5,-2193.44\" stroke=\"black\"/>\n",
       "</g>\n",
       "<!-- 47513084861464 -->\n",
       "<g class=\"node\" id=\"node17\"><title>47513084861464</title>\n",
       "<polygon fill=\"none\" points=\"129.425,-2073 129.425,-2109 314.575,-2109 314.575,-2073 129.425,-2073\" stroke=\"black\"/>\n",
       "<text font-family=\"Times,serif\" font-size=\"14.00\" text-anchor=\"middle\" x=\"222\" y=\"-2086.8\">G_cunit_128_conv1: Conv2D</text>\n",
       "</g>\n",
       "<!-- 47513084533896&#45;&gt;47513084861464 -->\n",
       "<g class=\"edge\" id=\"edge32\"><title>47513084533896-&gt;47513084861464</title>\n",
       "<path d=\"M222,-2146.94C222,-2138.81 222,-2128.88 222,-2119.7\" fill=\"none\" stroke=\"black\"/>\n",
       "<polygon fill=\"black\" points=\"225.5,-2119.44 222,-2109.44 218.5,-2119.44 225.5,-2119.44\" stroke=\"black\"/>\n",
       "</g>\n",
       "<!-- 47513085254400 -->\n",
       "<g class=\"node\" id=\"node18\"><title>47513085254400</title>\n",
       "<polygon fill=\"none\" points=\"25.6434,-1999 25.6434,-2035 240.357,-2035 240.357,-1999 25.6434,-1999\" stroke=\"black\"/>\n",
       "<text font-family=\"Times,serif\" font-size=\"14.00\" text-anchor=\"middle\" x=\"133\" y=\"-2012.8\">G_cunit_128_pool: MaxPooling2D</text>\n",
       "</g>\n",
       "<!-- 47513084861464&#45;&gt;47513085254400 -->\n",
       "<g class=\"edge\" id=\"edge34\"><title>47513084861464-&gt;47513085254400</title>\n",
       "<path d=\"M200.908,-2072.94C189.355,-2063.59 174.858,-2051.86 162.229,-2041.65\" fill=\"none\" stroke=\"black\"/>\n",
       "<polygon fill=\"black\" points=\"164.225,-2038.76 154.249,-2035.19 159.822,-2044.2 164.225,-2038.76\" stroke=\"black\"/>\n",
       "</g>\n",
       "<!-- 47513086322896 -->\n",
       "<g class=\"node\" id=\"node23\"><title>47513086322896</title>\n",
       "<polygon fill=\"none\" points=\"133.675,-1629 133.675,-1665 306.325,-1665 306.325,-1629 133.675,-1629\" stroke=\"black\"/>\n",
       "<text font-family=\"Times,serif\" font-size=\"14.00\" text-anchor=\"middle\" x=\"220\" y=\"-1642.8\">concatenate_1: Concatenate</text>\n",
       "</g>\n",
       "<!-- 47513084861464&#45;&gt;47513086322896 -->\n",
       "<g class=\"edge\" id=\"edge46\"><title>47513084861464-&gt;47513086322896</title>\n",
       "<path d=\"M233.13,-2072.81C249.201,-2046.29 277,-1993.3 277,-1944 277,-1944 277,-1944 277,-1794 277,-1752.16 273.579,-1740.42 257,-1702 252.745,-1692.14 246.589,-1682.2 240.516,-1673.58\" fill=\"none\" stroke=\"black\"/>\n",
       "<polygon fill=\"black\" points=\"243.288,-1671.45 234.544,-1665.46 237.648,-1675.59 243.288,-1671.45\" stroke=\"black\"/>\n",
       "</g>\n",
       "<!-- 47513081804280 -->\n",
       "<g class=\"node\" id=\"node19\"><title>47513081804280</title>\n",
       "<polygon fill=\"none\" points=\"7.9933,-1925 7.9933,-1961 246.007,-1961 246.007,-1925 7.9933,-1925\" stroke=\"black\"/>\n",
       "<text font-family=\"Times,serif\" font-size=\"14.00\" text-anchor=\"middle\" x=\"127\" y=\"-1938.8\">G_cunit_256_bn0: BatchNormalization</text>\n",
       "</g>\n",
       "<!-- 47513085254400&#45;&gt;47513081804280 -->\n",
       "<g class=\"edge\" id=\"edge36\"><title>47513085254400-&gt;47513081804280</title>\n",
       "<path d=\"M131.578,-1998.94C130.901,-1990.81 130.073,-1980.88 129.309,-1971.7\" fill=\"none\" stroke=\"black\"/>\n",
       "<polygon fill=\"black\" points=\"132.772,-1971.12 128.453,-1961.44 125.796,-1971.7 132.772,-1971.12\" stroke=\"black\"/>\n",
       "</g>\n",
       "<!-- 47513085415096 -->\n",
       "<g class=\"node\" id=\"node20\"><title>47513085415096</title>\n",
       "<polygon fill=\"none\" points=\"33.4246,-1851 33.4246,-1887 218.575,-1887 218.575,-1851 33.4246,-1851\" stroke=\"black\"/>\n",
       "<text font-family=\"Times,serif\" font-size=\"14.00\" text-anchor=\"middle\" x=\"126\" y=\"-1864.8\">G_cunit_256_conv0: Conv2D</text>\n",
       "</g>\n",
       "<!-- 47513081804280&#45;&gt;47513085415096 -->\n",
       "<g class=\"edge\" id=\"edge38\"><title>47513081804280-&gt;47513085415096</title>\n",
       "<path d=\"M126.763,-1924.94C126.65,-1916.81 126.512,-1906.88 126.385,-1897.7\" fill=\"none\" stroke=\"black\"/>\n",
       "<polygon fill=\"black\" points=\"129.881,-1897.39 126.242,-1887.44 122.882,-1897.49 129.881,-1897.39\" stroke=\"black\"/>\n",
       "</g>\n",
       "<!-- 47513085914416 -->\n",
       "<g class=\"node\" id=\"node21\"><title>47513085914416</title>\n",
       "<polygon fill=\"none\" points=\"32.4246,-1777 32.4246,-1813 217.575,-1813 217.575,-1777 32.4246,-1777\" stroke=\"black\"/>\n",
       "<text font-family=\"Times,serif\" font-size=\"14.00\" text-anchor=\"middle\" x=\"125\" y=\"-1790.8\">G_cunit_256_conv1: Conv2D</text>\n",
       "</g>\n",
       "<!-- 47513085415096&#45;&gt;47513085914416 -->\n",
       "<g class=\"edge\" id=\"edge40\"><title>47513085415096-&gt;47513085914416</title>\n",
       "<path d=\"M125.763,-1850.94C125.65,-1842.81 125.512,-1832.88 125.385,-1823.7\" fill=\"none\" stroke=\"black\"/>\n",
       "<polygon fill=\"black\" points=\"128.881,-1823.39 125.242,-1813.44 121.882,-1823.49 128.881,-1823.39\" stroke=\"black\"/>\n",
       "</g>\n",
       "<!-- 47513085994264 -->\n",
       "<g class=\"node\" id=\"node22\"><title>47513085994264</title>\n",
       "<polygon fill=\"none\" points=\"-0.8412,-1703 -0.8412,-1739 248.841,-1739 248.841,-1703 -0.8412,-1703\" stroke=\"black\"/>\n",
       "<text font-family=\"Times,serif\" font-size=\"14.00\" text-anchor=\"middle\" x=\"124\" y=\"-1716.8\">G_dunit_128_deconv: Conv2DTranspose</text>\n",
       "</g>\n",
       "<!-- 47513085914416&#45;&gt;47513085994264 -->\n",
       "<g class=\"edge\" id=\"edge42\"><title>47513085914416-&gt;47513085994264</title>\n",
       "<path d=\"M124.763,-1776.94C124.65,-1768.81 124.512,-1758.88 124.385,-1749.7\" fill=\"none\" stroke=\"black\"/>\n",
       "<polygon fill=\"black\" points=\"127.881,-1749.39 124.242,-1739.44 120.882,-1749.49 127.881,-1749.39\" stroke=\"black\"/>\n",
       "</g>\n",
       "<!-- 47513085994264&#45;&gt;47513086322896 -->\n",
       "<g class=\"edge\" id=\"edge44\"><title>47513085994264-&gt;47513086322896</title>\n",
       "<path d=\"M146.751,-1702.94C159.332,-1693.5 175.148,-1681.64 188.861,-1671.35\" fill=\"none\" stroke=\"black\"/>\n",
       "<polygon fill=\"black\" points=\"191.18,-1673.99 197.08,-1665.19 186.98,-1668.39 191.18,-1673.99\" stroke=\"black\"/>\n",
       "</g>\n",
       "<!-- 47513086647208 -->\n",
       "<g class=\"node\" id=\"node24\"><title>47513086647208</title>\n",
       "<polygon fill=\"none\" points=\"100.601,-1555 100.601,-1591 339.399,-1591 339.399,-1555 100.601,-1555\" stroke=\"black\"/>\n",
       "<text font-family=\"Times,serif\" font-size=\"14.00\" text-anchor=\"middle\" x=\"220\" y=\"-1568.8\">G_dunit_128_bn0: BatchNormalization</text>\n",
       "</g>\n",
       "<!-- 47513086322896&#45;&gt;47513086647208 -->\n",
       "<g class=\"edge\" id=\"edge48\"><title>47513086322896-&gt;47513086647208</title>\n",
       "<path d=\"M220,-1628.94C220,-1620.81 220,-1610.88 220,-1601.7\" fill=\"none\" stroke=\"black\"/>\n",
       "<polygon fill=\"black\" points=\"223.5,-1601.44 220,-1591.44 216.5,-1601.44 223.5,-1601.44\" stroke=\"black\"/>\n",
       "</g>\n",
       "<!-- 47513086599912 -->\n",
       "<g class=\"node\" id=\"node25\"><title>47513086599912</title>\n",
       "<polygon fill=\"none\" points=\"127.032,-1481 127.032,-1517 312.968,-1517 312.968,-1481 127.032,-1481\" stroke=\"black\"/>\n",
       "<text font-family=\"Times,serif\" font-size=\"14.00\" text-anchor=\"middle\" x=\"220\" y=\"-1494.8\">G_dunit_128_conv0: Conv2D</text>\n",
       "</g>\n",
       "<!-- 47513086647208&#45;&gt;47513086599912 -->\n",
       "<g class=\"edge\" id=\"edge50\"><title>47513086647208-&gt;47513086599912</title>\n",
       "<path d=\"M220,-1554.94C220,-1546.81 220,-1536.88 220,-1527.7\" fill=\"none\" stroke=\"black\"/>\n",
       "<polygon fill=\"black\" points=\"223.5,-1527.44 220,-1517.44 216.5,-1527.44 223.5,-1527.44\" stroke=\"black\"/>\n",
       "</g>\n",
       "<!-- 47513086824344 -->\n",
       "<g class=\"node\" id=\"node26\"><title>47513086824344</title>\n",
       "<polygon fill=\"none\" points=\"127.032,-1407 127.032,-1443 312.968,-1443 312.968,-1407 127.032,-1407\" stroke=\"black\"/>\n",
       "<text font-family=\"Times,serif\" font-size=\"14.00\" text-anchor=\"middle\" x=\"220\" y=\"-1420.8\">G_dunit_128_conv1: Conv2D</text>\n",
       "</g>\n",
       "<!-- 47513086599912&#45;&gt;47513086824344 -->\n",
       "<g class=\"edge\" id=\"edge52\"><title>47513086599912-&gt;47513086824344</title>\n",
       "<path d=\"M220,-1480.94C220,-1472.81 220,-1462.88 220,-1453.7\" fill=\"none\" stroke=\"black\"/>\n",
       "<polygon fill=\"black\" points=\"223.5,-1453.44 220,-1443.44 216.5,-1453.44 223.5,-1453.44\" stroke=\"black\"/>\n",
       "</g>\n",
       "<!-- 47513087433864 -->\n",
       "<g class=\"node\" id=\"node27\"><title>47513087433864</title>\n",
       "<polygon fill=\"none\" points=\"98.6588,-1333 98.6588,-1369 341.341,-1369 341.341,-1333 98.6588,-1333\" stroke=\"black\"/>\n",
       "<text font-family=\"Times,serif\" font-size=\"14.00\" text-anchor=\"middle\" x=\"220\" y=\"-1346.8\">G_dunit_64_deconv: Conv2DTranspose</text>\n",
       "</g>\n",
       "<!-- 47513086824344&#45;&gt;47513087433864 -->\n",
       "<g class=\"edge\" id=\"edge54\"><title>47513086824344-&gt;47513087433864</title>\n",
       "<path d=\"M220,-1406.94C220,-1398.81 220,-1388.88 220,-1379.7\" fill=\"none\" stroke=\"black\"/>\n",
       "<polygon fill=\"black\" points=\"223.5,-1379.44 220,-1369.44 216.5,-1379.44 223.5,-1379.44\" stroke=\"black\"/>\n",
       "</g>\n",
       "<!-- 47513087433864&#45;&gt;47513087585528 -->\n",
       "<g class=\"edge\" id=\"edge56\"><title>47513087433864-&gt;47513087585528</title>\n",
       "<path d=\"M241.566,-1332.94C253.379,-1323.59 268.202,-1311.86 281.115,-1301.65\" fill=\"none\" stroke=\"black\"/>\n",
       "<polygon fill=\"black\" points=\"283.603,-1304.14 289.274,-1295.19 279.26,-1298.65 283.603,-1304.14\" stroke=\"black\"/>\n",
       "</g>\n",
       "<!-- 47513087585976 -->\n",
       "<g class=\"node\" id=\"node29\"><title>47513087585976</title>\n",
       "<polygon fill=\"none\" points=\"195.101,-1185 195.101,-1221 426.899,-1221 426.899,-1185 195.101,-1185\" stroke=\"black\"/>\n",
       "<text font-family=\"Times,serif\" font-size=\"14.00\" text-anchor=\"middle\" x=\"311\" y=\"-1198.8\">G_dunit_64_bn0: BatchNormalization</text>\n",
       "</g>\n",
       "<!-- 47513087585528&#45;&gt;47513087585976 -->\n",
       "<g class=\"edge\" id=\"edge60\"><title>47513087585528-&gt;47513087585976</title>\n",
       "<path d=\"M311,-1258.94C311,-1250.81 311,-1240.88 311,-1231.7\" fill=\"none\" stroke=\"black\"/>\n",
       "<polygon fill=\"black\" points=\"314.5,-1231.44 311,-1221.44 307.5,-1231.44 314.5,-1231.44\" stroke=\"black\"/>\n",
       "</g>\n",
       "<!-- 47513087913208 -->\n",
       "<g class=\"node\" id=\"node30\"><title>47513087913208</title>\n",
       "<polygon fill=\"none\" points=\"221.532,-1111 221.532,-1147 400.468,-1147 400.468,-1111 221.532,-1111\" stroke=\"black\"/>\n",
       "<text font-family=\"Times,serif\" font-size=\"14.00\" text-anchor=\"middle\" x=\"311\" y=\"-1124.8\">G_dunit_64_conv0: Conv2D</text>\n",
       "</g>\n",
       "<!-- 47513087585976&#45;&gt;47513087913208 -->\n",
       "<g class=\"edge\" id=\"edge62\"><title>47513087585976-&gt;47513087913208</title>\n",
       "<path d=\"M311,-1184.94C311,-1176.81 311,-1166.88 311,-1157.7\" fill=\"none\" stroke=\"black\"/>\n",
       "<polygon fill=\"black\" points=\"314.5,-1157.44 311,-1147.44 307.5,-1157.44 314.5,-1157.44\" stroke=\"black\"/>\n",
       "</g>\n",
       "<!-- 47513088085968 -->\n",
       "<g class=\"node\" id=\"node31\"><title>47513088085968</title>\n",
       "<polygon fill=\"none\" points=\"221.532,-1037 221.532,-1073 400.468,-1073 400.468,-1037 221.532,-1037\" stroke=\"black\"/>\n",
       "<text font-family=\"Times,serif\" font-size=\"14.00\" text-anchor=\"middle\" x=\"311\" y=\"-1050.8\">G_dunit_64_conv1: Conv2D</text>\n",
       "</g>\n",
       "<!-- 47513087913208&#45;&gt;47513088085968 -->\n",
       "<g class=\"edge\" id=\"edge64\"><title>47513087913208-&gt;47513088085968</title>\n",
       "<path d=\"M311,-1110.94C311,-1102.81 311,-1092.88 311,-1083.7\" fill=\"none\" stroke=\"black\"/>\n",
       "<polygon fill=\"black\" points=\"314.5,-1083.44 311,-1073.44 307.5,-1083.44 314.5,-1083.44\" stroke=\"black\"/>\n",
       "</g>\n",
       "<!-- 47513088682472 -->\n",
       "<g class=\"node\" id=\"node32\"><title>47513088682472</title>\n",
       "<polygon fill=\"none\" points=\"189.659,-963 189.659,-999 432.341,-999 432.341,-963 189.659,-963\" stroke=\"black\"/>\n",
       "<text font-family=\"Times,serif\" font-size=\"14.00\" text-anchor=\"middle\" x=\"311\" y=\"-976.8\">G_dunit_32_deconv: Conv2DTranspose</text>\n",
       "</g>\n",
       "<!-- 47513088085968&#45;&gt;47513088682472 -->\n",
       "<g class=\"edge\" id=\"edge66\"><title>47513088085968-&gt;47513088682472</title>\n",
       "<path d=\"M311,-1036.94C311,-1028.81 311,-1018.88 311,-1009.7\" fill=\"none\" stroke=\"black\"/>\n",
       "<polygon fill=\"black\" points=\"314.5,-1009.44 311,-999.441 307.5,-1009.44 314.5,-1009.44\" stroke=\"black\"/>\n",
       "</g>\n",
       "<!-- 47513088682472&#45;&gt;47513088847824 -->\n",
       "<g class=\"edge\" id=\"edge68\"><title>47513088682472-&gt;47513088847824</title>\n",
       "<path d=\"M332.566,-962.937C344.379,-953.59 359.202,-941.863 372.115,-931.646\" fill=\"none\" stroke=\"black\"/>\n",
       "<polygon fill=\"black\" points=\"374.603,-934.14 380.274,-925.19 370.26,-928.65 374.603,-934.14\" stroke=\"black\"/>\n",
       "</g>\n",
       "<!-- 47513088847768 -->\n",
       "<g class=\"node\" id=\"node34\"><title>47513088847768</title>\n",
       "<polygon fill=\"none\" points=\"286.101,-815 286.101,-851 517.899,-851 517.899,-815 286.101,-815\" stroke=\"black\"/>\n",
       "<text font-family=\"Times,serif\" font-size=\"14.00\" text-anchor=\"middle\" x=\"402\" y=\"-828.8\">G_dunit_32_bn0: BatchNormalization</text>\n",
       "</g>\n",
       "<!-- 47513088847824&#45;&gt;47513088847768 -->\n",
       "<g class=\"edge\" id=\"edge72\"><title>47513088847824-&gt;47513088847768</title>\n",
       "<path d=\"M402,-888.937C402,-880.807 402,-870.876 402,-861.705\" fill=\"none\" stroke=\"black\"/>\n",
       "<polygon fill=\"black\" points=\"405.5,-861.441 402,-851.441 398.5,-861.441 405.5,-861.441\" stroke=\"black\"/>\n",
       "</g>\n",
       "<!-- 47513089055600 -->\n",
       "<g class=\"node\" id=\"node35\"><title>47513089055600</title>\n",
       "<polygon fill=\"none\" points=\"312.532,-741 312.532,-777 491.468,-777 491.468,-741 312.532,-741\" stroke=\"black\"/>\n",
       "<text font-family=\"Times,serif\" font-size=\"14.00\" text-anchor=\"middle\" x=\"402\" y=\"-754.8\">G_dunit_32_conv0: Conv2D</text>\n",
       "</g>\n",
       "<!-- 47513088847768&#45;&gt;47513089055600 -->\n",
       "<g class=\"edge\" id=\"edge74\"><title>47513088847768-&gt;47513089055600</title>\n",
       "<path d=\"M402,-814.937C402,-806.807 402,-796.876 402,-787.705\" fill=\"none\" stroke=\"black\"/>\n",
       "<polygon fill=\"black\" points=\"405.5,-787.441 402,-777.441 398.5,-787.441 405.5,-787.441\" stroke=\"black\"/>\n",
       "</g>\n",
       "<!-- 47513089359208 -->\n",
       "<g class=\"node\" id=\"node36\"><title>47513089359208</title>\n",
       "<polygon fill=\"none\" points=\"312.532,-667 312.532,-703 491.468,-703 491.468,-667 312.532,-667\" stroke=\"black\"/>\n",
       "<text font-family=\"Times,serif\" font-size=\"14.00\" text-anchor=\"middle\" x=\"402\" y=\"-680.8\">G_dunit_32_conv1: Conv2D</text>\n",
       "</g>\n",
       "<!-- 47513089055600&#45;&gt;47513089359208 -->\n",
       "<g class=\"edge\" id=\"edge76\"><title>47513089055600-&gt;47513089359208</title>\n",
       "<path d=\"M402,-740.937C402,-732.807 402,-722.876 402,-713.705\" fill=\"none\" stroke=\"black\"/>\n",
       "<polygon fill=\"black\" points=\"405.5,-713.441 402,-703.441 398.5,-713.441 405.5,-713.441\" stroke=\"black\"/>\n",
       "</g>\n",
       "<!-- 47513089920696 -->\n",
       "<g class=\"node\" id=\"node37\"><title>47513089920696</title>\n",
       "<polygon fill=\"none\" points=\"280.659,-593 280.659,-629 523.341,-629 523.341,-593 280.659,-593\" stroke=\"black\"/>\n",
       "<text font-family=\"Times,serif\" font-size=\"14.00\" text-anchor=\"middle\" x=\"402\" y=\"-606.8\">G_dunit_16_deconv: Conv2DTranspose</text>\n",
       "</g>\n",
       "<!-- 47513089359208&#45;&gt;47513089920696 -->\n",
       "<g class=\"edge\" id=\"edge78\"><title>47513089359208-&gt;47513089920696</title>\n",
       "<path d=\"M402,-666.937C402,-658.807 402,-648.876 402,-639.705\" fill=\"none\" stroke=\"black\"/>\n",
       "<polygon fill=\"black\" points=\"405.5,-639.441 402,-629.441 398.5,-639.441 405.5,-639.441\" stroke=\"black\"/>\n",
       "</g>\n",
       "<!-- 47513089920696&#45;&gt;47513090104400 -->\n",
       "<g class=\"edge\" id=\"edge80\"><title>47513089920696-&gt;47513090104400</title>\n",
       "<path d=\"M428.305,-592.937C443.127,-583.323 461.831,-571.19 477.891,-560.774\" fill=\"none\" stroke=\"black\"/>\n",
       "<polygon fill=\"black\" points=\"480.014,-563.568 486.499,-555.19 476.204,-557.696 480.014,-563.568\" stroke=\"black\"/>\n",
       "</g>\n",
       "<!-- 47513090104456 -->\n",
       "<g class=\"node\" id=\"node39\"><title>47513090104456</title>\n",
       "<polygon fill=\"none\" points=\"397.101,-445 397.101,-481 628.899,-481 628.899,-445 397.101,-445\" stroke=\"black\"/>\n",
       "<text font-family=\"Times,serif\" font-size=\"14.00\" text-anchor=\"middle\" x=\"513\" y=\"-458.8\">G_dunit_16_bn0: BatchNormalization</text>\n",
       "</g>\n",
       "<!-- 47513090104400&#45;&gt;47513090104456 -->\n",
       "<g class=\"edge\" id=\"edge84\"><title>47513090104400-&gt;47513090104456</title>\n",
       "<path d=\"M513,-518.937C513,-510.807 513,-500.876 513,-491.705\" fill=\"none\" stroke=\"black\"/>\n",
       "<polygon fill=\"black\" points=\"516.5,-491.441 513,-481.441 509.5,-491.441 516.5,-491.441\" stroke=\"black\"/>\n",
       "</g>\n",
       "<!-- 47513090430680 -->\n",
       "<g class=\"node\" id=\"node40\"><title>47513090430680</title>\n",
       "<polygon fill=\"none\" points=\"430.532,-371 430.532,-407 609.468,-407 609.468,-371 430.532,-371\" stroke=\"black\"/>\n",
       "<text font-family=\"Times,serif\" font-size=\"14.00\" text-anchor=\"middle\" x=\"520\" y=\"-384.8\">G_dunit_16_conv0: Conv2D</text>\n",
       "</g>\n",
       "<!-- 47513090104456&#45;&gt;47513090430680 -->\n",
       "<g class=\"edge\" id=\"edge86\"><title>47513090104456-&gt;47513090430680</title>\n",
       "<path d=\"M514.659,-444.937C515.458,-436.719 516.436,-426.66 517.336,-417.406\" fill=\"none\" stroke=\"black\"/>\n",
       "<polygon fill=\"black\" points=\"520.82,-417.732 518.304,-407.441 513.853,-417.055 520.82,-417.732\" stroke=\"black\"/>\n",
       "</g>\n",
       "<!-- 47513090956648 -->\n",
       "<g class=\"node\" id=\"node41\"><title>47513090956648</title>\n",
       "<polygon fill=\"none\" points=\"437.532,-297 437.532,-333 616.468,-333 616.468,-297 437.532,-297\" stroke=\"black\"/>\n",
       "<text font-family=\"Times,serif\" font-size=\"14.00\" text-anchor=\"middle\" x=\"527\" y=\"-310.8\">G_dunit_16_conv1: Conv2D</text>\n",
       "</g>\n",
       "<!-- 47513090430680&#45;&gt;47513090956648 -->\n",
       "<g class=\"edge\" id=\"edge88\"><title>47513090430680-&gt;47513090956648</title>\n",
       "<path d=\"M521.659,-370.937C522.458,-362.719 523.436,-352.66 524.336,-343.406\" fill=\"none\" stroke=\"black\"/>\n",
       "<polygon fill=\"black\" points=\"527.82,-343.732 525.304,-333.441 520.853,-343.055 527.82,-343.732\" stroke=\"black\"/>\n",
       "</g>\n",
       "<!-- 47513091169416 -->\n",
       "<g class=\"node\" id=\"node42\"><title>47513091169416</title>\n",
       "<polygon fill=\"none\" points=\"495.981,-223 495.981,-259 594.019,-259 594.019,-223 495.981,-223\" stroke=\"black\"/>\n",
       "<text font-family=\"Times,serif\" font-size=\"14.00\" text-anchor=\"middle\" x=\"545\" y=\"-236.8\">G_flat: Flatten</text>\n",
       "</g>\n",
       "<!-- 47513090956648&#45;&gt;47513091169416 -->\n",
       "<g class=\"edge\" id=\"edge90\"><title>47513090956648-&gt;47513091169416</title>\n",
       "<path d=\"M531.266,-296.937C533.32,-288.719 535.835,-278.66 538.149,-269.406\" fill=\"none\" stroke=\"black\"/>\n",
       "<polygon fill=\"black\" points=\"541.61,-269.991 540.64,-259.441 534.819,-268.293 541.61,-269.991\" stroke=\"black\"/>\n",
       "</g>\n",
       "<!-- 47513091206896 -->\n",
       "<g class=\"node\" id=\"node43\"><title>47513091206896</title>\n",
       "<polygon fill=\"none\" points=\"500.324,-149 500.324,-185 607.676,-185 607.676,-149 500.324,-149\" stroke=\"black\"/>\n",
       "<text font-family=\"Times,serif\" font-size=\"14.00\" text-anchor=\"middle\" x=\"554\" y=\"-162.8\">G_dense: Dense</text>\n",
       "</g>\n",
       "<!-- 47513091169416&#45;&gt;47513091206896 -->\n",
       "<g class=\"edge\" id=\"edge92\"><title>47513091169416-&gt;47513091206896</title>\n",
       "<path d=\"M547.133,-222.937C548.16,-214.719 549.417,-204.66 550.574,-195.406\" fill=\"none\" stroke=\"black\"/>\n",
       "<polygon fill=\"black\" points=\"554.052,-195.798 551.82,-185.441 547.107,-194.929 554.052,-195.798\" stroke=\"black\"/>\n",
       "</g>\n",
       "<!-- 47513091526728 -->\n",
       "<g class=\"node\" id=\"node45\"><title>47513091526728</title>\n",
       "<polygon fill=\"none\" points=\"493.664,-75 493.664,-111 624.336,-111 624.336,-75 493.664,-75\" stroke=\"black\"/>\n",
       "<text font-family=\"Times,serif\" font-size=\"14.00\" text-anchor=\"middle\" x=\"559\" y=\"-88.8\">G_reshape: Reshape</text>\n",
       "</g>\n",
       "<!-- 47513091206896&#45;&gt;47513091526728 -->\n",
       "<g class=\"edge\" id=\"edge96\"><title>47513091206896-&gt;47513091526728</title>\n",
       "<path d=\"M555.185,-148.937C555.75,-140.807 556.439,-130.876 557.076,-121.705\" fill=\"none\" stroke=\"black\"/>\n",
       "<polygon fill=\"black\" points=\"560.588,-121.659 557.789,-111.441 553.604,-121.174 560.588,-121.659\" stroke=\"black\"/>\n",
       "</g>\n",
       "<!-- 47513081775328 -->\n",
       "<g class=\"node\" id=\"node46\"><title>47513081775328</title>\n",
       "<polygon fill=\"none\" points=\"569.507,-3035 569.507,-3071 744.493,-3071 744.493,-3035 569.507,-3035\" stroke=\"black\"/>\n",
       "<text font-family=\"Times,serif\" font-size=\"14.00\" text-anchor=\"middle\" x=\"657\" y=\"-3048.8\">G_reshape_targets: Reshape</text>\n",
       "</g>\n",
       "<!-- 47513081694920&#45;&gt;47513081775328 -->\n",
       "<g class=\"edge\" id=\"edge98\"><title>47513081694920-&gt;47513081775328</title>\n",
       "<path d=\"M657,-3108.94C657,-3100.81 657,-3090.88 657,-3081.7\" fill=\"none\" stroke=\"black\"/>\n",
       "<polygon fill=\"black\" points=\"660.5,-3081.44 657,-3071.44 653.5,-3081.44 660.5,-3081.44\" stroke=\"black\"/>\n",
       "</g>\n",
       "<!-- 47513091528352 -->\n",
       "<g class=\"node\" id=\"node47\"><title>47513091528352</title>\n",
       "<polygon fill=\"none\" points=\"557.808,-1 557.808,-37 658.192,-37 658.192,-1 557.808,-1\" stroke=\"black\"/>\n",
       "<text font-family=\"Times,serif\" font-size=\"14.00\" text-anchor=\"middle\" x=\"608\" y=\"-14.8\">G_output: Add</text>\n",
       "</g>\n",
       "<!-- 47513091526728&#45;&gt;47513091528352 -->\n",
       "<g class=\"edge\" id=\"edge100\"><title>47513091526728-&gt;47513091528352</title>\n",
       "<path d=\"M570.612,-74.937C576.506,-66.277 583.791,-55.5731 590.36,-45.9207\" fill=\"none\" stroke=\"black\"/>\n",
       "<polygon fill=\"black\" points=\"593.398,-47.677 596.131,-37.4407 587.611,-43.7386 593.398,-47.677\" stroke=\"black\"/>\n",
       "</g>\n",
       "<!-- 47513081775328&#45;&gt;47513091528352 -->\n",
       "<g class=\"edge\" id=\"edge102\"><title>47513081775328-&gt;47513091528352</title>\n",
       "<path d=\"M657,-3034.92C657,-3007.66 657,-2952.64 657,-2906 657,-2906 657,-2906 657,-166 657,-122.281 637.009,-74.8467 622.565,-46.2795\" fill=\"none\" stroke=\"black\"/>\n",
       "<polygon fill=\"black\" points=\"625.637,-44.602 617.916,-37.3474 619.428,-47.8338 625.637,-44.602\" stroke=\"black\"/>\n",
       "</g>\n",
       "</g>\n",
       "</svg>"
      ],
      "text/plain": [
       "<IPython.core.display.SVG object>"
      ]
     },
     "execution_count": 22,
     "metadata": {},
     "output_type": "execute_result"
    }
   ],
   "source": [
    "SVG(model_to_dot(generator).create(prog='dot', format='svg'))"
   ]
  },
  {
   "cell_type": "code",
   "execution_count": 23,
   "metadata": {},
   "outputs": [
    {
     "data": {
      "image/svg+xml": [
       "<svg height=\"1082pt\" viewBox=\"0.00 0.00 196.00 1082.00\" width=\"196pt\" xmlns=\"http://www.w3.org/2000/svg\" xmlns:xlink=\"http://www.w3.org/1999/xlink\">\n",
       "<g class=\"graph\" id=\"graph1\" transform=\"scale(1 1) rotate(0) translate(4 1078)\">\n",
       "<title>G</title>\n",
       "<polygon fill=\"white\" points=\"-4,5 -4,-1078 193,-1078 193,5 -4,5\" stroke=\"white\"/>\n",
       "<!-- 47512731273984 -->\n",
       "<g class=\"node\" id=\"node1\"><title>47512731273984</title>\n",
       "<polygon fill=\"none\" points=\"29.8173,-1037 29.8173,-1073 158.183,-1073 158.183,-1037 29.8173,-1037\" stroke=\"black\"/>\n",
       "<text font-family=\"Times,serif\" font-size=\"14.00\" text-anchor=\"middle\" x=\"94\" y=\"-1050.8\">input_1: InputLayer</text>\n",
       "</g>\n",
       "<!-- 47512733664648 -->\n",
       "<g class=\"node\" id=\"node2\"><title>47512733664648</title>\n",
       "<polygon fill=\"none\" points=\"12.3152,-963 12.3152,-999 175.685,-999 175.685,-963 12.3152,-963\" stroke=\"black\"/>\n",
       "<text font-family=\"Times,serif\" font-size=\"14.00\" text-anchor=\"middle\" x=\"94\" y=\"-976.8\">D_conv32_conv: Conv2D</text>\n",
       "</g>\n",
       "<!-- 47512731273984&#45;&gt;47512733664648 -->\n",
       "<g class=\"edge\" id=\"edge2\"><title>47512731273984-&gt;47512733664648</title>\n",
       "<path d=\"M94,-1036.94C94,-1028.81 94,-1018.88 94,-1009.7\" fill=\"none\" stroke=\"black\"/>\n",
       "<polygon fill=\"black\" points=\"97.5001,-1009.44 94,-999.441 90.5001,-1009.44 97.5001,-1009.44\" stroke=\"black\"/>\n",
       "</g>\n",
       "<!-- 47512733665992 -->\n",
       "<g class=\"node\" id=\"node3\"><title>47512733665992</title>\n",
       "<polygon fill=\"none\" points=\"3.3881,-889 3.3881,-925 184.612,-925 184.612,-889 3.3881,-889\" stroke=\"black\"/>\n",
       "<text font-family=\"Times,serif\" font-size=\"14.00\" text-anchor=\"middle\" x=\"94\" y=\"-902.8\">D_conv32_actv: LeakyReLU</text>\n",
       "</g>\n",
       "<!-- 47512733664648&#45;&gt;47512733665992 -->\n",
       "<g class=\"edge\" id=\"edge4\"><title>47512733664648-&gt;47512733665992</title>\n",
       "<path d=\"M94,-962.937C94,-954.807 94,-944.876 94,-935.705\" fill=\"none\" stroke=\"black\"/>\n",
       "<polygon fill=\"black\" points=\"97.5001,-935.441 94,-925.441 90.5001,-935.441 97.5001,-935.441\" stroke=\"black\"/>\n",
       "</g>\n",
       "<!-- 47512733666440 -->\n",
       "<g class=\"node\" id=\"node4\"><title>47512733666440</title>\n",
       "<polygon fill=\"none\" points=\"13.8699,-815 13.8699,-851 174.13,-851 174.13,-815 13.8699,-815\" stroke=\"black\"/>\n",
       "<text font-family=\"Times,serif\" font-size=\"14.00\" text-anchor=\"middle\" x=\"94\" y=\"-828.8\">D_conv32_dout: Dropout</text>\n",
       "</g>\n",
       "<!-- 47512733665992&#45;&gt;47512733666440 -->\n",
       "<g class=\"edge\" id=\"edge6\"><title>47512733665992-&gt;47512733666440</title>\n",
       "<path d=\"M94,-888.937C94,-880.807 94,-870.876 94,-861.705\" fill=\"none\" stroke=\"black\"/>\n",
       "<polygon fill=\"black\" points=\"97.5001,-861.441 94,-851.441 90.5001,-861.441 97.5001,-861.441\" stroke=\"black\"/>\n",
       "</g>\n",
       "<!-- 47512733665040 -->\n",
       "<g class=\"node\" id=\"node5\"><title>47512733665040</title>\n",
       "<polygon fill=\"none\" points=\"12.3152,-741 12.3152,-777 175.685,-777 175.685,-741 12.3152,-741\" stroke=\"black\"/>\n",
       "<text font-family=\"Times,serif\" font-size=\"14.00\" text-anchor=\"middle\" x=\"94\" y=\"-754.8\">D_conv64_conv: Conv2D</text>\n",
       "</g>\n",
       "<!-- 47512733666440&#45;&gt;47512733665040 -->\n",
       "<g class=\"edge\" id=\"edge8\"><title>47512733666440-&gt;47512733665040</title>\n",
       "<path d=\"M94,-814.937C94,-806.807 94,-796.876 94,-787.705\" fill=\"none\" stroke=\"black\"/>\n",
       "<polygon fill=\"black\" points=\"97.5001,-787.441 94,-777.441 90.5001,-787.441 97.5001,-787.441\" stroke=\"black\"/>\n",
       "</g>\n",
       "<!-- 47513080155440 -->\n",
       "<g class=\"node\" id=\"node6\"><title>47513080155440</title>\n",
       "<polygon fill=\"none\" points=\"3.3881,-667 3.3881,-703 184.612,-703 184.612,-667 3.3881,-667\" stroke=\"black\"/>\n",
       "<text font-family=\"Times,serif\" font-size=\"14.00\" text-anchor=\"middle\" x=\"94\" y=\"-680.8\">D_conv64_actv: LeakyReLU</text>\n",
       "</g>\n",
       "<!-- 47512733665040&#45;&gt;47513080155440 -->\n",
       "<g class=\"edge\" id=\"edge10\"><title>47512733665040-&gt;47513080155440</title>\n",
       "<path d=\"M94,-740.937C94,-732.807 94,-722.876 94,-713.705\" fill=\"none\" stroke=\"black\"/>\n",
       "<polygon fill=\"black\" points=\"97.5001,-713.441 94,-703.441 90.5001,-713.441 97.5001,-713.441\" stroke=\"black\"/>\n",
       "</g>\n",
       "<!-- 47513080281912 -->\n",
       "<g class=\"node\" id=\"node7\"><title>47513080281912</title>\n",
       "<polygon fill=\"none\" points=\"13.8699,-593 13.8699,-629 174.13,-629 174.13,-593 13.8699,-593\" stroke=\"black\"/>\n",
       "<text font-family=\"Times,serif\" font-size=\"14.00\" text-anchor=\"middle\" x=\"94\" y=\"-606.8\">D_conv64_dout: Dropout</text>\n",
       "</g>\n",
       "<!-- 47513080155440&#45;&gt;47513080281912 -->\n",
       "<g class=\"edge\" id=\"edge12\"><title>47513080155440-&gt;47513080281912</title>\n",
       "<path d=\"M94,-666.937C94,-658.807 94,-648.876 94,-639.705\" fill=\"none\" stroke=\"black\"/>\n",
       "<polygon fill=\"black\" points=\"97.5001,-639.441 94,-629.441 90.5001,-639.441 97.5001,-639.441\" stroke=\"black\"/>\n",
       "</g>\n",
       "<!-- 47513080281352 -->\n",
       "<g class=\"node\" id=\"node8\"><title>47513080281352</title>\n",
       "<polygon fill=\"none\" points=\"8.8152,-519 8.8152,-555 179.185,-555 179.185,-519 8.8152,-519\" stroke=\"black\"/>\n",
       "<text font-family=\"Times,serif\" font-size=\"14.00\" text-anchor=\"middle\" x=\"94\" y=\"-532.8\">D_conv128_conv: Conv2D</text>\n",
       "</g>\n",
       "<!-- 47513080281912&#45;&gt;47513080281352 -->\n",
       "<g class=\"edge\" id=\"edge14\"><title>47513080281912-&gt;47513080281352</title>\n",
       "<path d=\"M94,-592.937C94,-584.807 94,-574.876 94,-565.705\" fill=\"none\" stroke=\"black\"/>\n",
       "<polygon fill=\"black\" points=\"97.5001,-565.441 94,-555.441 90.5001,-565.441 97.5001,-565.441\" stroke=\"black\"/>\n",
       "</g>\n",
       "<!-- 47513080430040 -->\n",
       "<g class=\"node\" id=\"node9\"><title>47513080430040</title>\n",
       "<polygon fill=\"none\" points=\"-0.1119,-445 -0.1119,-481 188.112,-481 188.112,-445 -0.1119,-445\" stroke=\"black\"/>\n",
       "<text font-family=\"Times,serif\" font-size=\"14.00\" text-anchor=\"middle\" x=\"94\" y=\"-458.8\">D_conv128_actv: LeakyReLU</text>\n",
       "</g>\n",
       "<!-- 47513080281352&#45;&gt;47513080430040 -->\n",
       "<g class=\"edge\" id=\"edge16\"><title>47513080281352-&gt;47513080430040</title>\n",
       "<path d=\"M94,-518.937C94,-510.807 94,-500.876 94,-491.705\" fill=\"none\" stroke=\"black\"/>\n",
       "<polygon fill=\"black\" points=\"97.5001,-491.441 94,-481.441 90.5001,-491.441 97.5001,-491.441\" stroke=\"black\"/>\n",
       "</g>\n",
       "<!-- 47513080649992 -->\n",
       "<g class=\"node\" id=\"node10\"><title>47513080649992</title>\n",
       "<polygon fill=\"none\" points=\"10.3699,-371 10.3699,-407 177.63,-407 177.63,-371 10.3699,-371\" stroke=\"black\"/>\n",
       "<text font-family=\"Times,serif\" font-size=\"14.00\" text-anchor=\"middle\" x=\"94\" y=\"-384.8\">D_conv128_dout: Dropout</text>\n",
       "</g>\n",
       "<!-- 47513080430040&#45;&gt;47513080649992 -->\n",
       "<g class=\"edge\" id=\"edge18\"><title>47513080430040-&gt;47513080649992</title>\n",
       "<path d=\"M94,-444.937C94,-436.807 94,-426.876 94,-417.705\" fill=\"none\" stroke=\"black\"/>\n",
       "<polygon fill=\"black\" points=\"97.5001,-417.441 94,-407.441 90.5001,-417.441 97.5001,-417.441\" stroke=\"black\"/>\n",
       "</g>\n",
       "<!-- 47513080651336 -->\n",
       "<g class=\"node\" id=\"node11\"><title>47513080651336</title>\n",
       "<polygon fill=\"none\" points=\"8.8152,-297 8.8152,-333 179.185,-333 179.185,-297 8.8152,-297\" stroke=\"black\"/>\n",
       "<text font-family=\"Times,serif\" font-size=\"14.00\" text-anchor=\"middle\" x=\"94\" y=\"-310.8\">D_conv256_conv: Conv2D</text>\n",
       "</g>\n",
       "<!-- 47513080649992&#45;&gt;47513080651336 -->\n",
       "<g class=\"edge\" id=\"edge20\"><title>47513080649992-&gt;47513080651336</title>\n",
       "<path d=\"M94,-370.937C94,-362.807 94,-352.876 94,-343.705\" fill=\"none\" stroke=\"black\"/>\n",
       "<polygon fill=\"black\" points=\"97.5001,-343.441 94,-333.441 90.5001,-343.441 97.5001,-343.441\" stroke=\"black\"/>\n",
       "</g>\n",
       "<!-- 47513080861864 -->\n",
       "<g class=\"node\" id=\"node12\"><title>47513080861864</title>\n",
       "<polygon fill=\"none\" points=\"-0.1119,-223 -0.1119,-259 188.112,-259 188.112,-223 -0.1119,-223\" stroke=\"black\"/>\n",
       "<text font-family=\"Times,serif\" font-size=\"14.00\" text-anchor=\"middle\" x=\"94\" y=\"-236.8\">D_conv256_actv: LeakyReLU</text>\n",
       "</g>\n",
       "<!-- 47513080651336&#45;&gt;47513080861864 -->\n",
       "<g class=\"edge\" id=\"edge22\"><title>47513080651336-&gt;47513080861864</title>\n",
       "<path d=\"M94,-296.937C94,-288.807 94,-278.876 94,-269.705\" fill=\"none\" stroke=\"black\"/>\n",
       "<polygon fill=\"black\" points=\"97.5001,-269.441 94,-259.441 90.5001,-269.441 97.5001,-269.441\" stroke=\"black\"/>\n",
       "</g>\n",
       "<!-- 47513081022560 -->\n",
       "<g class=\"node\" id=\"node13\"><title>47513081022560</title>\n",
       "<polygon fill=\"none\" points=\"10.3699,-149 10.3699,-185 177.63,-185 177.63,-149 10.3699,-149\" stroke=\"black\"/>\n",
       "<text font-family=\"Times,serif\" font-size=\"14.00\" text-anchor=\"middle\" x=\"94\" y=\"-162.8\">D_conv256_dout: Dropout</text>\n",
       "</g>\n",
       "<!-- 47513080861864&#45;&gt;47513081022560 -->\n",
       "<g class=\"edge\" id=\"edge24\"><title>47513080861864-&gt;47513081022560</title>\n",
       "<path d=\"M94,-222.937C94,-214.807 94,-204.876 94,-195.705\" fill=\"none\" stroke=\"black\"/>\n",
       "<polygon fill=\"black\" points=\"97.5001,-195.441 94,-185.441 90.5001,-195.441 97.5001,-195.441\" stroke=\"black\"/>\n",
       "</g>\n",
       "<!-- 47512733666160 -->\n",
       "<g class=\"node\" id=\"node14\"><title>47512733666160</title>\n",
       "<polygon fill=\"none\" points=\"44.9814,-75 44.9814,-111 143.019,-111 143.019,-75 44.9814,-75\" stroke=\"black\"/>\n",
       "<text font-family=\"Times,serif\" font-size=\"14.00\" text-anchor=\"middle\" x=\"94\" y=\"-88.8\">D_flat: Flatten</text>\n",
       "</g>\n",
       "<!-- 47513081022560&#45;&gt;47512733666160 -->\n",
       "<g class=\"edge\" id=\"edge26\"><title>47513081022560-&gt;47512733666160</title>\n",
       "<path d=\"M94,-148.937C94,-140.807 94,-130.876 94,-121.705\" fill=\"none\" stroke=\"black\"/>\n",
       "<polygon fill=\"black\" points=\"97.5001,-121.441 94,-111.441 90.5001,-121.441 97.5001,-121.441\" stroke=\"black\"/>\n",
       "</g>\n",
       "<!-- 47513081106384 -->\n",
       "<g class=\"node\" id=\"node15\"><title>47513081106384</title>\n",
       "<polygon fill=\"none\" points=\"40.3243,-1 40.3243,-37 147.676,-37 147.676,-1 40.3243,-1\" stroke=\"black\"/>\n",
       "<text font-family=\"Times,serif\" font-size=\"14.00\" text-anchor=\"middle\" x=\"94\" y=\"-14.8\">D_dense: Dense</text>\n",
       "</g>\n",
       "<!-- 47512733666160&#45;&gt;47513081106384 -->\n",
       "<g class=\"edge\" id=\"edge28\"><title>47512733666160-&gt;47513081106384</title>\n",
       "<path d=\"M94,-74.937C94,-66.8072 94,-56.8761 94,-47.7047\" fill=\"none\" stroke=\"black\"/>\n",
       "<polygon fill=\"black\" points=\"97.5001,-47.4406 94,-37.4407 90.5001,-47.4407 97.5001,-47.4406\" stroke=\"black\"/>\n",
       "</g>\n",
       "</g>\n",
       "</svg>"
      ],
      "text/plain": [
       "<IPython.core.display.SVG object>"
      ]
     },
     "execution_count": 23,
     "metadata": {},
     "output_type": "execute_result"
    }
   ],
   "source": [
    "SVG(model_to_dot(discriminator).create(prog='dot', format='svg'))"
   ]
  },
  {
   "cell_type": "code",
   "execution_count": 24,
   "metadata": {
    "collapsed": true
   },
   "outputs": [],
   "source": [
    "# from keras.optimizers import Adam\n",
    "# generator.compile(optimizer=Adam(lr=1e-3), loss='mean_squared_error')\n"
   ]
  },
  {
   "cell_type": "code",
   "execution_count": 25,
   "metadata": {
    "collapsed": true,
    "scrolled": false
   },
   "outputs": [],
   "source": [
    "# generator.fit(X_mc[:1000000],y_mc[:1000000])"
   ]
  },
  {
   "cell_type": "code",
   "execution_count": 26,
   "metadata": {},
   "outputs": [],
   "source": [
    "reload(models)\n",
    "\n",
    "dm = models.discriminator_model(discriminator)\n",
    "am = models.adversarial_model(generator,discriminator)"
   ]
  },
  {
   "cell_type": "code",
   "execution_count": null,
   "metadata": {
    "scrolled": false
   },
   "outputs": [
    {
     "name": "stdout",
     "output_type": "stream",
     "text": [
      "976\n"
     ]
    }
   ],
   "source": [
    "from sklearn.utils import shuffle \n",
    "\n",
    "train_steps = 5\n",
    "\n",
    "batch_size = 1024\n",
    "n_batches = 1000000 // batch_size\n",
    "\n",
    "# n_batches = 100 \n",
    "\n",
    "print(n_batches)\n",
    "\n",
    "def train_batch(ib,batch_size):\n",
    "    X_mc_batch = X_mc[ib*batch_size:(ib+1)*batch_size]\n",
    "    y_mc_batch = y_mc[ib*batch_size:(ib+1)*batch_size]\n",
    "    y_data_batch = y_data[ib*batch_size:(ib+1)*batch_size]\n",
    "\n",
    "    y_mc_corr = generator.predict(X_mc_batch)\n",
    "    x_disc = np.concatenate( [y_mc_corr,y_data_batch] )\n",
    "    y_disc = np.ones( (x_disc.shape[0],1) )\n",
    "    y_disc[y_mc_corr.shape[0]:, :] = 0\n",
    "    # x_disc,y_disc = shuffle( x_disc,y_disc )\n",
    "    \n",
    "    discriminator.trainable = True \n",
    "    d_loss = dm.train_on_batch(x_disc, y_disc)\n",
    "    discriminator.trainable = False\n",
    "    a_loss = am.train_on_batch(X_mc_batch, np.ones(X_mc_batch.shape[0]))\n",
    "\n",
    "\n",
    "for i in range(train_steps):   \n",
    "    %time for ib in range(n_batches): train_batch(ib,batch_size)\n",
    "        \n",
    "    # print(\".\")\n",
    "#         log_mesg = \"%d: [D loss: %f, acc: %f]\" % (i, d_loss[0], d_loss[1])\n",
    "#         log_mesg = \"%s  [A loss: %f, acc: %f]\" % (log_mesg, a_loss[0], a_loss[1])\n",
    "        \n",
    "#         print(log_mesg)\n",
    "        \n",
    "#     noise = np.random.uniform(-1.0, 1.0, size=[batch_size, 100])\n",
    "#     images_fake = self.generator.predict(noise)\n",
    "#     x = np.concatenate((images_train, images_fake))\n",
    "#     y = np.ones([2*batch_size, 1])\n",
    "#     y[batch_size:, :] = 0\n",
    "#     self.discriminator.trainable = True\n",
    "#     d_loss = self.discriminator.train_on_batch(x, y)\n",
    "\n",
    "#     y = np.ones([batch_size, 1])\n",
    "#     noise = np.random.uniform(-1.0, 1.0, size=[batch_size, 100])\n",
    "#     self.discriminator.trainable = False\n",
    "#     a_loss = self.adversarial.train_on_batch(noise, y)\n",
    "#     log_mesg = \"%d: [D loss: %f, acc: %f]\" % (i, d_loss[0], d_loss[1])\n",
    "#     log_mesg = \"%s  [A loss: %f, acc: %f]\" % (log_mesg, a_loss[0], a_loss[1])\n",
    "#     print(log_mesg)\n",
    "#     if save_interval>0:\n",
    "#         if (i+1)%save_interval==0:\n",
    "#             self.plot_images(save2file=True, samples=noise_input.shape[0],\\\n",
    "#                 noise=noise_input, step=(i+1))\n"
   ]
  },
  {
   "cell_type": "code",
   "execution_count": 66,
   "metadata": {},
   "outputs": [],
   "source": [
    "y_mc_corr = generator.predict(X_mc[:100000])"
   ]
  },
  {
   "cell_type": "code",
   "execution_count": 67,
   "metadata": {
    "scrolled": false
   },
   "outputs": [
    {
     "name": "stdout",
     "output_type": "stream",
     "text": [
      "CovarianceIetaIphi\n"
     ]
    },
    {
     "data": {
      "image/png": "[encoded data removed]",
      "text/plain": [
       "<matplotlib.figure.Figure at 0x2ae15a1c0e10>"
      ]
     },
     "metadata": {},
     "output_type": "display_data"
    },
    {
     "name": "stdout",
     "output_type": "stream",
     "text": [
      "PhoIso03\n"
     ]
    },
    {
     "data": {
      "image/png": "[encoded data removed]",
      "text/plain": [
       "<matplotlib.figure.Figure at 0x2ae159874f60>"
      ]
     },
     "metadata": {},
     "output_type": "display_data"
    },
    {
     "name": "stdout",
     "output_type": "stream",
     "text": [
      "ChIso03\n"
     ]
    },
    {
     "data": {
      "image/png": "[encoded data removed]",
      "text/plain": [
       "<matplotlib.figure.Figure at 0x2ae15a3b30f0>"
      ]
     },
     "metadata": {},
     "output_type": "display_data"
    },
    {
     "name": "stdout",
     "output_type": "stream",
     "text": [
      "ChIso03worst\n"
     ]
    },
    {
     "data": {
      "image/png": "[encoded data removed]",
      "text/plain": [
       "<matplotlib.figure.Figure at 0x2ae159e42a20>"
      ]
     },
     "metadata": {},
     "output_type": "display_data"
    },
    {
     "name": "stdout",
     "output_type": "stream",
     "text": [
      "SigEOverE\n"
     ]
    },
    {
     "data": {
      "image/png": "[encoded data removed]",
      "text/plain": [
       "<matplotlib.figure.Figure at 0x2ae15a6bb940>"
      ]
     },
     "metadata": {},
     "output_type": "display_data"
    }
   ],
   "source": [
    "for ivar,var in enumerate(y_features):\n",
    "    print(var)\n",
    "    var_mc_uncorr = y_mc[:100000,ivar].ravel()\n",
    "    var_mc_corr = y_mc_corr[:,ivar].ravel()\n",
    "    var_data = y_data[:100000,ivar].ravel()\n",
    "    #bins = np.percentile(  np.hstack([var_mc_uncorr,var_data]), np.arange(0,105,5)  )\n",
    "    bins = np.arange(-5,5,0.2)\n",
    "    plt.hist(var_data,bins=bins,label='data')\n",
    "    plt.hist(var_mc_uncorr,bins=bins,alpha=0.5,label='uncorr')\n",
    "    plt.hist(var_mc_corr,bins=bins,alpha=0.5,label='corr')\n",
    "    plt.legend()\n",
    "    plt.show()\n"
   ]
  },
  {
   "cell_type": "code",
   "execution_count": 68,
   "metadata": {},
   "outputs": [
    {
     "data": {
      "text/plain": [
       "-0.7717604"
      ]
     },
     "execution_count": 68,
     "metadata": {},
     "output_type": "execute_result"
    }
   ],
   "source": [
    "y_data[:,1].mean()"
   ]
  },
  {
   "cell_type": "code",
   "execution_count": 69,
   "metadata": {},
   "outputs": [
    {
     "data": {
      "text/plain": [
       "5"
      ]
     },
     "execution_count": 69,
     "metadata": {},
     "output_type": "execute_result"
    }
   ],
   "source": [
    "len(y_features)"
   ]
  },
  {
   "cell_type": "code",
   "execution_count": 70,
   "metadata": {},
   "outputs": [
    {
     "data": {
      "text/plain": [
       "array([  0,   5,  10,  15,  20,  25,  30,  35,  40,  45,  50,  55,  60,\n",
       "        65,  70,  75,  80,  85,  90,  95, 100])"
      ]
     },
     "execution_count": 70,
     "metadata": {},
     "output_type": "execute_result"
    }
   ],
   "source": [
    "np.arange(0,105,5)"
   ]
  },
  {
   "cell_type": "code",
   "execution_count": null,
   "metadata": {
    "collapsed": true
   },
   "outputs": [],
   "source": []
  }
 ],
 "metadata": {
  "anaconda-cloud": {},
  "kernelspec": {
   "display_name": "Python 3",
   "language": "python",
   "name": "python3"
  },
  "language_info": {
   "codemirror_mode": {
    "name": "ipython",
    "version": 3
   },
   "file_extension": ".py",
   "mimetype": "text/x-python",
   "name": "python",
   "nbconvert_exporter": "python",
   "pygments_lexer": "ipython3",
   "version": "3.5.2"
  }
 },
 "nbformat": 4,
 "nbformat_minor": 1
}
