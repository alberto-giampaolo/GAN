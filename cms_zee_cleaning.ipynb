{
 "cells": [
  {
   "cell_type": "code",
   "execution_count": 1,
   "metadata": {},
   "outputs": [
    {
     "name": "stderr",
     "output_type": "stream",
     "text": [
      "Using TensorFlow backend.\n"
     ]
    }
   ],
   "source": [
    "import GAN.cms_datasets as cms\n",
    "import GAN.plotting as plotting\n",
    "import GAN.preprocessing as preprocessing"
   ]
  },
  {
   "cell_type": "code",
   "execution_count": 2,
   "metadata": {},
   "outputs": [
    {
     "data": {
      "text/plain": [
       "{'C_NAMES': ['Phi', 'ScEta'],\n",
       " 'FEAT_TRANSFORM': 'minmax',\n",
       " 'LOAD_DATASETS': ['moriond_v9', 'abs(ScEta) < 1.5'],\n",
       " 'MCWEIGHT': 'weight',\n",
       " 'REWEIGHT': ['rewei_zee_barrel.npy', 'rewei_zee_pt_barrel.npy'],\n",
       " 'X_NAMES': ['EtaWidth', 'R9', 'SigmaIeIe', 'S4', 'PhiWidth', 'Pt', 'mass']}"
      ]
     },
     "execution_count": 2,
     "metadata": {},
     "output_type": "execute_result"
    }
   ],
   "source": [
    "import GAN.utils as utils\n",
    "\n",
    "# reload(utils)\n",
    "\n",
    "class Parameters(utils.Parameters):\n",
    "    \n",
    "    load_datasets=utils.param([\"moriond_v9\",\"abs(ScEta) < 1.5\"])\n",
    "\n",
    "    c_names = utils.param(['Phi','ScEta'])\n",
    "    x_names = utils.param(['EtaWidth','R9','SigmaIeIe','S4','PhiWidth','Pt','mass'])\n",
    "\n",
    "    # reweight = utils.param('rewei_zee_barrel.npy')\n",
    "    reweight = utils.param(['rewei_zee_barrel.npy','rewei_zee_pt_barrel.npy'])#,'rewei_zee_pu_barrel.npy'])\n",
    "\n",
    "    mcweight = utils.param('weight')\n",
    "    \n",
    "    feat_transform = utils.param('minmax')\n",
    "#    feat_transform = utils.param('gaus')\n",
    "\n",
    "class MyApp(utils.MyApp):\n",
    "    classes = utils.List([Parameters])\n",
    "\n",
    "# Read all parameters above from command line. \n",
    "# Note: names are all converted to be all capital\n",
    "notebook_parameters = Parameters(MyApp()).get_params()\n",
    "\n",
    "# copy parameters to global scope\n",
    "globals().update(notebook_parameters)\n",
    "\n",
    "notebook_parameters"
   ]
  },
  {
   "cell_type": "code",
   "execution_count": 3,
   "metadata": {},
   "outputs": [],
   "source": [
    "# reload(cms)\n",
    "data,mc = cms.load_zee(*LOAD_DATASETS)\n"
   ]
  },
  {
   "cell_type": "code",
   "execution_count": 4,
   "metadata": {
    "scrolled": true
   },
   "outputs": [
    {
     "data": {
      "text/plain": [
       "Index(['index', 'run', 'rho', 'nvtx', 'mass', 'weight', 'SigMoM', 'Pt',\n",
       "       'ScEta', 'Phi', 'R9', 'S4', 'SigmaIeIe', 'EtaWidth', 'PhiWidth',\n",
       "       'CovarianceIphiIphi', 'SigmaRR', 'ScEnergy', 'CovarianceIetaIphi',\n",
       "       'PhoIso03', 'ChIso03', 'ChIso03worst', 'ScPreshowerEnergy', 'PhoIDMVA',\n",
       "       'SigEOverE', 'run_quantile'],\n",
       "      dtype='object')"
      ]
     },
     "execution_count": 4,
     "metadata": {},
     "output_type": "execute_result"
    }
   ],
   "source": [
    "data.columns"
   ]
  },
  {
   "cell_type": "code",
   "execution_count": 5,
   "metadata": {},
   "outputs": [
    {
     "data": {
      "text/plain": [
       "Index(['index', 'run', 'rho', 'nvtx', 'mass', 'weight', 'SigMoM', 'Pt',\n",
       "       'ScEta', 'Phi', 'R9', 'S4', 'SigmaIeIe', 'EtaWidth', 'PhiWidth',\n",
       "       'CovarianceIphiIphi', 'SigmaRR', 'ScEnergy', 'CovarianceIetaIphi',\n",
       "       'PhoIso03', 'ChIso03', 'ChIso03worst', 'ScPreshowerEnergy', 'PhoIDMVA',\n",
       "       'SigEOverE'],\n",
       "      dtype='object')"
      ]
     },
     "execution_count": 5,
     "metadata": {},
     "output_type": "execute_result"
    }
   ],
   "source": [
    "mc.columns"
   ]
  },
  {
   "cell_type": "code",
   "execution_count": 6,
   "metadata": {},
   "outputs": [],
   "source": [
    "c_names = C_NAMES\n",
    "x_names = X_NAMES\n",
    "\n",
    "data_c = data[c_names]\n",
    "data_x = data[x_names]\n",
    "\n",
    "mc_c = mc[c_names]\n",
    "mc_x = mc[x_names]\n"
   ]
  },
  {
   "cell_type": "code",
   "execution_count": 7,
   "metadata": {},
   "outputs": [
    {
     "data": {
      "text/plain": [
       "(Index(['EtaWidth', 'R9', 'SigmaIeIe', 'S4', 'PhiWidth', 'Pt', 'mass'], dtype='object'),\n",
       " (17520217, 7),\n",
       " Index(['Phi', 'ScEta'], dtype='object'),\n",
       " (17520217, 2))"
      ]
     },
     "execution_count": 7,
     "metadata": {},
     "output_type": "execute_result"
    }
   ],
   "source": [
    "data_x.columns, data_x.shape, data_c.columns, data_c.shape"
   ]
  },
  {
   "cell_type": "code",
   "execution_count": 8,
   "metadata": {},
   "outputs": [
    {
     "data": {
      "text/plain": [
       "(Index(['EtaWidth', 'R9', 'SigmaIeIe', 'S4', 'PhiWidth', 'Pt', 'mass'], dtype='object'),\n",
       " Index(['Phi', 'ScEta'], dtype='object'))"
      ]
     },
     "execution_count": 8,
     "metadata": {},
     "output_type": "execute_result"
    }
   ],
   "source": [
    "data_x.columns, data_c.columns"
   ]
  },
  {
   "cell_type": "code",
   "execution_count": 9,
   "metadata": {},
   "outputs": [
    {
     "data": {
      "text/plain": [
       "(Index(['EtaWidth', 'R9', 'SigmaIeIe', 'S4', 'PhiWidth', 'Pt', 'mass'], dtype='object'),\n",
       " Index(['Phi', 'ScEta'], dtype='object'))"
      ]
     },
     "execution_count": 9,
     "metadata": {},
     "output_type": "execute_result"
    }
   ],
   "source": [
    "mc_x.columns, mc_c.columns"
   ]
  },
  {
   "cell_type": "code",
   "execution_count": 10,
   "metadata": {},
   "outputs": [
    {
     "name": "stdout",
     "output_type": "stream",
     "text": [
      "weighting ['ScEta', 'Phi']\n",
      "weighting ['Pt']\n"
     ]
    }
   ],
   "source": [
    "# reload(preprocessing)\n",
    "if MCWEIGHT is None:\n",
    "    mc_w = np.ones(mc_x.shape[0])\n",
    "else:\n",
    "    mc_w = mc[MCWEIGHT].values\n",
    "\n",
    "if not REWEIGHT is None:\n",
    "    for fil in REWEIGHT:\n",
    "        info = np.load(fil)\n",
    "        inputs = info[0]\n",
    "        weights = info[1]\n",
    "        bins = info[2:]\n",
    "        # print(bins[1])\n",
    "        print('weighting',inputs)\n",
    "        mc_w *= preprocessing.reweight(mc,inputs,bins,weights,base=None)\n",
    "    \n",
    "data_w = np.ones(data_x.shape[0])"
   ]
  },
  {
   "cell_type": "code",
   "execution_count": 11,
   "metadata": {},
   "outputs": [],
   "source": [
    "q5 = data_x.quantile(0.05)\n",
    "q95 = data_x.quantile(0.95)\n",
    "data_min = data_x.min()\n",
    "data_max = data_x.max()\n",
    "\n",
    "iqr = data_x.quantile(0.75) - data_x.quantile(0.25)"
   ]
  },
  {
   "cell_type": "code",
   "execution_count": 12,
   "metadata": {},
   "outputs": [
    {
     "data": {
      "text/plain": [
       "EtaWidth      0.001511\n",
       "R9            0.096056\n",
       "SigmaIeIe     0.000000\n",
       "S4            0.115319\n",
       "PhiWidth      0.001289\n",
       "Pt           25.000006\n",
       "mass         70.000038\n",
       "dtype: float32"
      ]
     },
     "execution_count": 12,
     "metadata": {},
     "output_type": "execute_result"
    }
   ],
   "source": [
    "data_min"
   ]
  },
  {
   "cell_type": "code",
   "execution_count": 13,
   "metadata": {},
   "outputs": [
    {
     "data": {
      "text/plain": [
       "EtaWidth      0.006840\n",
       "R9            0.521665\n",
       "SigmaIeIe     0.007390\n",
       "S4            0.593159\n",
       "PhiWidth      0.009082\n",
       "Pt           28.708688\n",
       "mass         81.228424\n",
       "Name: 0.05, dtype: float64"
      ]
     },
     "execution_count": 13,
     "metadata": {},
     "output_type": "execute_result"
    }
   ],
   "source": [
    "q5"
   ]
  },
  {
   "cell_type": "code",
   "execution_count": 14,
   "metadata": {},
   "outputs": [
    {
     "data": {
      "text/plain": [
       "EtaWidth      0.004387\n",
       "R9            0.323129\n",
       "SigmaIeIe     0.006670\n",
       "S4            0.463765\n",
       "PhiWidth     -0.025666\n",
       "Pt           18.298711\n",
       "mass         76.532669\n",
       "dtype: float64"
      ]
     },
     "execution_count": 14,
     "metadata": {},
     "output_type": "execute_result"
    }
   ],
   "source": [
    "q5 - iqr"
   ]
  },
  {
   "cell_type": "code",
   "execution_count": 15,
   "metadata": {},
   "outputs": [
    {
     "data": {
      "text/plain": [
       "EtaWidth      2.172245\n",
       "R9            2.143735\n",
       "SigmaIeIe    10.253435\n",
       "S4            3.692925\n",
       "PhiWidth      0.224259\n",
       "Pt            0.356262\n",
       "mass          2.391178\n",
       "dtype: float64"
      ]
     },
     "execution_count": 15,
     "metadata": {},
     "output_type": "execute_result"
    }
   ],
   "source": [
    "(q5 - data_min)/iqr"
   ]
  },
  {
   "cell_type": "code",
   "execution_count": 16,
   "metadata": {},
   "outputs": [
    {
     "data": {
      "text/plain": [
       "EtaWidth        0.772673\n",
       "R9              9.882552\n",
       "SigmaIeIe       0.029891\n",
       "S4              0.988874\n",
       "PhiWidth        0.782234\n",
       "Pt            149.995651\n",
       "mass         1230.203613\n",
       "dtype: float32"
      ]
     },
     "execution_count": 16,
     "metadata": {},
     "output_type": "execute_result"
    }
   ],
   "source": [
    "data_max"
   ]
  },
  {
   "cell_type": "code",
   "execution_count": 17,
   "metadata": {},
   "outputs": [
    {
     "data": {
      "text/plain": [
       "EtaWidth       0.013756\n",
       "R9             0.966613\n",
       "SigmaIeIe      0.010354\n",
       "S4             0.916355\n",
       "PhiWidth       0.077592\n",
       "Pt            64.597618\n",
       "mass         109.754976\n",
       "Name: 0.95, dtype: float64"
      ]
     },
     "execution_count": 17,
     "metadata": {},
     "output_type": "execute_result"
    }
   ],
   "source": [
    "q95"
   ]
  },
  {
   "cell_type": "code",
   "execution_count": 18,
   "metadata": {},
   "outputs": [
    {
     "data": {
      "text/plain": [
       "EtaWidth       0.016209\n",
       "R9             1.165149\n",
       "SigmaIeIe      0.011074\n",
       "S4             1.045748\n",
       "PhiWidth       0.112340\n",
       "Pt            75.007595\n",
       "mass         114.450731\n",
       "dtype: float64"
      ]
     },
     "execution_count": 18,
     "metadata": {},
     "output_type": "execute_result"
    }
   ],
   "source": [
    "q95 + iqr"
   ]
  },
  {
   "cell_type": "code",
   "execution_count": 19,
   "metadata": {},
   "outputs": [
    {
     "data": {
      "text/plain": [
       "EtaWidth     309.341930\n",
       "R9            44.908390\n",
       "SigmaIeIe     27.105768\n",
       "S4             0.560458\n",
       "PhiWidth      20.279064\n",
       "Pt             8.203480\n",
       "mass         238.608836\n",
       "dtype: float64"
      ]
     },
     "execution_count": 19,
     "metadata": {},
     "output_type": "execute_result"
    }
   ],
   "source": [
    "(data_max - q95)/iqr"
   ]
  },
  {
   "cell_type": "code",
   "execution_count": 20,
   "metadata": {},
   "outputs": [],
   "source": [
    "thr = 1.5"
   ]
  },
  {
   "cell_type": "code",
   "execution_count": 21,
   "metadata": {},
   "outputs": [],
   "source": [
    "reject_low = data_x < q5 - thr*iqr\n",
    "reject_high = data_x > q95 + thr*iqr"
   ]
  },
  {
   "cell_type": "code",
   "execution_count": 22,
   "metadata": {
    "scrolled": false
   },
   "outputs": [],
   "source": [
    "n_reject_low = reject_low.any(axis=1).sum()\n",
    "n_reject_high = reject_high.any(axis=1).sum()\n"
   ]
  },
  {
   "cell_type": "code",
   "execution_count": 23,
   "metadata": {
    "scrolled": true
   },
   "outputs": [
    {
     "data": {
      "text/plain": [
       "(0.019115516662835855, 0.08166308670720232)"
      ]
     },
     "execution_count": 23,
     "metadata": {},
     "output_type": "execute_result"
    }
   ],
   "source": [
    "n_reject_low/data_x.shape[0], n_reject_high/data_x.shape[0]"
   ]
  },
  {
   "cell_type": "code",
   "execution_count": 24,
   "metadata": {},
   "outputs": [],
   "source": [
    "accept_data = ((data_x >= q5 - thr*iqr) & ( data_x <= q95 + thr*iqr )).all(axis=1)\n",
    "accept_mc   = ((mc_x   >= q5 - thr*iqr) & ( mc_x <= q95 + thr*iqr )).all(axis=1)\n"
   ]
  },
  {
   "cell_type": "code",
   "execution_count": 25,
   "metadata": {
    "scrolled": false
   },
   "outputs": [
    {
     "data": {
      "text/plain": [
       "0.90175595427842015"
      ]
     },
     "execution_count": 25,
     "metadata": {},
     "output_type": "execute_result"
    }
   ],
   "source": [
    "accept_data.sum() / accept_data.shape[0]"
   ]
  },
  {
   "cell_type": "code",
   "execution_count": 26,
   "metadata": {},
   "outputs": [
    {
     "data": {
      "text/plain": [
       "0.92366354581938459"
      ]
     },
     "execution_count": 26,
     "metadata": {},
     "output_type": "execute_result"
    }
   ],
   "source": [
    "accept_mc.sum() / accept_mc.shape[0]"
   ]
  },
  {
   "cell_type": "code",
   "execution_count": 27,
   "metadata": {},
   "outputs": [
    {
     "data": {
      "text/html": [
       "<div>\n",
       "<style>\n",
       "    .dataframe thead tr:only-child th {\n",
       "        text-align: right;\n",
       "    }\n",
       "\n",
       "    .dataframe thead th {\n",
       "        text-align: left;\n",
       "    }\n",
       "\n",
       "    .dataframe tbody tr th {\n",
       "        vertical-align: top;\n",
       "    }\n",
       "</style>\n",
       "<table border=\"1\" class=\"dataframe\">\n",
       "  <thead>\n",
       "    <tr style=\"text-align: right;\">\n",
       "      <th></th>\n",
       "      <th>EtaWidth</th>\n",
       "      <th>R9</th>\n",
       "      <th>SigmaIeIe</th>\n",
       "      <th>S4</th>\n",
       "      <th>PhiWidth</th>\n",
       "      <th>Pt</th>\n",
       "      <th>mass</th>\n",
       "    </tr>\n",
       "  </thead>\n",
       "  <tbody>\n",
       "    <tr>\n",
       "      <th>count</th>\n",
       "      <td>1.579896e+07</td>\n",
       "      <td>1.579896e+07</td>\n",
       "      <td>1.579896e+07</td>\n",
       "      <td>1.579896e+07</td>\n",
       "      <td>1.579896e+07</td>\n",
       "      <td>1.579896e+07</td>\n",
       "      <td>1.579896e+07</td>\n",
       "    </tr>\n",
       "    <tr>\n",
       "      <th>mean</th>\n",
       "      <td>9.268354e-03</td>\n",
       "      <td>8.386049e-01</td>\n",
       "      <td>8.820367e-03</td>\n",
       "      <td>8.238491e-01</td>\n",
       "      <td>3.153952e-02</td>\n",
       "      <td>4.207259e+01</td>\n",
       "      <td>8.992600e+01</td>\n",
       "    </tr>\n",
       "    <tr>\n",
       "      <th>std</th>\n",
       "      <td>1.864732e-03</td>\n",
       "      <td>1.414401e-01</td>\n",
       "      <td>7.066813e-04</td>\n",
       "      <td>9.966679e-02</td>\n",
       "      <td>2.186803e-02</td>\n",
       "      <td>8.649254e+00</td>\n",
       "      <td>5.025969e+00</td>\n",
       "    </tr>\n",
       "    <tr>\n",
       "      <th>min</th>\n",
       "      <td>3.180516e-03</td>\n",
       "      <td>2.238724e-01</td>\n",
       "      <td>6.309268e-03</td>\n",
       "      <td>3.990729e-01</td>\n",
       "      <td>2.515367e-03</td>\n",
       "      <td>2.500001e+01</td>\n",
       "      <td>7.418481e+01</td>\n",
       "    </tr>\n",
       "    <tr>\n",
       "      <th>25%</th>\n",
       "      <td>7.904208e-03</td>\n",
       "      <td>7.614553e-01</td>\n",
       "      <td>8.526231e-03</td>\n",
       "      <td>7.767800e-01</td>\n",
       "      <td>1.231407e-02</td>\n",
       "      <td>3.655275e+01</td>\n",
       "      <td>8.757857e+01</td>\n",
       "    </tr>\n",
       "    <tr>\n",
       "      <th>50%</th>\n",
       "      <td>9.022467e-03</td>\n",
       "      <td>8.981724e-01</td>\n",
       "      <td>8.877716e-03</td>\n",
       "      <td>8.648636e-01</td>\n",
       "      <td>2.511505e-02</td>\n",
       "      <td>4.147738e+01</td>\n",
       "      <td>8.986259e+01</td>\n",
       "    </tr>\n",
       "    <tr>\n",
       "      <th>75%</th>\n",
       "      <td>1.025073e-02</td>\n",
       "      <td>9.479191e-01</td>\n",
       "      <td>9.209416e-03</td>\n",
       "      <td>8.968247e-01</td>\n",
       "      <td>4.588537e-02</td>\n",
       "      <td>4.623204e+01</td>\n",
       "      <td>9.189102e+01</td>\n",
       "    </tr>\n",
       "    <tr>\n",
       "      <th>max</th>\n",
       "      <td>1.743610e-02</td>\n",
       "      <td>1.264299e+00</td>\n",
       "      <td>1.143475e-02</td>\n",
       "      <td>9.888741e-01</td>\n",
       "      <td>1.297113e-01</td>\n",
       "      <td>8.021244e+01</td>\n",
       "      <td>1.167986e+02</td>\n",
       "    </tr>\n",
       "  </tbody>\n",
       "</table>\n",
       "</div>"
      ],
      "text/plain": [
       "           EtaWidth            R9     SigmaIeIe            S4      PhiWidth  \\\n",
       "count  1.579896e+07  1.579896e+07  1.579896e+07  1.579896e+07  1.579896e+07   \n",
       "mean   9.268354e-03  8.386049e-01  8.820367e-03  8.238491e-01  3.153952e-02   \n",
       "std    1.864732e-03  1.414401e-01  7.066813e-04  9.966679e-02  2.186803e-02   \n",
       "min    3.180516e-03  2.238724e-01  6.309268e-03  3.990729e-01  2.515367e-03   \n",
       "25%    7.904208e-03  7.614553e-01  8.526231e-03  7.767800e-01  1.231407e-02   \n",
       "50%    9.022467e-03  8.981724e-01  8.877716e-03  8.648636e-01  2.511505e-02   \n",
       "75%    1.025073e-02  9.479191e-01  9.209416e-03  8.968247e-01  4.588537e-02   \n",
       "max    1.743610e-02  1.264299e+00  1.143475e-02  9.888741e-01  1.297113e-01   \n",
       "\n",
       "                 Pt          mass  \n",
       "count  1.579896e+07  1.579896e+07  \n",
       "mean   4.207259e+01  8.992600e+01  \n",
       "std    8.649254e+00  5.025969e+00  \n",
       "min    2.500001e+01  7.418481e+01  \n",
       "25%    3.655275e+01  8.757857e+01  \n",
       "50%    4.147738e+01  8.986259e+01  \n",
       "75%    4.623204e+01  9.189102e+01  \n",
       "max    8.021244e+01  1.167986e+02  "
      ]
     },
     "execution_count": 27,
     "metadata": {},
     "output_type": "execute_result"
    }
   ],
   "source": [
    "data_x[accept_data].describe()"
   ]
  },
  {
   "cell_type": "code",
   "execution_count": 28,
   "metadata": {},
   "outputs": [
    {
     "data": {
      "text/html": [
       "<div>\n",
       "<style>\n",
       "    .dataframe thead tr:only-child th {\n",
       "        text-align: right;\n",
       "    }\n",
       "\n",
       "    .dataframe thead th {\n",
       "        text-align: left;\n",
       "    }\n",
       "\n",
       "    .dataframe tbody tr th {\n",
       "        vertical-align: top;\n",
       "    }\n",
       "</style>\n",
       "<table border=\"1\" class=\"dataframe\">\n",
       "  <thead>\n",
       "    <tr style=\"text-align: right;\">\n",
       "      <th></th>\n",
       "      <th>EtaWidth</th>\n",
       "      <th>R9</th>\n",
       "      <th>SigmaIeIe</th>\n",
       "      <th>S4</th>\n",
       "      <th>PhiWidth</th>\n",
       "      <th>Pt</th>\n",
       "      <th>mass</th>\n",
       "    </tr>\n",
       "  </thead>\n",
       "  <tbody>\n",
       "    <tr>\n",
       "      <th>count</th>\n",
       "      <td>8.882126e+06</td>\n",
       "      <td>8.882126e+06</td>\n",
       "      <td>8.882126e+06</td>\n",
       "      <td>8.882126e+06</td>\n",
       "      <td>8.882126e+06</td>\n",
       "      <td>8.882126e+06</td>\n",
       "      <td>8.882126e+06</td>\n",
       "    </tr>\n",
       "    <tr>\n",
       "      <th>mean</th>\n",
       "      <td>8.818330e-03</td>\n",
       "      <td>8.448901e-01</td>\n",
       "      <td>8.804588e-03</td>\n",
       "      <td>8.272372e-01</td>\n",
       "      <td>2.947950e-02</td>\n",
       "      <td>4.292868e+01</td>\n",
       "      <td>8.981772e+01</td>\n",
       "    </tr>\n",
       "    <tr>\n",
       "      <th>std</th>\n",
       "      <td>1.757336e-03</td>\n",
       "      <td>1.403727e-01</td>\n",
       "      <td>6.956274e-04</td>\n",
       "      <td>9.941084e-02</td>\n",
       "      <td>2.102278e-02</td>\n",
       "      <td>1.011499e+01</td>\n",
       "      <td>4.880468e+00</td>\n",
       "    </tr>\n",
       "    <tr>\n",
       "      <th>min</th>\n",
       "      <td>3.494020e-03</td>\n",
       "      <td>2.239490e-01</td>\n",
       "      <td>6.309276e-03</td>\n",
       "      <td>3.990765e-01</td>\n",
       "      <td>1.274645e-06</td>\n",
       "      <td>2.500000e+01</td>\n",
       "      <td>7.418497e+01</td>\n",
       "    </tr>\n",
       "    <tr>\n",
       "      <th>25%</th>\n",
       "      <td>7.525684e-03</td>\n",
       "      <td>7.686972e-01</td>\n",
       "      <td>8.516723e-03</td>\n",
       "      <td>7.808938e-01</td>\n",
       "      <td>1.153630e-02</td>\n",
       "      <td>3.621817e+01</td>\n",
       "      <td>8.751510e+01</td>\n",
       "    </tr>\n",
       "    <tr>\n",
       "      <th>50%</th>\n",
       "      <td>8.555467e-03</td>\n",
       "      <td>9.048015e-01</td>\n",
       "      <td>8.871677e-03</td>\n",
       "      <td>8.683905e-01</td>\n",
       "      <td>2.247714e-02</td>\n",
       "      <td>4.169712e+01</td>\n",
       "      <td>8.983257e+01</td>\n",
       "    </tr>\n",
       "    <tr>\n",
       "      <th>75%</th>\n",
       "      <td>9.801552e-03</td>\n",
       "      <td>9.537565e-01</td>\n",
       "      <td>9.197729e-03</td>\n",
       "      <td>8.997149e-01</td>\n",
       "      <td>4.278746e-02</td>\n",
       "      <td>4.763011e+01</td>\n",
       "      <td>9.186896e+01</td>\n",
       "    </tr>\n",
       "    <tr>\n",
       "      <th>max</th>\n",
       "      <td>1.743612e-02</td>\n",
       "      <td>1.263729e+00</td>\n",
       "      <td>1.143472e-02</td>\n",
       "      <td>9.940255e-01</td>\n",
       "      <td>1.297105e-01</td>\n",
       "      <td>8.021257e+01</td>\n",
       "      <td>1.167986e+02</td>\n",
       "    </tr>\n",
       "  </tbody>\n",
       "</table>\n",
       "</div>"
      ],
      "text/plain": [
       "           EtaWidth            R9     SigmaIeIe            S4      PhiWidth  \\\n",
       "count  8.882126e+06  8.882126e+06  8.882126e+06  8.882126e+06  8.882126e+06   \n",
       "mean   8.818330e-03  8.448901e-01  8.804588e-03  8.272372e-01  2.947950e-02   \n",
       "std    1.757336e-03  1.403727e-01  6.956274e-04  9.941084e-02  2.102278e-02   \n",
       "min    3.494020e-03  2.239490e-01  6.309276e-03  3.990765e-01  1.274645e-06   \n",
       "25%    7.525684e-03  7.686972e-01  8.516723e-03  7.808938e-01  1.153630e-02   \n",
       "50%    8.555467e-03  9.048015e-01  8.871677e-03  8.683905e-01  2.247714e-02   \n",
       "75%    9.801552e-03  9.537565e-01  9.197729e-03  8.997149e-01  4.278746e-02   \n",
       "max    1.743612e-02  1.263729e+00  1.143472e-02  9.940255e-01  1.297105e-01   \n",
       "\n",
       "                 Pt          mass  \n",
       "count  8.882126e+06  8.882126e+06  \n",
       "mean   4.292868e+01  8.981772e+01  \n",
       "std    1.011499e+01  4.880468e+00  \n",
       "min    2.500000e+01  7.418497e+01  \n",
       "25%    3.621817e+01  8.751510e+01  \n",
       "50%    4.169712e+01  8.983257e+01  \n",
       "75%    4.763011e+01  9.186896e+01  \n",
       "max    8.021257e+01  1.167986e+02  "
      ]
     },
     "execution_count": 28,
     "metadata": {},
     "output_type": "execute_result"
    }
   ],
   "source": [
    "mc_x[accept_mc].describe()"
   ]
  },
  {
   "cell_type": "code",
   "execution_count": 29,
   "metadata": {},
   "outputs": [],
   "source": [
    "thr_up = q95+thr*iqr\n",
    "thr_down = q5-thr*iqr"
   ]
  },
  {
   "cell_type": "code",
   "execution_count": 30,
   "metadata": {},
   "outputs": [
    {
     "data": {
      "text/plain": [
       "EtaWidth       0.017436\n",
       "R9             1.264417\n",
       "SigmaIeIe      0.011435\n",
       "S4             1.110445\n",
       "PhiWidth       0.129713\n",
       "Pt            80.212584\n",
       "mass         116.798608\n",
       "dtype: float64"
      ]
     },
     "execution_count": 30,
     "metadata": {},
     "output_type": "execute_result"
    }
   ],
   "source": [
    "thr_up"
   ]
  },
  {
   "cell_type": "code",
   "execution_count": 31,
   "metadata": {},
   "outputs": [
    {
     "data": {
      "text/plain": [
       "EtaWidth      0.003160\n",
       "R9            0.223861\n",
       "SigmaIeIe     0.006309\n",
       "S4            0.399069\n",
       "PhiWidth     -0.043039\n",
       "Pt           13.093723\n",
       "mass         74.184792\n",
       "dtype: float64"
      ]
     },
     "execution_count": 31,
     "metadata": {},
     "output_type": "execute_result"
    }
   ],
   "source": [
    "thr_down"
   ]
  },
  {
   "cell_type": "code",
   "execution_count": 32,
   "metadata": {},
   "outputs": [],
   "source": [
    "thr_up['mass'] = 110.\n",
    "thr_down['mass'] = 70.\n",
    "thr_down['Pt'] = 25.\n",
    "thr_up['Pt'] = 100."
   ]
  },
  {
   "cell_type": "code",
   "execution_count": 33,
   "metadata": {},
   "outputs": [],
   "source": [
    "thr_up.to_hdf('cleaning_zee_m_pt_barrel.hd5','thr_up',mode='w')\n",
    "thr_down.to_hdf('cleaning_zee_m_pt_barrel.hd5','thr_down',mode='a')"
   ]
  },
  {
   "cell_type": "code",
   "execution_count": null,
   "metadata": {},
   "outputs": [],
   "source": []
  },
  {
   "cell_type": "code",
   "execution_count": 36,
   "metadata": {},
   "outputs": [
    {
     "name": "stderr",
     "output_type": "stream",
     "text": [
      "/users/musella/my-env/lib/python3.5/site-packages/ipykernel_launcher.py:7: FutureWarning: in the future, boolean array-likes will be handled as a boolean array index\n",
      "  import sys\n",
      "/users/musella/my-env/lib/python3.5/site-packages/ipykernel_launcher.py:8: FutureWarning: in the future, boolean array-likes will be handled as a boolean array index\n",
      "  \n"
     ]
    }
   ],
   "source": [
    "#data_x = data_x[accept_data]\n",
    "mc_x = mc_x[accept_mc]\n",
    "\n",
    "data_c = data_c[accept_data]\n",
    "mc_c = mc_c[accept_mc]\n",
    "\n",
    "data_w = data_w[accept_data]\n",
    "mc_w = mc_w[accept_mc]\n",
    "\n",
    "\n",
    "data_x,data_c,mc_x,mc_c,scaler_x,scaler_c = preprocessing.transform(data_x,data_c,mc_x,mc_c,FEAT_TRANSFORM)\n"
   ]
  },
  {
   "cell_type": "code",
   "execution_count": 41,
   "metadata": {
    "scrolled": false
   },
   "outputs": [
    {
     "data": {
      "image/png": "[encoded data removed]",
      "text/plain": [
       "<matplotlib.figure.Figure at 0x2b5b71ddf358>"
      ]
     },
     "metadata": {},
     "output_type": "display_data"
    },
    {
     "data": {
      "image/png": "[encoded data removed]",
      "text/plain": [
       "<matplotlib.figure.Figure at 0x2b5b7217e198>"
      ]
     },
     "metadata": {},
     "output_type": "display_data"
    },
    {
     "data": {
      "image/png": "[encoded data removed]",
      "text/plain": [
       "<matplotlib.figure.Figure at 0x2b5b7200ae10>"
      ]
     },
     "metadata": {},
     "output_type": "display_data"
    },
    {
     "data": {
      "image/png": "[encoded data removed]",
      "text/plain": [
       "<matplotlib.figure.Figure at 0x2b5b71deb7f0>"
      ]
     },
     "metadata": {},
     "output_type": "display_data"
    },
    {
     "data": {
      "image/png": "[encoded data removed]",
      "text/plain": [
       "<matplotlib.figure.Figure at 0x2b5b71d11908>"
      ]
     },
     "metadata": {},
     "output_type": "display_data"
    },
    {
     "data": {
      "image/png": "[encoded data removed]",
      "text/plain": [
       "<matplotlib.figure.Figure at 0x2b5b6e9adeb8>"
      ]
     },
     "metadata": {},
     "output_type": "display_data"
    },
    {
     "data": {
      "image/png": "[encoded data removed]",
      "text/plain": [
       "<matplotlib.figure.Figure at 0x2b5b71f87940>"
      ]
     },
     "metadata": {},
     "output_type": "display_data"
    },
    {
     "data": {
      "image/png": "[encoded data removed]",
      "text/plain": [
       "<matplotlib.figure.Figure at 0x2b5b71f7e780>"
      ]
     },
     "metadata": {},
     "output_type": "display_data"
    },
    {
     "data": {
      "image/png": "[encoded data removed]",
      "text/plain": [
       "<matplotlib.figure.Figure at 0x2b5b71d29a20>"
      ]
     },
     "metadata": {},
     "output_type": "display_data"
    }
   ],
   "source": [
    "for ix in range(len(x_names)):\n",
    "    plotting.plot_hists(data_x[:,0,ix],mc_x[:,0,ix],bins=100)#,range=[-3,3])\n",
    "    plt.xlabel(x_names[ix])\n",
    "    plt.show()\n",
    "\n",
    "for ic in range(len(c_names)):\n",
    "    plotting.plot_hists(data_c[:,0,ic],mc_c[:,0,ic],bins=100)#,range=[-3,3])\n",
    "    plt.xlabel(c_names[ic])\n",
    "    plt.show()\n"
   ]
  },
  {
   "cell_type": "code",
   "execution_count": null,
   "metadata": {},
   "outputs": [],
   "source": []
  }
 ],
 "metadata": {
  "kernelspec": {
   "display_name": "Python 3",
   "language": "python",
   "name": "python3"
  },
  "language_info": {
   "codemirror_mode": {
    "name": "ipython",
    "version": 3
   },
   "file_extension": ".py",
   "mimetype": "text/x-python",
   "name": "python",
   "nbconvert_exporter": "python",
   "pygments_lexer": "ipython3",
   "version": "3.5.2"
  }
 },
 "nbformat": 4,
 "nbformat_minor": 2
}
